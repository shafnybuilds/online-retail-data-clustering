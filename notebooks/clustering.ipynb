{
 "cells": [
  {
   "cell_type": "code",
   "execution_count": 1,
   "id": "a76ae136",
   "metadata": {},
   "outputs": [],
   "source": [
    "import pandas as pd\n",
    "import matplotlib.pyplot as plt\n",
    "import seaborn as sns\n",
    "\n",
    "from sklearn.cluster import KMeans\n",
    "from sklearn.metrics import silhouette_score\n",
    "from sklearn.preprocessing import StandardScaler\n",
    "\n",
    "\n",
    "# setting to make numbers easier to read on didplay\n",
    "pd.options.display.float_format = '{:20.2f}'.format\n",
    "\n",
    "# show all columns on output\n",
    "pd.set_option('display.max_columns', 999)"
   ]
  },
  {
   "cell_type": "markdown",
   "id": "a9264ab5",
   "metadata": {},
   "source": [
    "# Data Exploration"
   ]
  },
  {
   "cell_type": "code",
   "execution_count": 2,
   "id": "efb468a2",
   "metadata": {},
   "outputs": [
    {
     "data": {
      "application/vnd.microsoft.datawrangler.viewer.v0+json": {
       "columns": [
        {
         "name": "index",
         "rawType": "int64",
         "type": "integer"
        },
        {
         "name": "Invoice",
         "rawType": "object",
         "type": "unknown"
        },
        {
         "name": "StockCode",
         "rawType": "object",
         "type": "unknown"
        },
        {
         "name": "Description",
         "rawType": "object",
         "type": "string"
        },
        {
         "name": "Quantity",
         "rawType": "int64",
         "type": "integer"
        },
        {
         "name": "InvoiceDate",
         "rawType": "datetime64[ns]",
         "type": "datetime"
        },
        {
         "name": "Price",
         "rawType": "float64",
         "type": "float"
        },
        {
         "name": "Customer ID",
         "rawType": "float64",
         "type": "float"
        },
        {
         "name": "Country",
         "rawType": "object",
         "type": "string"
        }
       ],
       "conversionMethod": "pd.DataFrame",
       "ref": "dda74951-dec6-49ce-bbe8-f5082536864f",
       "rows": [
        [
         "0",
         "489434",
         "85048",
         "15CM CHRISTMAS GLASS BALL 20 LIGHTS",
         "12",
         "2009-12-01 07:45:00",
         "6.95",
         "13085.0",
         "United Kingdom"
        ],
        [
         "1",
         "489434",
         "79323P",
         "PINK CHERRY LIGHTS",
         "12",
         "2009-12-01 07:45:00",
         "6.75",
         "13085.0",
         "United Kingdom"
        ],
        [
         "2",
         "489434",
         "79323W",
         " WHITE CHERRY LIGHTS",
         "12",
         "2009-12-01 07:45:00",
         "6.75",
         "13085.0",
         "United Kingdom"
        ],
        [
         "3",
         "489434",
         "22041",
         "RECORD FRAME 7\" SINGLE SIZE ",
         "48",
         "2009-12-01 07:45:00",
         "2.1",
         "13085.0",
         "United Kingdom"
        ],
        [
         "4",
         "489434",
         "21232",
         "STRAWBERRY CERAMIC TRINKET BOX",
         "24",
         "2009-12-01 07:45:00",
         "1.25",
         "13085.0",
         "United Kingdom"
        ]
       ],
       "shape": {
        "columns": 8,
        "rows": 5
       }
      },
      "text/html": [
       "<div>\n",
       "<style scoped>\n",
       "    .dataframe tbody tr th:only-of-type {\n",
       "        vertical-align: middle;\n",
       "    }\n",
       "\n",
       "    .dataframe tbody tr th {\n",
       "        vertical-align: top;\n",
       "    }\n",
       "\n",
       "    .dataframe thead th {\n",
       "        text-align: right;\n",
       "    }\n",
       "</style>\n",
       "<table border=\"1\" class=\"dataframe\">\n",
       "  <thead>\n",
       "    <tr style=\"text-align: right;\">\n",
       "      <th></th>\n",
       "      <th>Invoice</th>\n",
       "      <th>StockCode</th>\n",
       "      <th>Description</th>\n",
       "      <th>Quantity</th>\n",
       "      <th>InvoiceDate</th>\n",
       "      <th>Price</th>\n",
       "      <th>Customer ID</th>\n",
       "      <th>Country</th>\n",
       "    </tr>\n",
       "  </thead>\n",
       "  <tbody>\n",
       "    <tr>\n",
       "      <th>0</th>\n",
       "      <td>489434</td>\n",
       "      <td>85048</td>\n",
       "      <td>15CM CHRISTMAS GLASS BALL 20 LIGHTS</td>\n",
       "      <td>12</td>\n",
       "      <td>2009-12-01 07:45:00</td>\n",
       "      <td>6.95</td>\n",
       "      <td>13085.00</td>\n",
       "      <td>United Kingdom</td>\n",
       "    </tr>\n",
       "    <tr>\n",
       "      <th>1</th>\n",
       "      <td>489434</td>\n",
       "      <td>79323P</td>\n",
       "      <td>PINK CHERRY LIGHTS</td>\n",
       "      <td>12</td>\n",
       "      <td>2009-12-01 07:45:00</td>\n",
       "      <td>6.75</td>\n",
       "      <td>13085.00</td>\n",
       "      <td>United Kingdom</td>\n",
       "    </tr>\n",
       "    <tr>\n",
       "      <th>2</th>\n",
       "      <td>489434</td>\n",
       "      <td>79323W</td>\n",
       "      <td>WHITE CHERRY LIGHTS</td>\n",
       "      <td>12</td>\n",
       "      <td>2009-12-01 07:45:00</td>\n",
       "      <td>6.75</td>\n",
       "      <td>13085.00</td>\n",
       "      <td>United Kingdom</td>\n",
       "    </tr>\n",
       "    <tr>\n",
       "      <th>3</th>\n",
       "      <td>489434</td>\n",
       "      <td>22041</td>\n",
       "      <td>RECORD FRAME 7\" SINGLE SIZE</td>\n",
       "      <td>48</td>\n",
       "      <td>2009-12-01 07:45:00</td>\n",
       "      <td>2.10</td>\n",
       "      <td>13085.00</td>\n",
       "      <td>United Kingdom</td>\n",
       "    </tr>\n",
       "    <tr>\n",
       "      <th>4</th>\n",
       "      <td>489434</td>\n",
       "      <td>21232</td>\n",
       "      <td>STRAWBERRY CERAMIC TRINKET BOX</td>\n",
       "      <td>24</td>\n",
       "      <td>2009-12-01 07:45:00</td>\n",
       "      <td>1.25</td>\n",
       "      <td>13085.00</td>\n",
       "      <td>United Kingdom</td>\n",
       "    </tr>\n",
       "  </tbody>\n",
       "</table>\n",
       "</div>"
      ],
      "text/plain": [
       "  Invoice StockCode                          Description  Quantity  \\\n",
       "0  489434     85048  15CM CHRISTMAS GLASS BALL 20 LIGHTS        12   \n",
       "1  489434    79323P                   PINK CHERRY LIGHTS        12   \n",
       "2  489434    79323W                  WHITE CHERRY LIGHTS        12   \n",
       "3  489434     22041         RECORD FRAME 7\" SINGLE SIZE         48   \n",
       "4  489434     21232       STRAWBERRY CERAMIC TRINKET BOX        24   \n",
       "\n",
       "          InvoiceDate                Price          Customer ID  \\\n",
       "0 2009-12-01 07:45:00                 6.95             13085.00   \n",
       "1 2009-12-01 07:45:00                 6.75             13085.00   \n",
       "2 2009-12-01 07:45:00                 6.75             13085.00   \n",
       "3 2009-12-01 07:45:00                 2.10             13085.00   \n",
       "4 2009-12-01 07:45:00                 1.25             13085.00   \n",
       "\n",
       "          Country  \n",
       "0  United Kingdom  \n",
       "1  United Kingdom  \n",
       "2  United Kingdom  \n",
       "3  United Kingdom  \n",
       "4  United Kingdom  "
      ]
     },
     "execution_count": 2,
     "metadata": {},
     "output_type": "execute_result"
    }
   ],
   "source": [
    "df = pd.read_excel(\"../data/online_retail_ii/online_retail_II.xlsx\")\n",
    "\n",
    "df.head()"
   ]
  },
  {
   "cell_type": "code",
   "execution_count": 3,
   "id": "8229e984",
   "metadata": {},
   "outputs": [
    {
     "name": "stdout",
     "output_type": "stream",
     "text": [
      "<class 'pandas.core.frame.DataFrame'>\n",
      "RangeIndex: 525461 entries, 0 to 525460\n",
      "Data columns (total 8 columns):\n",
      " #   Column       Non-Null Count   Dtype         \n",
      "---  ------       --------------   -----         \n",
      " 0   Invoice      525461 non-null  object        \n",
      " 1   StockCode    525461 non-null  object        \n",
      " 2   Description  522533 non-null  object        \n",
      " 3   Quantity     525461 non-null  int64         \n",
      " 4   InvoiceDate  525461 non-null  datetime64[ns]\n",
      " 5   Price        525461 non-null  float64       \n",
      " 6   Customer ID  417534 non-null  float64       \n",
      " 7   Country      525461 non-null  object        \n",
      "dtypes: datetime64[ns](1), float64(2), int64(1), object(4)\n",
      "memory usage: 32.1+ MB\n"
     ]
    }
   ],
   "source": [
    "df.info()"
   ]
  },
  {
   "cell_type": "code",
   "execution_count": 4,
   "id": "cd2447a4",
   "metadata": {},
   "outputs": [
    {
     "data": {
      "application/vnd.microsoft.datawrangler.viewer.v0+json": {
       "columns": [
        {
         "name": "index",
         "rawType": "object",
         "type": "string"
        },
        {
         "name": "Quantity",
         "rawType": "float64",
         "type": "float"
        },
        {
         "name": "InvoiceDate",
         "rawType": "object",
         "type": "unknown"
        },
        {
         "name": "Price",
         "rawType": "float64",
         "type": "float"
        },
        {
         "name": "Customer ID",
         "rawType": "float64",
         "type": "float"
        }
       ],
       "conversionMethod": "pd.DataFrame",
       "ref": "641e87b5-64b8-451b-9f69-bbc69ce330bc",
       "rows": [
        [
         "count",
         "525461.0",
         "525461",
         "525461.0",
         "417534.0"
        ],
        [
         "mean",
         "10.337667305470815",
         "2010-06-28 11:37:36.845017856",
         "4.688834478676819",
         "15360.645477973052"
        ],
        [
         "min",
         "-9600.0",
         "2009-12-01 07:45:00",
         "-53594.36",
         "12346.0"
        ],
        [
         "25%",
         "1.0",
         "2010-03-21 12:20:00",
         "1.25",
         "13983.0"
        ],
        [
         "50%",
         "3.0",
         "2010-07-06 09:51:00",
         "2.1",
         "15311.0"
        ],
        [
         "75%",
         "10.0",
         "2010-10-15 12:45:00",
         "4.21",
         "16799.0"
        ],
        [
         "max",
         "19152.0",
         "2010-12-09 20:01:00",
         "25111.09",
         "18287.0"
        ],
        [
         "std",
         "107.4241102687978",
         null,
         "146.1269139529265",
         "1680.8113157457144"
        ]
       ],
       "shape": {
        "columns": 4,
        "rows": 8
       }
      },
      "text/html": [
       "<div>\n",
       "<style scoped>\n",
       "    .dataframe tbody tr th:only-of-type {\n",
       "        vertical-align: middle;\n",
       "    }\n",
       "\n",
       "    .dataframe tbody tr th {\n",
       "        vertical-align: top;\n",
       "    }\n",
       "\n",
       "    .dataframe thead th {\n",
       "        text-align: right;\n",
       "    }\n",
       "</style>\n",
       "<table border=\"1\" class=\"dataframe\">\n",
       "  <thead>\n",
       "    <tr style=\"text-align: right;\">\n",
       "      <th></th>\n",
       "      <th>Quantity</th>\n",
       "      <th>InvoiceDate</th>\n",
       "      <th>Price</th>\n",
       "      <th>Customer ID</th>\n",
       "    </tr>\n",
       "  </thead>\n",
       "  <tbody>\n",
       "    <tr>\n",
       "      <th>count</th>\n",
       "      <td>525461.00</td>\n",
       "      <td>525461</td>\n",
       "      <td>525461.00</td>\n",
       "      <td>417534.00</td>\n",
       "    </tr>\n",
       "    <tr>\n",
       "      <th>mean</th>\n",
       "      <td>10.34</td>\n",
       "      <td>2010-06-28 11:37:36.845017856</td>\n",
       "      <td>4.69</td>\n",
       "      <td>15360.65</td>\n",
       "    </tr>\n",
       "    <tr>\n",
       "      <th>min</th>\n",
       "      <td>-9600.00</td>\n",
       "      <td>2009-12-01 07:45:00</td>\n",
       "      <td>-53594.36</td>\n",
       "      <td>12346.00</td>\n",
       "    </tr>\n",
       "    <tr>\n",
       "      <th>25%</th>\n",
       "      <td>1.00</td>\n",
       "      <td>2010-03-21 12:20:00</td>\n",
       "      <td>1.25</td>\n",
       "      <td>13983.00</td>\n",
       "    </tr>\n",
       "    <tr>\n",
       "      <th>50%</th>\n",
       "      <td>3.00</td>\n",
       "      <td>2010-07-06 09:51:00</td>\n",
       "      <td>2.10</td>\n",
       "      <td>15311.00</td>\n",
       "    </tr>\n",
       "    <tr>\n",
       "      <th>75%</th>\n",
       "      <td>10.00</td>\n",
       "      <td>2010-10-15 12:45:00</td>\n",
       "      <td>4.21</td>\n",
       "      <td>16799.00</td>\n",
       "    </tr>\n",
       "    <tr>\n",
       "      <th>max</th>\n",
       "      <td>19152.00</td>\n",
       "      <td>2010-12-09 20:01:00</td>\n",
       "      <td>25111.09</td>\n",
       "      <td>18287.00</td>\n",
       "    </tr>\n",
       "    <tr>\n",
       "      <th>std</th>\n",
       "      <td>107.42</td>\n",
       "      <td>NaN</td>\n",
       "      <td>146.13</td>\n",
       "      <td>1680.81</td>\n",
       "    </tr>\n",
       "  </tbody>\n",
       "</table>\n",
       "</div>"
      ],
      "text/plain": [
       "                  Quantity                    InvoiceDate  \\\n",
       "count            525461.00                         525461   \n",
       "mean                 10.34  2010-06-28 11:37:36.845017856   \n",
       "min               -9600.00            2009-12-01 07:45:00   \n",
       "25%                   1.00            2010-03-21 12:20:00   \n",
       "50%                   3.00            2010-07-06 09:51:00   \n",
       "75%                  10.00            2010-10-15 12:45:00   \n",
       "max               19152.00            2010-12-09 20:01:00   \n",
       "std                 107.42                            NaN   \n",
       "\n",
       "                     Price          Customer ID  \n",
       "count            525461.00            417534.00  \n",
       "mean                  4.69             15360.65  \n",
       "min              -53594.36             12346.00  \n",
       "25%                   1.25             13983.00  \n",
       "50%                   2.10             15311.00  \n",
       "75%                   4.21             16799.00  \n",
       "max               25111.09             18287.00  \n",
       "std                 146.13              1680.81  "
      ]
     },
     "execution_count": 4,
     "metadata": {},
     "output_type": "execute_result"
    }
   ],
   "source": [
    "df.describe()"
   ]
  },
  {
   "cell_type": "code",
   "execution_count": 5,
   "id": "f2a8e425",
   "metadata": {},
   "outputs": [
    {
     "data": {
      "application/vnd.microsoft.datawrangler.viewer.v0+json": {
       "columns": [
        {
         "name": "index",
         "rawType": "object",
         "type": "string"
        },
        {
         "name": "Invoice",
         "rawType": "int64",
         "type": "integer"
        },
        {
         "name": "StockCode",
         "rawType": "object",
         "type": "unknown"
        },
        {
         "name": "Description",
         "rawType": "object",
         "type": "unknown"
        },
        {
         "name": "Country",
         "rawType": "object",
         "type": "unknown"
        }
       ],
       "conversionMethod": "pd.DataFrame",
       "ref": "a07c81a2-e5ae-4763-8c40-4906baa906e6",
       "rows": [
        [
         "count",
         "525461",
         "525461",
         "522533",
         "525461"
        ],
        [
         "unique",
         "28816",
         "4632",
         "4681",
         "40"
        ],
        [
         "top",
         "537434",
         "85123A",
         "WHITE HANGING HEART T-LIGHT HOLDER",
         "United Kingdom"
        ],
        [
         "freq",
         "675",
         "3516",
         "3549",
         "485852"
        ]
       ],
       "shape": {
        "columns": 4,
        "rows": 4
       }
      },
      "text/html": [
       "<div>\n",
       "<style scoped>\n",
       "    .dataframe tbody tr th:only-of-type {\n",
       "        vertical-align: middle;\n",
       "    }\n",
       "\n",
       "    .dataframe tbody tr th {\n",
       "        vertical-align: top;\n",
       "    }\n",
       "\n",
       "    .dataframe thead th {\n",
       "        text-align: right;\n",
       "    }\n",
       "</style>\n",
       "<table border=\"1\" class=\"dataframe\">\n",
       "  <thead>\n",
       "    <tr style=\"text-align: right;\">\n",
       "      <th></th>\n",
       "      <th>Invoice</th>\n",
       "      <th>StockCode</th>\n",
       "      <th>Description</th>\n",
       "      <th>Country</th>\n",
       "    </tr>\n",
       "  </thead>\n",
       "  <tbody>\n",
       "    <tr>\n",
       "      <th>count</th>\n",
       "      <td>525461</td>\n",
       "      <td>525461</td>\n",
       "      <td>522533</td>\n",
       "      <td>525461</td>\n",
       "    </tr>\n",
       "    <tr>\n",
       "      <th>unique</th>\n",
       "      <td>28816</td>\n",
       "      <td>4632</td>\n",
       "      <td>4681</td>\n",
       "      <td>40</td>\n",
       "    </tr>\n",
       "    <tr>\n",
       "      <th>top</th>\n",
       "      <td>537434</td>\n",
       "      <td>85123A</td>\n",
       "      <td>WHITE HANGING HEART T-LIGHT HOLDER</td>\n",
       "      <td>United Kingdom</td>\n",
       "    </tr>\n",
       "    <tr>\n",
       "      <th>freq</th>\n",
       "      <td>675</td>\n",
       "      <td>3516</td>\n",
       "      <td>3549</td>\n",
       "      <td>485852</td>\n",
       "    </tr>\n",
       "  </tbody>\n",
       "</table>\n",
       "</div>"
      ],
      "text/plain": [
       "        Invoice StockCode                         Description         Country\n",
       "count    525461    525461                              522533          525461\n",
       "unique    28816      4632                                4681              40\n",
       "top      537434    85123A  WHITE HANGING HEART T-LIGHT HOLDER  United Kingdom\n",
       "freq        675      3516                                3549          485852"
      ]
     },
     "execution_count": 5,
     "metadata": {},
     "output_type": "execute_result"
    }
   ],
   "source": [
    "df.describe(include='O')"
   ]
  },
  {
   "cell_type": "code",
   "execution_count": 6,
   "id": "5574f432",
   "metadata": {},
   "outputs": [
    {
     "data": {
      "application/vnd.microsoft.datawrangler.viewer.v0+json": {
       "columns": [
        {
         "name": "index",
         "rawType": "int64",
         "type": "integer"
        },
        {
         "name": "Invoice",
         "rawType": "object",
         "type": "unknown"
        },
        {
         "name": "StockCode",
         "rawType": "object",
         "type": "unknown"
        },
        {
         "name": "Description",
         "rawType": "object",
         "type": "unknown"
        },
        {
         "name": "Quantity",
         "rawType": "int64",
         "type": "integer"
        },
        {
         "name": "InvoiceDate",
         "rawType": "datetime64[ns]",
         "type": "datetime"
        },
        {
         "name": "Price",
         "rawType": "float64",
         "type": "float"
        },
        {
         "name": "Customer ID",
         "rawType": "float64",
         "type": "float"
        },
        {
         "name": "Country",
         "rawType": "object",
         "type": "string"
        }
       ],
       "conversionMethod": "pd.DataFrame",
       "ref": "857015dd-ec9a-45ea-a823-5d6ea336334b",
       "rows": [
        [
         "263",
         "489464",
         "21733",
         "85123a mixed",
         "-96",
         "2009-12-01 10:52:00",
         "0.0",
         null,
         "United Kingdom"
        ],
        [
         "283",
         "489463",
         "71477",
         "short",
         "-240",
         "2009-12-01 10:52:00",
         "0.0",
         null,
         "United Kingdom"
        ],
        [
         "284",
         "489467",
         "85123A",
         "21733 mixed",
         "-192",
         "2009-12-01 10:53:00",
         "0.0",
         null,
         "United Kingdom"
        ],
        [
         "470",
         "489521",
         "21646",
         null,
         "-50",
         "2009-12-01 11:44:00",
         "0.0",
         null,
         "United Kingdom"
        ],
        [
         "577",
         "489525",
         "85226C",
         "BLUE PULL BACK RACING CAR",
         "1",
         "2009-12-01 11:49:00",
         "0.55",
         null,
         "United Kingdom"
        ]
       ],
       "shape": {
        "columns": 8,
        "rows": 5
       }
      },
      "text/html": [
       "<div>\n",
       "<style scoped>\n",
       "    .dataframe tbody tr th:only-of-type {\n",
       "        vertical-align: middle;\n",
       "    }\n",
       "\n",
       "    .dataframe tbody tr th {\n",
       "        vertical-align: top;\n",
       "    }\n",
       "\n",
       "    .dataframe thead th {\n",
       "        text-align: right;\n",
       "    }\n",
       "</style>\n",
       "<table border=\"1\" class=\"dataframe\">\n",
       "  <thead>\n",
       "    <tr style=\"text-align: right;\">\n",
       "      <th></th>\n",
       "      <th>Invoice</th>\n",
       "      <th>StockCode</th>\n",
       "      <th>Description</th>\n",
       "      <th>Quantity</th>\n",
       "      <th>InvoiceDate</th>\n",
       "      <th>Price</th>\n",
       "      <th>Customer ID</th>\n",
       "      <th>Country</th>\n",
       "    </tr>\n",
       "  </thead>\n",
       "  <tbody>\n",
       "    <tr>\n",
       "      <th>263</th>\n",
       "      <td>489464</td>\n",
       "      <td>21733</td>\n",
       "      <td>85123a mixed</td>\n",
       "      <td>-96</td>\n",
       "      <td>2009-12-01 10:52:00</td>\n",
       "      <td>0.00</td>\n",
       "      <td>NaN</td>\n",
       "      <td>United Kingdom</td>\n",
       "    </tr>\n",
       "    <tr>\n",
       "      <th>283</th>\n",
       "      <td>489463</td>\n",
       "      <td>71477</td>\n",
       "      <td>short</td>\n",
       "      <td>-240</td>\n",
       "      <td>2009-12-01 10:52:00</td>\n",
       "      <td>0.00</td>\n",
       "      <td>NaN</td>\n",
       "      <td>United Kingdom</td>\n",
       "    </tr>\n",
       "    <tr>\n",
       "      <th>284</th>\n",
       "      <td>489467</td>\n",
       "      <td>85123A</td>\n",
       "      <td>21733 mixed</td>\n",
       "      <td>-192</td>\n",
       "      <td>2009-12-01 10:53:00</td>\n",
       "      <td>0.00</td>\n",
       "      <td>NaN</td>\n",
       "      <td>United Kingdom</td>\n",
       "    </tr>\n",
       "    <tr>\n",
       "      <th>470</th>\n",
       "      <td>489521</td>\n",
       "      <td>21646</td>\n",
       "      <td>NaN</td>\n",
       "      <td>-50</td>\n",
       "      <td>2009-12-01 11:44:00</td>\n",
       "      <td>0.00</td>\n",
       "      <td>NaN</td>\n",
       "      <td>United Kingdom</td>\n",
       "    </tr>\n",
       "    <tr>\n",
       "      <th>577</th>\n",
       "      <td>489525</td>\n",
       "      <td>85226C</td>\n",
       "      <td>BLUE PULL BACK RACING CAR</td>\n",
       "      <td>1</td>\n",
       "      <td>2009-12-01 11:49:00</td>\n",
       "      <td>0.55</td>\n",
       "      <td>NaN</td>\n",
       "      <td>United Kingdom</td>\n",
       "    </tr>\n",
       "  </tbody>\n",
       "</table>\n",
       "</div>"
      ],
      "text/plain": [
       "    Invoice StockCode                Description  Quantity  \\\n",
       "263  489464     21733               85123a mixed       -96   \n",
       "283  489463     71477                      short      -240   \n",
       "284  489467    85123A                21733 mixed      -192   \n",
       "470  489521     21646                        NaN       -50   \n",
       "577  489525    85226C  BLUE PULL BACK RACING CAR         1   \n",
       "\n",
       "            InvoiceDate                Price  Customer ID         Country  \n",
       "263 2009-12-01 10:52:00                 0.00          NaN  United Kingdom  \n",
       "283 2009-12-01 10:52:00                 0.00          NaN  United Kingdom  \n",
       "284 2009-12-01 10:53:00                 0.00          NaN  United Kingdom  \n",
       "470 2009-12-01 11:44:00                 0.00          NaN  United Kingdom  \n",
       "577 2009-12-01 11:49:00                 0.55          NaN  United Kingdom  "
      ]
     },
     "execution_count": 6,
     "metadata": {},
     "output_type": "execute_result"
    }
   ],
   "source": [
    "df[df[\"Customer ID\"].isna()].head()"
   ]
  },
  {
   "cell_type": "code",
   "execution_count": 7,
   "id": "e926289f",
   "metadata": {},
   "outputs": [
    {
     "data": {
      "application/vnd.microsoft.datawrangler.viewer.v0+json": {
       "columns": [
        {
         "name": "index",
         "rawType": "int64",
         "type": "integer"
        },
        {
         "name": "Invoice",
         "rawType": "object",
         "type": "string"
        },
        {
         "name": "StockCode",
         "rawType": "object",
         "type": "unknown"
        },
        {
         "name": "Description",
         "rawType": "object",
         "type": "string"
        },
        {
         "name": "Quantity",
         "rawType": "int64",
         "type": "integer"
        },
        {
         "name": "InvoiceDate",
         "rawType": "datetime64[ns]",
         "type": "datetime"
        },
        {
         "name": "Price",
         "rawType": "float64",
         "type": "float"
        },
        {
         "name": "Customer ID",
         "rawType": "float64",
         "type": "float"
        },
        {
         "name": "Country",
         "rawType": "object",
         "type": "string"
        }
       ],
       "conversionMethod": "pd.DataFrame",
       "ref": "7965255a-02b7-4990-ab0c-0578fa6c936e",
       "rows": [
        [
         "178",
         "C489449",
         "22087",
         "PAPER BUNTING WHITE LACE",
         "-12",
         "2009-12-01 10:33:00",
         "2.95",
         "16321.0",
         "Australia"
        ],
        [
         "179",
         "C489449",
         "85206A",
         "CREAM FELT EASTER EGG BASKET",
         "-6",
         "2009-12-01 10:33:00",
         "1.65",
         "16321.0",
         "Australia"
        ],
        [
         "180",
         "C489449",
         "21895",
         "POTTING SHED SOW 'N' GROW SET",
         "-4",
         "2009-12-01 10:33:00",
         "4.25",
         "16321.0",
         "Australia"
        ],
        [
         "181",
         "C489449",
         "21896",
         "POTTING SHED TWINE",
         "-6",
         "2009-12-01 10:33:00",
         "2.1",
         "16321.0",
         "Australia"
        ],
        [
         "182",
         "C489449",
         "22083",
         "PAPER CHAIN KIT RETRO SPOT",
         "-12",
         "2009-12-01 10:33:00",
         "2.95",
         "16321.0",
         "Australia"
        ],
        [
         "183",
         "C489449",
         "21871",
         "SAVE THE PLANET MUG",
         "-12",
         "2009-12-01 10:33:00",
         "1.25",
         "16321.0",
         "Australia"
        ],
        [
         "184",
         "C489449",
         "84946",
         "ANTIQUE SILVER TEA GLASS ETCHED",
         "-12",
         "2009-12-01 10:33:00",
         "1.25",
         "16321.0",
         "Australia"
        ],
        [
         "185",
         "C489449",
         "84970S",
         "HANGING HEART ZINC T-LIGHT HOLDER",
         "-24",
         "2009-12-01 10:33:00",
         "0.85",
         "16321.0",
         "Australia"
        ],
        [
         "186",
         "C489449",
         "22090",
         "PAPER BUNTING RETRO SPOTS",
         "-12",
         "2009-12-01 10:33:00",
         "2.95",
         "16321.0",
         "Australia"
        ],
        [
         "196",
         "C489459",
         "90200A",
         "PURPLE SWEETHEART BRACELET",
         "-3",
         "2009-12-01 10:44:00",
         "4.25",
         "17592.0",
         "United Kingdom"
        ]
       ],
       "shape": {
        "columns": 8,
        "rows": 10
       }
      },
      "text/html": [
       "<div>\n",
       "<style scoped>\n",
       "    .dataframe tbody tr th:only-of-type {\n",
       "        vertical-align: middle;\n",
       "    }\n",
       "\n",
       "    .dataframe tbody tr th {\n",
       "        vertical-align: top;\n",
       "    }\n",
       "\n",
       "    .dataframe thead th {\n",
       "        text-align: right;\n",
       "    }\n",
       "</style>\n",
       "<table border=\"1\" class=\"dataframe\">\n",
       "  <thead>\n",
       "    <tr style=\"text-align: right;\">\n",
       "      <th></th>\n",
       "      <th>Invoice</th>\n",
       "      <th>StockCode</th>\n",
       "      <th>Description</th>\n",
       "      <th>Quantity</th>\n",
       "      <th>InvoiceDate</th>\n",
       "      <th>Price</th>\n",
       "      <th>Customer ID</th>\n",
       "      <th>Country</th>\n",
       "    </tr>\n",
       "  </thead>\n",
       "  <tbody>\n",
       "    <tr>\n",
       "      <th>178</th>\n",
       "      <td>C489449</td>\n",
       "      <td>22087</td>\n",
       "      <td>PAPER BUNTING WHITE LACE</td>\n",
       "      <td>-12</td>\n",
       "      <td>2009-12-01 10:33:00</td>\n",
       "      <td>2.95</td>\n",
       "      <td>16321.00</td>\n",
       "      <td>Australia</td>\n",
       "    </tr>\n",
       "    <tr>\n",
       "      <th>179</th>\n",
       "      <td>C489449</td>\n",
       "      <td>85206A</td>\n",
       "      <td>CREAM FELT EASTER EGG BASKET</td>\n",
       "      <td>-6</td>\n",
       "      <td>2009-12-01 10:33:00</td>\n",
       "      <td>1.65</td>\n",
       "      <td>16321.00</td>\n",
       "      <td>Australia</td>\n",
       "    </tr>\n",
       "    <tr>\n",
       "      <th>180</th>\n",
       "      <td>C489449</td>\n",
       "      <td>21895</td>\n",
       "      <td>POTTING SHED SOW 'N' GROW SET</td>\n",
       "      <td>-4</td>\n",
       "      <td>2009-12-01 10:33:00</td>\n",
       "      <td>4.25</td>\n",
       "      <td>16321.00</td>\n",
       "      <td>Australia</td>\n",
       "    </tr>\n",
       "    <tr>\n",
       "      <th>181</th>\n",
       "      <td>C489449</td>\n",
       "      <td>21896</td>\n",
       "      <td>POTTING SHED TWINE</td>\n",
       "      <td>-6</td>\n",
       "      <td>2009-12-01 10:33:00</td>\n",
       "      <td>2.10</td>\n",
       "      <td>16321.00</td>\n",
       "      <td>Australia</td>\n",
       "    </tr>\n",
       "    <tr>\n",
       "      <th>182</th>\n",
       "      <td>C489449</td>\n",
       "      <td>22083</td>\n",
       "      <td>PAPER CHAIN KIT RETRO SPOT</td>\n",
       "      <td>-12</td>\n",
       "      <td>2009-12-01 10:33:00</td>\n",
       "      <td>2.95</td>\n",
       "      <td>16321.00</td>\n",
       "      <td>Australia</td>\n",
       "    </tr>\n",
       "    <tr>\n",
       "      <th>183</th>\n",
       "      <td>C489449</td>\n",
       "      <td>21871</td>\n",
       "      <td>SAVE THE PLANET MUG</td>\n",
       "      <td>-12</td>\n",
       "      <td>2009-12-01 10:33:00</td>\n",
       "      <td>1.25</td>\n",
       "      <td>16321.00</td>\n",
       "      <td>Australia</td>\n",
       "    </tr>\n",
       "    <tr>\n",
       "      <th>184</th>\n",
       "      <td>C489449</td>\n",
       "      <td>84946</td>\n",
       "      <td>ANTIQUE SILVER TEA GLASS ETCHED</td>\n",
       "      <td>-12</td>\n",
       "      <td>2009-12-01 10:33:00</td>\n",
       "      <td>1.25</td>\n",
       "      <td>16321.00</td>\n",
       "      <td>Australia</td>\n",
       "    </tr>\n",
       "    <tr>\n",
       "      <th>185</th>\n",
       "      <td>C489449</td>\n",
       "      <td>84970S</td>\n",
       "      <td>HANGING HEART ZINC T-LIGHT HOLDER</td>\n",
       "      <td>-24</td>\n",
       "      <td>2009-12-01 10:33:00</td>\n",
       "      <td>0.85</td>\n",
       "      <td>16321.00</td>\n",
       "      <td>Australia</td>\n",
       "    </tr>\n",
       "    <tr>\n",
       "      <th>186</th>\n",
       "      <td>C489449</td>\n",
       "      <td>22090</td>\n",
       "      <td>PAPER BUNTING RETRO SPOTS</td>\n",
       "      <td>-12</td>\n",
       "      <td>2009-12-01 10:33:00</td>\n",
       "      <td>2.95</td>\n",
       "      <td>16321.00</td>\n",
       "      <td>Australia</td>\n",
       "    </tr>\n",
       "    <tr>\n",
       "      <th>196</th>\n",
       "      <td>C489459</td>\n",
       "      <td>90200A</td>\n",
       "      <td>PURPLE SWEETHEART BRACELET</td>\n",
       "      <td>-3</td>\n",
       "      <td>2009-12-01 10:44:00</td>\n",
       "      <td>4.25</td>\n",
       "      <td>17592.00</td>\n",
       "      <td>United Kingdom</td>\n",
       "    </tr>\n",
       "  </tbody>\n",
       "</table>\n",
       "</div>"
      ],
      "text/plain": [
       "     Invoice StockCode                        Description  Quantity  \\\n",
       "178  C489449     22087           PAPER BUNTING WHITE LACE       -12   \n",
       "179  C489449    85206A       CREAM FELT EASTER EGG BASKET        -6   \n",
       "180  C489449     21895      POTTING SHED SOW 'N' GROW SET        -4   \n",
       "181  C489449     21896                 POTTING SHED TWINE        -6   \n",
       "182  C489449     22083         PAPER CHAIN KIT RETRO SPOT       -12   \n",
       "183  C489449     21871                SAVE THE PLANET MUG       -12   \n",
       "184  C489449     84946    ANTIQUE SILVER TEA GLASS ETCHED       -12   \n",
       "185  C489449    84970S  HANGING HEART ZINC T-LIGHT HOLDER       -24   \n",
       "186  C489449     22090          PAPER BUNTING RETRO SPOTS       -12   \n",
       "196  C489459    90200A         PURPLE SWEETHEART BRACELET        -3   \n",
       "\n",
       "            InvoiceDate                Price          Customer ID  \\\n",
       "178 2009-12-01 10:33:00                 2.95             16321.00   \n",
       "179 2009-12-01 10:33:00                 1.65             16321.00   \n",
       "180 2009-12-01 10:33:00                 4.25             16321.00   \n",
       "181 2009-12-01 10:33:00                 2.10             16321.00   \n",
       "182 2009-12-01 10:33:00                 2.95             16321.00   \n",
       "183 2009-12-01 10:33:00                 1.25             16321.00   \n",
       "184 2009-12-01 10:33:00                 1.25             16321.00   \n",
       "185 2009-12-01 10:33:00                 0.85             16321.00   \n",
       "186 2009-12-01 10:33:00                 2.95             16321.00   \n",
       "196 2009-12-01 10:44:00                 4.25             17592.00   \n",
       "\n",
       "            Country  \n",
       "178       Australia  \n",
       "179       Australia  \n",
       "180       Australia  \n",
       "181       Australia  \n",
       "182       Australia  \n",
       "183       Australia  \n",
       "184       Australia  \n",
       "185       Australia  \n",
       "186       Australia  \n",
       "196  United Kingdom  "
      ]
     },
     "execution_count": 7,
     "metadata": {},
     "output_type": "execute_result"
    }
   ],
   "source": [
    "df[df[\"Quantity\"] < 0].head(10)"
   ]
  },
  {
   "cell_type": "code",
   "execution_count": 8,
   "id": "1d944d82",
   "metadata": {},
   "outputs": [
    {
     "data": {
      "application/vnd.microsoft.datawrangler.viewer.v0+json": {
       "columns": [
        {
         "name": "index",
         "rawType": "int64",
         "type": "integer"
        },
        {
         "name": "Invoice",
         "rawType": "object",
         "type": "string"
        },
        {
         "name": "StockCode",
         "rawType": "object",
         "type": "unknown"
        },
        {
         "name": "Description",
         "rawType": "object",
         "type": "string"
        },
        {
         "name": "Quantity",
         "rawType": "int64",
         "type": "integer"
        },
        {
         "name": "InvoiceDate",
         "rawType": "datetime64[ns]",
         "type": "datetime"
        },
        {
         "name": "Price",
         "rawType": "float64",
         "type": "float"
        },
        {
         "name": "Customer ID",
         "rawType": "float64",
         "type": "float"
        },
        {
         "name": "Country",
         "rawType": "object",
         "type": "string"
        }
       ],
       "conversionMethod": "pd.DataFrame",
       "ref": "f2d8a066-e194-492a-ad06-2c0faf1af99a",
       "rows": [
        [
         "178",
         "C489449",
         "22087",
         "PAPER BUNTING WHITE LACE",
         "-12",
         "2009-12-01 10:33:00",
         "2.95",
         "16321.0",
         "Australia"
        ],
        [
         "179",
         "C489449",
         "85206A",
         "CREAM FELT EASTER EGG BASKET",
         "-6",
         "2009-12-01 10:33:00",
         "1.65",
         "16321.0",
         "Australia"
        ],
        [
         "180",
         "C489449",
         "21895",
         "POTTING SHED SOW 'N' GROW SET",
         "-4",
         "2009-12-01 10:33:00",
         "4.25",
         "16321.0",
         "Australia"
        ],
        [
         "181",
         "C489449",
         "21896",
         "POTTING SHED TWINE",
         "-6",
         "2009-12-01 10:33:00",
         "2.1",
         "16321.0",
         "Australia"
        ],
        [
         "182",
         "C489449",
         "22083",
         "PAPER CHAIN KIT RETRO SPOT",
         "-12",
         "2009-12-01 10:33:00",
         "2.95",
         "16321.0",
         "Australia"
        ],
        [
         "183",
         "C489449",
         "21871",
         "SAVE THE PLANET MUG",
         "-12",
         "2009-12-01 10:33:00",
         "1.25",
         "16321.0",
         "Australia"
        ],
        [
         "184",
         "C489449",
         "84946",
         "ANTIQUE SILVER TEA GLASS ETCHED",
         "-12",
         "2009-12-01 10:33:00",
         "1.25",
         "16321.0",
         "Australia"
        ],
        [
         "185",
         "C489449",
         "84970S",
         "HANGING HEART ZINC T-LIGHT HOLDER",
         "-24",
         "2009-12-01 10:33:00",
         "0.85",
         "16321.0",
         "Australia"
        ],
        [
         "186",
         "C489449",
         "22090",
         "PAPER BUNTING RETRO SPOTS",
         "-12",
         "2009-12-01 10:33:00",
         "2.95",
         "16321.0",
         "Australia"
        ],
        [
         "196",
         "C489459",
         "90200A",
         "PURPLE SWEETHEART BRACELET",
         "-3",
         "2009-12-01 10:44:00",
         "4.25",
         "17592.0",
         "United Kingdom"
        ],
        [
         "197",
         "C489459",
         "90200D",
         "PINK SWEETHEART BRACELET",
         "-3",
         "2009-12-01 10:44:00",
         "4.25",
         "17592.0",
         "United Kingdom"
        ],
        [
         "198",
         "C489459",
         "90200B",
         "BLACK SWEETHEART BRACELET",
         "-3",
         "2009-12-01 10:44:00",
         "4.25",
         "17592.0",
         "United Kingdom"
        ],
        [
         "199",
         "C489459",
         "90200E",
         "GREEN SWEETHEART BRACELET",
         "-3",
         "2009-12-01 10:44:00",
         "4.25",
         "17592.0",
         "United Kingdom"
        ],
        [
         "200",
         "C489459",
         "90200C",
         "BLUE SWEETHEART BRACELET",
         "-3",
         "2009-12-01 10:44:00",
         "4.25",
         "17592.0",
         "United Kingdom"
        ],
        [
         "201",
         "C489459",
         "90185C",
         "BLACK DIAMANTE EXPANDABLE RING",
         "-3",
         "2009-12-01 10:44:00",
         "4.25",
         "17592.0",
         "United Kingdom"
        ],
        [
         "202",
         "C489459",
         "90185B",
         "AMETHYST DIAMANTE EXPANDABLE RING",
         "-3",
         "2009-12-01 10:44:00",
         "4.25",
         "17592.0",
         "United Kingdom"
        ],
        [
         "203",
         "C489459",
         "90003C",
         "MIDNIGHT BLUE PAIR HEART HAIR SLIDE",
         "-3",
         "2009-12-01 10:44:00",
         "3.75",
         "17592.0",
         "United Kingdom"
        ],
        [
         "204",
         "C489459",
         "90003D",
         "CRYSTAL PAIR HEART HAIR SLIDES",
         "-3",
         "2009-12-01 10:44:00",
         "3.75",
         "17592.0",
         "United Kingdom"
        ],
        [
         "205",
         "C489459",
         "90003B",
         "ROSE COLOUR PAIR HEART HAIR SLIDES",
         "-3",
         "2009-12-01 10:44:00",
         "3.75",
         "17592.0",
         "United Kingdom"
        ],
        [
         "206",
         "C489459",
         "90209C",
         "PINK ENAMEL+GLASS HAIR COMB",
         "-3",
         "2009-12-01 10:44:00",
         "2.1",
         "17592.0",
         "United Kingdom"
        ],
        [
         "207",
         "C489459",
         "90209A",
         "PURPLE ENAMEL+GLASS HAIR COMB",
         "-3",
         "2009-12-01 10:44:00",
         "2.1",
         "17592.0",
         "United Kingdom"
        ],
        [
         "208",
         "C489459",
         "90082D",
         "DIAMANTE BOW BROOCH BLACK COLOUR",
         "-2",
         "2009-12-01 10:44:00",
         "6.35",
         "17592.0",
         "United Kingdom"
        ],
        [
         "285",
         "C489476",
         "22149",
         "FELTCRAFT 6 FLOWER FRIENDS",
         "-6",
         "2009-12-01 10:55:00",
         "2.1",
         "13293.0",
         "United Kingdom"
        ],
        [
         "316",
         "C489503",
         "21540",
         "DAIRY MAID CERAMIC BUTTER DISH",
         "-2",
         "2009-12-01 11:04:00",
         "4.25",
         "16011.0",
         "United Kingdom"
        ],
        [
         "317",
         "C489503",
         "21533",
         "RETRO SPOT LARGE MILK JUG",
         "-1",
         "2009-12-01 11:04:00",
         "4.95",
         "16011.0",
         "United Kingdom"
        ],
        [
         "318",
         "C489504",
         "85083",
         "KISS REINDEER SCANDINAVIAN STOCKING",
         "-6",
         "2009-12-01 11:10:00",
         "2.55",
         "13916.0",
         "United Kingdom"
        ],
        [
         "399",
         "C489518",
         "20892",
         "SET/3 TALL GLASS CANDLE HOLDER PINK",
         "-2",
         "2009-12-01 11:35:00",
         "12.75",
         "15461.0",
         "United Kingdom"
        ],
        [
         "400",
         "C489518",
         "85048",
         "15CM CHRISTMAS GLASS BALL 20 LIGHTS",
         "-1",
         "2009-12-01 11:35:00",
         "7.95",
         "15461.0",
         "United Kingdom"
        ],
        [
         "401",
         "C489518",
         "22138",
         "BAKING SET 9 PIECE RETROSPOT ",
         "-1",
         "2009-12-01 11:35:00",
         "4.95",
         "15461.0",
         "United Kingdom"
        ],
        [
         "576",
         "C489524",
         "21258",
         "VICTORIAN SEWING BOX LARGE",
         "-1",
         "2009-12-01 11:48:00",
         "12.75",
         "15614.0",
         "United Kingdom"
        ],
        [
         "589",
         "C489527",
         "21041",
         "RED SPOTTY OVEN GLOVE DOUBLE",
         "-3",
         "2009-12-01 11:50:00",
         "2.95",
         "16128.0",
         "United Kingdom"
        ],
        [
         "590",
         "C489527",
         "21173",
         "LOO ROLL  METAL SIGN ",
         "-12",
         "2009-12-01 11:50:00",
         "1.65",
         "16128.0",
         "United Kingdom"
        ],
        [
         "591",
         "C489527",
         "85124A",
         "PINK JUICY FRUIT PHOTO FRAME",
         "-6",
         "2009-12-01 11:50:00",
         "2.55",
         "16128.0",
         "United Kingdom"
        ],
        [
         "626",
         "C489528",
         "85048",
         "15CM CHRISTMAS GLASS BALL 20 LIGHTS",
         "-1",
         "2009-12-01 11:50:00",
         "7.95",
         "16714.0",
         "United Kingdom"
        ],
        [
         "677",
         "C489530",
         "72803A",
         "ROSE SCENT CANDLE JEWELLED DRAWER",
         "-1",
         "2009-12-01 11:56:00",
         "4.25",
         "14748.0",
         "United Kingdom"
        ],
        [
         "734",
         "C489534",
         "35832",
         "WOOLLY HAT SOCK GLOVE ADVENT STRING",
         "-1",
         "2009-12-01 12:09:00",
         "5.95",
         "12615.0",
         "France"
        ],
        [
         "735",
         "C489535",
         "D",
         "Discount",
         "-1",
         "2009-12-01 12:11:00",
         "9.0",
         "15299.0",
         "United Kingdom"
        ],
        [
         "736",
         "C489535",
         "D",
         "Discount",
         "-1",
         "2009-12-01 12:11:00",
         "19.0",
         "15299.0",
         "United Kingdom"
        ],
        [
         "926",
         "C489538",
         "22183",
         "CAKE STAND VICTORIAN FILIGREE MED",
         "-4",
         "2009-12-01 12:18:00",
         "6.75",
         "15796.0",
         "United Kingdom"
        ],
        [
         "927",
         "C489538",
         "POST",
         "POSTAGE",
         "-1",
         "2009-12-01 12:18:00",
         "9.58",
         "15796.0",
         "United Kingdom"
        ],
        [
         "933",
         "C489541",
         "21254",
         "SET OF KITCHEN WALL  STICKERS",
         "-4",
         "2009-12-01 12:18:00",
         "2.95",
         "15091.0",
         "United Kingdom"
        ],
        [
         "953",
         "C489543",
         "35400",
         "WOODEN BOX ADVENT CALENDAR ",
         "-2",
         "2009-12-01 12:19:00",
         "8.95",
         "14292.0",
         "United Kingdom"
        ],
        [
         "1110",
         "C489549",
         "35400",
         "WOODEN BOX ADVENT CALENDAR ",
         "-2",
         "2009-12-01 12:33:00",
         "7.95",
         "13768.0",
         "United Kingdom"
        ],
        [
         "1134",
         "C489551",
         "85048",
         "15CM CHRISTMAS GLASS BALL 20 LIGHTS",
         "-1",
         "2009-12-01 12:35:00",
         "6.95",
         "17641.0",
         "United Kingdom"
        ],
        [
         "1160",
         "C489553",
         "35004S",
         "SET OF 3 SILVER FLYING DUCKS",
         "-1",
         "2009-12-01 12:41:00",
         "6.35",
         "13545.0",
         "United Kingdom"
        ],
        [
         "1161",
         "C489553",
         "35001W",
         "HAND OPEN SHAPE DECO.WHITE",
         "-6",
         "2009-12-01 12:41:00",
         "3.49",
         "13545.0",
         "United Kingdom"
        ],
        [
         "1162",
         "C489554",
         "85042",
         "ANTIQUE LILY FAIRY LIGHTS",
         "-3",
         "2009-12-01 12:43:00",
         "4.25",
         "13767.0",
         "United Kingdom"
        ],
        [
         "1163",
         "C489554",
         "35001B",
         "HAND OPEN SHAPE BLACK",
         "-2",
         "2009-12-01 12:43:00",
         "2.95",
         "13767.0",
         "United Kingdom"
        ],
        [
         "1164",
         "C489555",
         "21260",
         "FIRST AID TIN",
         "-6",
         "2009-12-01 12:44:00",
         "3.25",
         "16955.0",
         "United Kingdom"
        ],
        [
         "1353",
         "C489563",
         "90088",
         "CRYSTAL KEY+LOCK PHONE CHARM",
         "-24",
         "2009-12-01 13:09:00",
         "0.85",
         "13526.0",
         "United Kingdom"
        ]
       ],
       "shape": {
        "columns": 8,
        "rows": 10209
       }
      },
      "text/html": [
       "<div>\n",
       "<style scoped>\n",
       "    .dataframe tbody tr th:only-of-type {\n",
       "        vertical-align: middle;\n",
       "    }\n",
       "\n",
       "    .dataframe tbody tr th {\n",
       "        vertical-align: top;\n",
       "    }\n",
       "\n",
       "    .dataframe thead th {\n",
       "        text-align: right;\n",
       "    }\n",
       "</style>\n",
       "<table border=\"1\" class=\"dataframe\">\n",
       "  <thead>\n",
       "    <tr style=\"text-align: right;\">\n",
       "      <th></th>\n",
       "      <th>Invoice</th>\n",
       "      <th>StockCode</th>\n",
       "      <th>Description</th>\n",
       "      <th>Quantity</th>\n",
       "      <th>InvoiceDate</th>\n",
       "      <th>Price</th>\n",
       "      <th>Customer ID</th>\n",
       "      <th>Country</th>\n",
       "    </tr>\n",
       "  </thead>\n",
       "  <tbody>\n",
       "    <tr>\n",
       "      <th>178</th>\n",
       "      <td>C489449</td>\n",
       "      <td>22087</td>\n",
       "      <td>PAPER BUNTING WHITE LACE</td>\n",
       "      <td>-12</td>\n",
       "      <td>2009-12-01 10:33:00</td>\n",
       "      <td>2.95</td>\n",
       "      <td>16321.00</td>\n",
       "      <td>Australia</td>\n",
       "    </tr>\n",
       "    <tr>\n",
       "      <th>179</th>\n",
       "      <td>C489449</td>\n",
       "      <td>85206A</td>\n",
       "      <td>CREAM FELT EASTER EGG BASKET</td>\n",
       "      <td>-6</td>\n",
       "      <td>2009-12-01 10:33:00</td>\n",
       "      <td>1.65</td>\n",
       "      <td>16321.00</td>\n",
       "      <td>Australia</td>\n",
       "    </tr>\n",
       "    <tr>\n",
       "      <th>180</th>\n",
       "      <td>C489449</td>\n",
       "      <td>21895</td>\n",
       "      <td>POTTING SHED SOW 'N' GROW SET</td>\n",
       "      <td>-4</td>\n",
       "      <td>2009-12-01 10:33:00</td>\n",
       "      <td>4.25</td>\n",
       "      <td>16321.00</td>\n",
       "      <td>Australia</td>\n",
       "    </tr>\n",
       "    <tr>\n",
       "      <th>181</th>\n",
       "      <td>C489449</td>\n",
       "      <td>21896</td>\n",
       "      <td>POTTING SHED TWINE</td>\n",
       "      <td>-6</td>\n",
       "      <td>2009-12-01 10:33:00</td>\n",
       "      <td>2.10</td>\n",
       "      <td>16321.00</td>\n",
       "      <td>Australia</td>\n",
       "    </tr>\n",
       "    <tr>\n",
       "      <th>182</th>\n",
       "      <td>C489449</td>\n",
       "      <td>22083</td>\n",
       "      <td>PAPER CHAIN KIT RETRO SPOT</td>\n",
       "      <td>-12</td>\n",
       "      <td>2009-12-01 10:33:00</td>\n",
       "      <td>2.95</td>\n",
       "      <td>16321.00</td>\n",
       "      <td>Australia</td>\n",
       "    </tr>\n",
       "    <tr>\n",
       "      <th>...</th>\n",
       "      <td>...</td>\n",
       "      <td>...</td>\n",
       "      <td>...</td>\n",
       "      <td>...</td>\n",
       "      <td>...</td>\n",
       "      <td>...</td>\n",
       "      <td>...</td>\n",
       "      <td>...</td>\n",
       "    </tr>\n",
       "    <tr>\n",
       "      <th>524695</th>\n",
       "      <td>C538123</td>\n",
       "      <td>22956</td>\n",
       "      <td>36 FOIL HEART CAKE CASES</td>\n",
       "      <td>-2</td>\n",
       "      <td>2010-12-09 15:41:00</td>\n",
       "      <td>2.10</td>\n",
       "      <td>12605.00</td>\n",
       "      <td>Germany</td>\n",
       "    </tr>\n",
       "    <tr>\n",
       "      <th>524696</th>\n",
       "      <td>C538124</td>\n",
       "      <td>M</td>\n",
       "      <td>Manual</td>\n",
       "      <td>-4</td>\n",
       "      <td>2010-12-09 15:43:00</td>\n",
       "      <td>0.50</td>\n",
       "      <td>15329.00</td>\n",
       "      <td>United Kingdom</td>\n",
       "    </tr>\n",
       "    <tr>\n",
       "      <th>524697</th>\n",
       "      <td>C538124</td>\n",
       "      <td>22699</td>\n",
       "      <td>ROSES REGENCY TEACUP AND SAUCER</td>\n",
       "      <td>-1</td>\n",
       "      <td>2010-12-09 15:43:00</td>\n",
       "      <td>2.95</td>\n",
       "      <td>15329.00</td>\n",
       "      <td>United Kingdom</td>\n",
       "    </tr>\n",
       "    <tr>\n",
       "      <th>524698</th>\n",
       "      <td>C538124</td>\n",
       "      <td>22423</td>\n",
       "      <td>REGENCY CAKESTAND 3 TIER</td>\n",
       "      <td>-1</td>\n",
       "      <td>2010-12-09 15:43:00</td>\n",
       "      <td>12.75</td>\n",
       "      <td>15329.00</td>\n",
       "      <td>United Kingdom</td>\n",
       "    </tr>\n",
       "    <tr>\n",
       "      <th>525282</th>\n",
       "      <td>C538164</td>\n",
       "      <td>35004B</td>\n",
       "      <td>SET OF 3 BLACK FLYING DUCKS</td>\n",
       "      <td>-1</td>\n",
       "      <td>2010-12-09 17:32:00</td>\n",
       "      <td>1.95</td>\n",
       "      <td>14031.00</td>\n",
       "      <td>United Kingdom</td>\n",
       "    </tr>\n",
       "  </tbody>\n",
       "</table>\n",
       "<p>10209 rows × 8 columns</p>\n",
       "</div>"
      ],
      "text/plain": [
       "        Invoice StockCode                       Description  Quantity  \\\n",
       "178     C489449     22087          PAPER BUNTING WHITE LACE       -12   \n",
       "179     C489449    85206A      CREAM FELT EASTER EGG BASKET        -6   \n",
       "180     C489449     21895     POTTING SHED SOW 'N' GROW SET        -4   \n",
       "181     C489449     21896                POTTING SHED TWINE        -6   \n",
       "182     C489449     22083        PAPER CHAIN KIT RETRO SPOT       -12   \n",
       "...         ...       ...                               ...       ...   \n",
       "524695  C538123     22956          36 FOIL HEART CAKE CASES        -2   \n",
       "524696  C538124         M                            Manual        -4   \n",
       "524697  C538124     22699  ROSES REGENCY TEACUP AND SAUCER         -1   \n",
       "524698  C538124     22423          REGENCY CAKESTAND 3 TIER        -1   \n",
       "525282  C538164    35004B       SET OF 3 BLACK FLYING DUCKS        -1   \n",
       "\n",
       "               InvoiceDate                Price          Customer ID  \\\n",
       "178    2009-12-01 10:33:00                 2.95             16321.00   \n",
       "179    2009-12-01 10:33:00                 1.65             16321.00   \n",
       "180    2009-12-01 10:33:00                 4.25             16321.00   \n",
       "181    2009-12-01 10:33:00                 2.10             16321.00   \n",
       "182    2009-12-01 10:33:00                 2.95             16321.00   \n",
       "...                    ...                  ...                  ...   \n",
       "524695 2010-12-09 15:41:00                 2.10             12605.00   \n",
       "524696 2010-12-09 15:43:00                 0.50             15329.00   \n",
       "524697 2010-12-09 15:43:00                 2.95             15329.00   \n",
       "524698 2010-12-09 15:43:00                12.75             15329.00   \n",
       "525282 2010-12-09 17:32:00                 1.95             14031.00   \n",
       "\n",
       "               Country  \n",
       "178          Australia  \n",
       "179          Australia  \n",
       "180          Australia  \n",
       "181          Australia  \n",
       "182          Australia  \n",
       "...                ...  \n",
       "524695         Germany  \n",
       "524696  United Kingdom  \n",
       "524697  United Kingdom  \n",
       "524698  United Kingdom  \n",
       "525282  United Kingdom  \n",
       "\n",
       "[10209 rows x 8 columns]"
      ]
     },
     "execution_count": 8,
     "metadata": {},
     "output_type": "execute_result"
    }
   ],
   "source": [
    "df[\"Invoice\"] = df[\"Invoice\"].astype(\"str\")\n",
    "df[df[\"Invoice\"].str.match(\"^\\\\d{6}$\") == False]"
   ]
  },
  {
   "cell_type": "code",
   "execution_count": 9,
   "id": "c46704c7",
   "metadata": {},
   "outputs": [
    {
     "data": {
      "text/plain": [
       "array(['', 'C', 'A'], dtype=object)"
      ]
     },
     "execution_count": 9,
     "metadata": {},
     "output_type": "execute_result"
    }
   ],
   "source": [
    "df[\"Invoice\"].str.replace(\"[0-9]\", \"\", regex=True).unique()"
   ]
  },
  {
   "cell_type": "code",
   "execution_count": 10,
   "id": "f4d7f4fc",
   "metadata": {},
   "outputs": [
    {
     "data": {
      "application/vnd.microsoft.datawrangler.viewer.v0+json": {
       "columns": [
        {
         "name": "index",
         "rawType": "int64",
         "type": "integer"
        },
        {
         "name": "Invoice",
         "rawType": "object",
         "type": "string"
        },
        {
         "name": "StockCode",
         "rawType": "object",
         "type": "string"
        },
        {
         "name": "Description",
         "rawType": "object",
         "type": "string"
        },
        {
         "name": "Quantity",
         "rawType": "int64",
         "type": "integer"
        },
        {
         "name": "InvoiceDate",
         "rawType": "datetime64[ns]",
         "type": "datetime"
        },
        {
         "name": "Price",
         "rawType": "float64",
         "type": "float"
        },
        {
         "name": "Customer ID",
         "rawType": "float64",
         "type": "float"
        },
        {
         "name": "Country",
         "rawType": "object",
         "type": "string"
        }
       ],
       "conversionMethod": "pd.DataFrame",
       "ref": "7f9c2046-fab9-48d3-9515-a59cc89d8b47",
       "rows": [
        [
         "179403",
         "A506401",
         "B",
         "Adjust bad debt",
         "1",
         "2010-04-29 13:36:00",
         "-53594.36",
         null,
         "United Kingdom"
        ],
        [
         "276274",
         "A516228",
         "B",
         "Adjust bad debt",
         "1",
         "2010-07-19 11:24:00",
         "-44031.79",
         null,
         "United Kingdom"
        ],
        [
         "403472",
         "A528059",
         "B",
         "Adjust bad debt",
         "1",
         "2010-10-20 12:04:00",
         "-38925.87",
         null,
         "United Kingdom"
        ]
       ],
       "shape": {
        "columns": 8,
        "rows": 3
       }
      },
      "text/html": [
       "<div>\n",
       "<style scoped>\n",
       "    .dataframe tbody tr th:only-of-type {\n",
       "        vertical-align: middle;\n",
       "    }\n",
       "\n",
       "    .dataframe tbody tr th {\n",
       "        vertical-align: top;\n",
       "    }\n",
       "\n",
       "    .dataframe thead th {\n",
       "        text-align: right;\n",
       "    }\n",
       "</style>\n",
       "<table border=\"1\" class=\"dataframe\">\n",
       "  <thead>\n",
       "    <tr style=\"text-align: right;\">\n",
       "      <th></th>\n",
       "      <th>Invoice</th>\n",
       "      <th>StockCode</th>\n",
       "      <th>Description</th>\n",
       "      <th>Quantity</th>\n",
       "      <th>InvoiceDate</th>\n",
       "      <th>Price</th>\n",
       "      <th>Customer ID</th>\n",
       "      <th>Country</th>\n",
       "    </tr>\n",
       "  </thead>\n",
       "  <tbody>\n",
       "    <tr>\n",
       "      <th>179403</th>\n",
       "      <td>A506401</td>\n",
       "      <td>B</td>\n",
       "      <td>Adjust bad debt</td>\n",
       "      <td>1</td>\n",
       "      <td>2010-04-29 13:36:00</td>\n",
       "      <td>-53594.36</td>\n",
       "      <td>NaN</td>\n",
       "      <td>United Kingdom</td>\n",
       "    </tr>\n",
       "    <tr>\n",
       "      <th>276274</th>\n",
       "      <td>A516228</td>\n",
       "      <td>B</td>\n",
       "      <td>Adjust bad debt</td>\n",
       "      <td>1</td>\n",
       "      <td>2010-07-19 11:24:00</td>\n",
       "      <td>-44031.79</td>\n",
       "      <td>NaN</td>\n",
       "      <td>United Kingdom</td>\n",
       "    </tr>\n",
       "    <tr>\n",
       "      <th>403472</th>\n",
       "      <td>A528059</td>\n",
       "      <td>B</td>\n",
       "      <td>Adjust bad debt</td>\n",
       "      <td>1</td>\n",
       "      <td>2010-10-20 12:04:00</td>\n",
       "      <td>-38925.87</td>\n",
       "      <td>NaN</td>\n",
       "      <td>United Kingdom</td>\n",
       "    </tr>\n",
       "  </tbody>\n",
       "</table>\n",
       "</div>"
      ],
      "text/plain": [
       "        Invoice StockCode      Description  Quantity         InvoiceDate  \\\n",
       "179403  A506401         B  Adjust bad debt         1 2010-04-29 13:36:00   \n",
       "276274  A516228         B  Adjust bad debt         1 2010-07-19 11:24:00   \n",
       "403472  A528059         B  Adjust bad debt         1 2010-10-20 12:04:00   \n",
       "\n",
       "                      Price  Customer ID         Country  \n",
       "179403            -53594.36          NaN  United Kingdom  \n",
       "276274            -44031.79          NaN  United Kingdom  \n",
       "403472            -38925.87          NaN  United Kingdom  "
      ]
     },
     "execution_count": 10,
     "metadata": {},
     "output_type": "execute_result"
    }
   ],
   "source": [
    "df[df[\"Invoice\"].str.startswith(\"A\")]"
   ]
  },
  {
   "cell_type": "code",
   "execution_count": 11,
   "id": "364e7f3a",
   "metadata": {},
   "outputs": [
    {
     "data": {
      "text/plain": [
       "array(['POST', 'D', 'DCGS0058', 'DCGS0068', 'DOT', 'M', 'DCGS0004',\n",
       "       'DCGS0076', 'C2', 'BANK CHARGES', 'DCGS0003', 'TEST001',\n",
       "       'gift_0001_80', 'DCGS0072', 'gift_0001_20', 'DCGS0044', 'TEST002',\n",
       "       'gift_0001_10', 'gift_0001_50', 'DCGS0066N', 'gift_0001_30',\n",
       "       'PADS', 'ADJUST', 'gift_0001_40', 'gift_0001_60', 'gift_0001_70',\n",
       "       'gift_0001_90', 'DCGSSGIRL', 'DCGS0006', 'DCGS0016', 'DCGS0027',\n",
       "       'DCGS0036', 'DCGS0039', 'DCGS0060', 'DCGS0056', 'DCGS0059', 'GIFT',\n",
       "       'DCGSLBOY', 'm', 'DCGS0053', 'DCGS0062', 'DCGS0037', 'DCGSSBOY',\n",
       "       'DCGSLGIRL', 'S', 'DCGS0069', 'DCGS0070', 'DCGS0075', 'B',\n",
       "       'DCGS0041', 'ADJUST2', '47503J ', 'C3', 'SP1002', 'AMAZONFEE'],\n",
       "      dtype=object)"
      ]
     },
     "execution_count": 11,
     "metadata": {},
     "output_type": "execute_result"
    }
   ],
   "source": [
    "df[\"StockCode\"] = df[\"StockCode\"].astype(\"str\")\n",
    "df[(df[\"StockCode\"].str.match(\"^\\\\d{5}$\") == False) & (df[\"StockCode\"].str.match(\"^\\\\d{5}[a-zA-Z]+$\") == False)][\"StockCode\"].unique()"
   ]
  },
  {
   "cell_type": "code",
   "execution_count": 12,
   "id": "545bf323",
   "metadata": {},
   "outputs": [
    {
     "data": {
      "application/vnd.microsoft.datawrangler.viewer.v0+json": {
       "columns": [
        {
         "name": "index",
         "rawType": "int64",
         "type": "integer"
        },
        {
         "name": "Invoice",
         "rawType": "object",
         "type": "string"
        },
        {
         "name": "StockCode",
         "rawType": "object",
         "type": "string"
        },
        {
         "name": "Description",
         "rawType": "object",
         "type": "unknown"
        },
        {
         "name": "Quantity",
         "rawType": "int64",
         "type": "integer"
        },
        {
         "name": "InvoiceDate",
         "rawType": "datetime64[ns]",
         "type": "datetime"
        },
        {
         "name": "Price",
         "rawType": "float64",
         "type": "float"
        },
        {
         "name": "Customer ID",
         "rawType": "float64",
         "type": "float"
        },
        {
         "name": "Country",
         "rawType": "object",
         "type": "string"
        }
       ],
       "conversionMethod": "pd.DataFrame",
       "ref": "519bb10d-492f-4c4a-a4cc-81ae9dc99af5",
       "rows": [
        [
         "2379",
         "489597",
         "DOT",
         "DOTCOM POSTAGE",
         "1",
         "2009-12-01 14:28:00",
         "647.19",
         null,
         "United Kingdom"
        ],
        [
         "2539",
         "489600",
         "DOT",
         "DOTCOM POSTAGE",
         "1",
         "2009-12-01 14:43:00",
         "55.96",
         null,
         "United Kingdom"
        ],
        [
         "2551",
         "489601",
         "DOT",
         "DOTCOM POSTAGE",
         "1",
         "2009-12-01 14:44:00",
         "68.39",
         null,
         "United Kingdom"
        ],
        [
         "2571",
         "489602",
         "DOT",
         "DOTCOM POSTAGE",
         "1",
         "2009-12-01 14:45:00",
         "59.35",
         null,
         "United Kingdom"
        ],
        [
         "2619",
         "489603",
         "DOT",
         "DOTCOM POSTAGE",
         "1",
         "2009-12-01 14:46:00",
         "42.39",
         null,
         "United Kingdom"
        ],
        [
         "2644",
         "489604",
         "DOT",
         "DOTCOM POSTAGE",
         "1",
         "2009-12-01 14:47:00",
         "50.87",
         null,
         "United Kingdom"
        ],
        [
         "2686",
         "489607",
         "DOT",
         "DOTCOM POSTAGE",
         "1",
         "2009-12-01 14:49:00",
         "76.3",
         null,
         "United Kingdom"
        ],
        [
         "2698",
         "489609",
         "DOT",
         "DOTCOM POSTAGE",
         "1",
         "2009-12-01 14:50:00",
         "74.61",
         null,
         "United Kingdom"
        ],
        [
         "2771",
         "489612",
         "DOT",
         "DOTCOM POSTAGE",
         "1",
         "2009-12-01 14:55:00",
         "87.39",
         null,
         "United Kingdom"
        ],
        [
         "2806",
         "489614",
         "DOT",
         "DOTCOM POSTAGE",
         "1",
         "2009-12-01 14:56:00",
         "80.3",
         null,
         "United Kingdom"
        ],
        [
         "2820",
         "489615",
         "DOT",
         "DOTCOM POSTAGE",
         "1",
         "2009-12-01 14:56:00",
         "77.13",
         null,
         "United Kingdom"
        ],
        [
         "2843",
         "489616",
         "DOT",
         "DOTCOM POSTAGE",
         "1",
         "2009-12-01 14:58:00",
         "83.74",
         null,
         "United Kingdom"
        ],
        [
         "5063",
         "489856",
         "DOT",
         "DOTCOM POSTAGE",
         "1",
         "2009-12-02 14:36:00",
         "470.24",
         null,
         "United Kingdom"
        ],
        [
         "5407",
         "489857",
         "DOT",
         "DOTCOM POSTAGE",
         "1",
         "2009-12-02 14:43:00",
         "775.24",
         null,
         "United Kingdom"
        ],
        [
         "5904",
         "489861",
         "DOT",
         "DOTCOM POSTAGE",
         "1",
         "2009-12-02 14:50:00",
         "0.0",
         null,
         "United Kingdom"
        ],
        [
         "8374",
         "490074",
         "DOT",
         "DOTCOM POSTAGE",
         "1",
         "2009-12-03 14:39:00",
         "862.67",
         null,
         "United Kingdom"
        ],
        [
         "9701",
         "490149",
         "DOT",
         "DOTCOM POSTAGE",
         "1",
         "2009-12-04 09:43:00",
         "922.05",
         null,
         "United Kingdom"
        ],
        [
         "16427",
         "490741",
         "DOT",
         "DOTCOM POSTAGE",
         "1",
         "2009-12-07 17:56:00",
         "862.38",
         null,
         "United Kingdom"
        ],
        [
         "17266",
         "490745",
         "DOT",
         "DOTCOM POSTAGE",
         "1",
         "2009-12-07 18:02:00",
         "630.36",
         null,
         "United Kingdom"
        ],
        [
         "19095",
         "490963",
         "DOT",
         "DOTCOM POSTAGE",
         "1",
         "2009-12-08 15:49:00",
         "560.87",
         null,
         "United Kingdom"
        ],
        [
         "20250",
         "491041",
         "DOT",
         "DOTCOM POSTAGE",
         "1",
         "2009-12-09 09:42:00",
         "483.14",
         null,
         "United Kingdom"
        ],
        [
         "20325",
         "491043",
         "DOT",
         "DOTCOM POSTAGE",
         "1",
         "2009-12-09 09:51:00",
         "660.21",
         null,
         "United Kingdom"
        ],
        [
         "22617",
         "491155",
         "DOT",
         "DOTCOM POSTAGE",
         "1",
         "2009-12-10 09:49:00",
         "810.57",
         null,
         "United Kingdom"
        ],
        [
         "30576",
         "491966",
         "DOT",
         "DOTCOM POSTAGE",
         "1",
         "2009-12-14 17:16:00",
         "815.01",
         null,
         "United Kingdom"
        ],
        [
         "30674",
         "491969",
         "DOT",
         "DOTCOM POSTAGE",
         "1",
         "2009-12-14 17:57:00",
         "882.72",
         null,
         "United Kingdom"
        ],
        [
         "31653",
         "491970",
         "DOT",
         "DOTCOM POSTAGE",
         "1",
         "2009-12-14 18:03:00",
         "602.14",
         null,
         "United Kingdom"
        ],
        [
         "32046",
         "491971",
         "DOT",
         "DOTCOM POSTAGE",
         "1",
         "2009-12-14 18:37:00",
         "632.06",
         null,
         "United Kingdom"
        ],
        [
         "33820",
         "492226",
         "DOT",
         "DOTCOM POSTAGE",
         "1",
         "2009-12-15 18:33:00",
         "500.13",
         null,
         "United Kingdom"
        ],
        [
         "34670",
         "492303",
         "DOT",
         "DOTCOM POSTAGE",
         "1",
         "2009-12-16 11:57:00",
         "637.09",
         null,
         "United Kingdom"
        ],
        [
         "36616",
         "492414",
         "DOT",
         "DOTCOM POSTAGE",
         "1",
         "2009-12-16 17:01:00",
         "945.56",
         null,
         "United Kingdom"
        ],
        [
         "37223",
         "492425",
         "DOT",
         "DOTCOM POSTAGE",
         "1",
         "2009-12-16 17:58:00",
         "753.98",
         null,
         "United Kingdom"
        ],
        [
         "40879",
         "492782",
         "DOT",
         "DOTCOM POSTAGE",
         "1",
         "2009-12-18 17:06:00",
         "692.24",
         null,
         "United Kingdom"
        ],
        [
         "41262",
         "492783",
         "DOT",
         "DOTCOM POSTAGE",
         "1",
         "2009-12-18 17:15:00",
         "604.12",
         null,
         "United Kingdom"
        ],
        [
         "42658",
         "493073",
         "DOT",
         "DOTCOM POSTAGE",
         "1",
         "2009-12-22 09:41:00",
         "440.9",
         null,
         "United Kingdom"
        ],
        [
         "43039",
         "493074",
         "DOT",
         "DOTCOM POSTAGE",
         "1",
         "2009-12-22 09:45:00",
         "287.02",
         null,
         "United Kingdom"
        ],
        [
         "43331",
         "493079",
         "DOT",
         "DOTCOM POSTAGE",
         "1",
         "2009-12-22 09:52:00",
         "467.05",
         null,
         "United Kingdom"
        ],
        [
         "43912",
         "493260",
         "DOT",
         "DOTCOM POSTAGE",
         "1",
         "2009-12-22 14:31:00",
         "429.14",
         null,
         "United Kingdom"
        ],
        [
         "44182",
         "493261",
         "DOT",
         "DOTCOM POSTAGE",
         "1",
         "2009-12-22 14:48:00",
         "88.48",
         null,
         "United Kingdom"
        ],
        [
         "44215",
         "493264",
         "DOT",
         "DOTCOM POSTAGE",
         "1",
         "2009-12-22 15:04:00",
         "123.96",
         null,
         "United Kingdom"
        ],
        [
         "44247",
         "493265",
         "DOT",
         "DOTCOM POSTAGE",
         "1",
         "2009-12-22 15:05:00",
         "167.52",
         null,
         "United Kingdom"
        ],
        [
         "44334",
         "493267",
         "DOT",
         "DOTCOM POSTAGE",
         "1",
         "2009-12-22 15:06:00",
         "122.3",
         null,
         "United Kingdom"
        ],
        [
         "44378",
         "493269",
         "DOT",
         "DOTCOM POSTAGE",
         "1",
         "2009-12-22 15:07:00",
         "114.26",
         null,
         "United Kingdom"
        ],
        [
         "44406",
         "493271",
         "DOT",
         "DOTCOM POSTAGE",
         "1",
         "2009-12-22 15:08:00",
         "102.52",
         null,
         "United Kingdom"
        ],
        [
         "44453",
         "493273",
         "DOT",
         "DOTCOM POSTAGE",
         "1",
         "2009-12-22 15:09:00",
         "155.35",
         null,
         "United Kingdom"
        ],
        [
         "44497",
         "493276",
         "DOT",
         "DOTCOM POSTAGE",
         "1",
         "2009-12-22 15:10:00",
         "110.22",
         null,
         "United Kingdom"
        ],
        [
         "44531",
         "493283",
         "DOT",
         "DOTCOM POSTAGE",
         "1",
         "2009-12-22 15:12:00",
         "136.52",
         null,
         "United Kingdom"
        ],
        [
         "44569",
         "493290",
         "DOT",
         "DOTCOM POSTAGE",
         "1",
         "2009-12-22 15:13:00",
         "3.43",
         null,
         "United Kingdom"
        ],
        [
         "44594",
         "493287",
         "DOT",
         "DOTCOM POSTAGE",
         "1",
         "2009-12-22 15:13:00",
         "100.7",
         null,
         "United Kingdom"
        ],
        [
         "44608",
         "493288",
         "DOT",
         "DOTCOM POSTAGE",
         "1",
         "2009-12-22 15:13:00",
         "34.13",
         null,
         "United Kingdom"
        ],
        [
         "45211",
         "493404",
         "DOT",
         "DOTCOM POSTAGE",
         "1",
         "2009-12-23 15:30:00",
         "184.68",
         null,
         "United Kingdom"
        ]
       ],
       "shape": {
        "columns": 8,
        "rows": 736
       }
      },
      "text/html": [
       "<div>\n",
       "<style scoped>\n",
       "    .dataframe tbody tr th:only-of-type {\n",
       "        vertical-align: middle;\n",
       "    }\n",
       "\n",
       "    .dataframe tbody tr th {\n",
       "        vertical-align: top;\n",
       "    }\n",
       "\n",
       "    .dataframe thead th {\n",
       "        text-align: right;\n",
       "    }\n",
       "</style>\n",
       "<table border=\"1\" class=\"dataframe\">\n",
       "  <thead>\n",
       "    <tr style=\"text-align: right;\">\n",
       "      <th></th>\n",
       "      <th>Invoice</th>\n",
       "      <th>StockCode</th>\n",
       "      <th>Description</th>\n",
       "      <th>Quantity</th>\n",
       "      <th>InvoiceDate</th>\n",
       "      <th>Price</th>\n",
       "      <th>Customer ID</th>\n",
       "      <th>Country</th>\n",
       "    </tr>\n",
       "  </thead>\n",
       "  <tbody>\n",
       "    <tr>\n",
       "      <th>2379</th>\n",
       "      <td>489597</td>\n",
       "      <td>DOT</td>\n",
       "      <td>DOTCOM POSTAGE</td>\n",
       "      <td>1</td>\n",
       "      <td>2009-12-01 14:28:00</td>\n",
       "      <td>647.19</td>\n",
       "      <td>NaN</td>\n",
       "      <td>United Kingdom</td>\n",
       "    </tr>\n",
       "    <tr>\n",
       "      <th>2539</th>\n",
       "      <td>489600</td>\n",
       "      <td>DOT</td>\n",
       "      <td>DOTCOM POSTAGE</td>\n",
       "      <td>1</td>\n",
       "      <td>2009-12-01 14:43:00</td>\n",
       "      <td>55.96</td>\n",
       "      <td>NaN</td>\n",
       "      <td>United Kingdom</td>\n",
       "    </tr>\n",
       "    <tr>\n",
       "      <th>2551</th>\n",
       "      <td>489601</td>\n",
       "      <td>DOT</td>\n",
       "      <td>DOTCOM POSTAGE</td>\n",
       "      <td>1</td>\n",
       "      <td>2009-12-01 14:44:00</td>\n",
       "      <td>68.39</td>\n",
       "      <td>NaN</td>\n",
       "      <td>United Kingdom</td>\n",
       "    </tr>\n",
       "    <tr>\n",
       "      <th>2571</th>\n",
       "      <td>489602</td>\n",
       "      <td>DOT</td>\n",
       "      <td>DOTCOM POSTAGE</td>\n",
       "      <td>1</td>\n",
       "      <td>2009-12-01 14:45:00</td>\n",
       "      <td>59.35</td>\n",
       "      <td>NaN</td>\n",
       "      <td>United Kingdom</td>\n",
       "    </tr>\n",
       "    <tr>\n",
       "      <th>2619</th>\n",
       "      <td>489603</td>\n",
       "      <td>DOT</td>\n",
       "      <td>DOTCOM POSTAGE</td>\n",
       "      <td>1</td>\n",
       "      <td>2009-12-01 14:46:00</td>\n",
       "      <td>42.39</td>\n",
       "      <td>NaN</td>\n",
       "      <td>United Kingdom</td>\n",
       "    </tr>\n",
       "    <tr>\n",
       "      <th>...</th>\n",
       "      <td>...</td>\n",
       "      <td>...</td>\n",
       "      <td>...</td>\n",
       "      <td>...</td>\n",
       "      <td>...</td>\n",
       "      <td>...</td>\n",
       "      <td>...</td>\n",
       "      <td>...</td>\n",
       "    </tr>\n",
       "    <tr>\n",
       "      <th>524272</th>\n",
       "      <td>538071</td>\n",
       "      <td>DOT</td>\n",
       "      <td>DOTCOM POSTAGE</td>\n",
       "      <td>1</td>\n",
       "      <td>2010-12-09 14:09:00</td>\n",
       "      <td>885.94</td>\n",
       "      <td>NaN</td>\n",
       "      <td>United Kingdom</td>\n",
       "    </tr>\n",
       "    <tr>\n",
       "      <th>524887</th>\n",
       "      <td>538148</td>\n",
       "      <td>DOT</td>\n",
       "      <td>DOTCOM POSTAGE</td>\n",
       "      <td>1</td>\n",
       "      <td>2010-12-09 16:26:00</td>\n",
       "      <td>547.32</td>\n",
       "      <td>NaN</td>\n",
       "      <td>United Kingdom</td>\n",
       "    </tr>\n",
       "    <tr>\n",
       "      <th>525000</th>\n",
       "      <td>538149</td>\n",
       "      <td>DOT</td>\n",
       "      <td>DOTCOM POSTAGE</td>\n",
       "      <td>1</td>\n",
       "      <td>2010-12-09 16:27:00</td>\n",
       "      <td>620.68</td>\n",
       "      <td>NaN</td>\n",
       "      <td>United Kingdom</td>\n",
       "    </tr>\n",
       "    <tr>\n",
       "      <th>525126</th>\n",
       "      <td>538153</td>\n",
       "      <td>DOT</td>\n",
       "      <td>DOTCOM POSTAGE</td>\n",
       "      <td>1</td>\n",
       "      <td>2010-12-09 16:31:00</td>\n",
       "      <td>822.94</td>\n",
       "      <td>NaN</td>\n",
       "      <td>United Kingdom</td>\n",
       "    </tr>\n",
       "    <tr>\n",
       "      <th>525147</th>\n",
       "      <td>538154</td>\n",
       "      <td>DOT</td>\n",
       "      <td>DOTCOM POSTAGE</td>\n",
       "      <td>1</td>\n",
       "      <td>2010-12-09 16:35:00</td>\n",
       "      <td>85.79</td>\n",
       "      <td>NaN</td>\n",
       "      <td>United Kingdom</td>\n",
       "    </tr>\n",
       "  </tbody>\n",
       "</table>\n",
       "<p>736 rows × 8 columns</p>\n",
       "</div>"
      ],
      "text/plain": [
       "       Invoice StockCode     Description  Quantity         InvoiceDate  \\\n",
       "2379    489597       DOT  DOTCOM POSTAGE         1 2009-12-01 14:28:00   \n",
       "2539    489600       DOT  DOTCOM POSTAGE         1 2009-12-01 14:43:00   \n",
       "2551    489601       DOT  DOTCOM POSTAGE         1 2009-12-01 14:44:00   \n",
       "2571    489602       DOT  DOTCOM POSTAGE         1 2009-12-01 14:45:00   \n",
       "2619    489603       DOT  DOTCOM POSTAGE         1 2009-12-01 14:46:00   \n",
       "...        ...       ...             ...       ...                 ...   \n",
       "524272  538071       DOT  DOTCOM POSTAGE         1 2010-12-09 14:09:00   \n",
       "524887  538148       DOT  DOTCOM POSTAGE         1 2010-12-09 16:26:00   \n",
       "525000  538149       DOT  DOTCOM POSTAGE         1 2010-12-09 16:27:00   \n",
       "525126  538153       DOT  DOTCOM POSTAGE         1 2010-12-09 16:31:00   \n",
       "525147  538154       DOT  DOTCOM POSTAGE         1 2010-12-09 16:35:00   \n",
       "\n",
       "                      Price  Customer ID         Country  \n",
       "2379                 647.19          NaN  United Kingdom  \n",
       "2539                  55.96          NaN  United Kingdom  \n",
       "2551                  68.39          NaN  United Kingdom  \n",
       "2571                  59.35          NaN  United Kingdom  \n",
       "2619                  42.39          NaN  United Kingdom  \n",
       "...                     ...          ...             ...  \n",
       "524272               885.94          NaN  United Kingdom  \n",
       "524887               547.32          NaN  United Kingdom  \n",
       "525000               620.68          NaN  United Kingdom  \n",
       "525126               822.94          NaN  United Kingdom  \n",
       "525147                85.79          NaN  United Kingdom  \n",
       "\n",
       "[736 rows x 8 columns]"
      ]
     },
     "execution_count": 12,
     "metadata": {},
     "output_type": "execute_result"
    }
   ],
   "source": [
    "df[df[\"StockCode\"].str.contains(\"^DOT\")]"
   ]
  },
  {
   "cell_type": "code",
   "execution_count": 13,
   "id": "8e9ba017",
   "metadata": {},
   "outputs": [
    {
     "data": {
      "application/vnd.microsoft.datawrangler.viewer.v0+json": {
       "columns": [
        {
         "name": "index",
         "rawType": "int64",
         "type": "integer"
        },
        {
         "name": "Invoice",
         "rawType": "object",
         "type": "string"
        },
        {
         "name": "StockCode",
         "rawType": "object",
         "type": "string"
        },
        {
         "name": "Description",
         "rawType": "object",
         "type": "string"
        },
        {
         "name": "Quantity",
         "rawType": "int64",
         "type": "integer"
        },
        {
         "name": "InvoiceDate",
         "rawType": "datetime64[ns]",
         "type": "datetime"
        },
        {
         "name": "Price",
         "rawType": "float64",
         "type": "float"
        },
        {
         "name": "Customer ID",
         "rawType": "float64",
         "type": "float"
        },
        {
         "name": "Country",
         "rawType": "object",
         "type": "string"
        }
       ],
       "conversionMethod": "pd.DataFrame",
       "ref": "3cdb35ff-9646-4c4d-a958-832518d5a236",
       "rows": [
        [
         "0",
         "489434",
         "85048",
         "15CM CHRISTMAS GLASS BALL 20 LIGHTS",
         "12",
         "2009-12-01 07:45:00",
         "6.95",
         "13085.0",
         "United Kingdom"
        ],
        [
         "1",
         "489434",
         "79323P",
         "PINK CHERRY LIGHTS",
         "12",
         "2009-12-01 07:45:00",
         "6.75",
         "13085.0",
         "United Kingdom"
        ],
        [
         "2",
         "489434",
         "79323W",
         " WHITE CHERRY LIGHTS",
         "12",
         "2009-12-01 07:45:00",
         "6.75",
         "13085.0",
         "United Kingdom"
        ],
        [
         "3",
         "489434",
         "22041",
         "RECORD FRAME 7\" SINGLE SIZE ",
         "48",
         "2009-12-01 07:45:00",
         "2.1",
         "13085.0",
         "United Kingdom"
        ],
        [
         "4",
         "489434",
         "21232",
         "STRAWBERRY CERAMIC TRINKET BOX",
         "24",
         "2009-12-01 07:45:00",
         "1.25",
         "13085.0",
         "United Kingdom"
        ]
       ],
       "shape": {
        "columns": 8,
        "rows": 5
       }
      },
      "text/html": [
       "<div>\n",
       "<style scoped>\n",
       "    .dataframe tbody tr th:only-of-type {\n",
       "        vertical-align: middle;\n",
       "    }\n",
       "\n",
       "    .dataframe tbody tr th {\n",
       "        vertical-align: top;\n",
       "    }\n",
       "\n",
       "    .dataframe thead th {\n",
       "        text-align: right;\n",
       "    }\n",
       "</style>\n",
       "<table border=\"1\" class=\"dataframe\">\n",
       "  <thead>\n",
       "    <tr style=\"text-align: right;\">\n",
       "      <th></th>\n",
       "      <th>Invoice</th>\n",
       "      <th>StockCode</th>\n",
       "      <th>Description</th>\n",
       "      <th>Quantity</th>\n",
       "      <th>InvoiceDate</th>\n",
       "      <th>Price</th>\n",
       "      <th>Customer ID</th>\n",
       "      <th>Country</th>\n",
       "    </tr>\n",
       "  </thead>\n",
       "  <tbody>\n",
       "    <tr>\n",
       "      <th>0</th>\n",
       "      <td>489434</td>\n",
       "      <td>85048</td>\n",
       "      <td>15CM CHRISTMAS GLASS BALL 20 LIGHTS</td>\n",
       "      <td>12</td>\n",
       "      <td>2009-12-01 07:45:00</td>\n",
       "      <td>6.95</td>\n",
       "      <td>13085.00</td>\n",
       "      <td>United Kingdom</td>\n",
       "    </tr>\n",
       "    <tr>\n",
       "      <th>1</th>\n",
       "      <td>489434</td>\n",
       "      <td>79323P</td>\n",
       "      <td>PINK CHERRY LIGHTS</td>\n",
       "      <td>12</td>\n",
       "      <td>2009-12-01 07:45:00</td>\n",
       "      <td>6.75</td>\n",
       "      <td>13085.00</td>\n",
       "      <td>United Kingdom</td>\n",
       "    </tr>\n",
       "    <tr>\n",
       "      <th>2</th>\n",
       "      <td>489434</td>\n",
       "      <td>79323W</td>\n",
       "      <td>WHITE CHERRY LIGHTS</td>\n",
       "      <td>12</td>\n",
       "      <td>2009-12-01 07:45:00</td>\n",
       "      <td>6.75</td>\n",
       "      <td>13085.00</td>\n",
       "      <td>United Kingdom</td>\n",
       "    </tr>\n",
       "    <tr>\n",
       "      <th>3</th>\n",
       "      <td>489434</td>\n",
       "      <td>22041</td>\n",
       "      <td>RECORD FRAME 7\" SINGLE SIZE</td>\n",
       "      <td>48</td>\n",
       "      <td>2009-12-01 07:45:00</td>\n",
       "      <td>2.10</td>\n",
       "      <td>13085.00</td>\n",
       "      <td>United Kingdom</td>\n",
       "    </tr>\n",
       "    <tr>\n",
       "      <th>4</th>\n",
       "      <td>489434</td>\n",
       "      <td>21232</td>\n",
       "      <td>STRAWBERRY CERAMIC TRINKET BOX</td>\n",
       "      <td>24</td>\n",
       "      <td>2009-12-01 07:45:00</td>\n",
       "      <td>1.25</td>\n",
       "      <td>13085.00</td>\n",
       "      <td>United Kingdom</td>\n",
       "    </tr>\n",
       "  </tbody>\n",
       "</table>\n",
       "</div>"
      ],
      "text/plain": [
       "  Invoice StockCode                          Description  Quantity  \\\n",
       "0  489434     85048  15CM CHRISTMAS GLASS BALL 20 LIGHTS        12   \n",
       "1  489434    79323P                   PINK CHERRY LIGHTS        12   \n",
       "2  489434    79323W                  WHITE CHERRY LIGHTS        12   \n",
       "3  489434     22041         RECORD FRAME 7\" SINGLE SIZE         48   \n",
       "4  489434     21232       STRAWBERRY CERAMIC TRINKET BOX        24   \n",
       "\n",
       "          InvoiceDate                Price          Customer ID  \\\n",
       "0 2009-12-01 07:45:00                 6.95             13085.00   \n",
       "1 2009-12-01 07:45:00                 6.75             13085.00   \n",
       "2 2009-12-01 07:45:00                 6.75             13085.00   \n",
       "3 2009-12-01 07:45:00                 2.10             13085.00   \n",
       "4 2009-12-01 07:45:00                 1.25             13085.00   \n",
       "\n",
       "          Country  \n",
       "0  United Kingdom  \n",
       "1  United Kingdom  \n",
       "2  United Kingdom  \n",
       "3  United Kingdom  \n",
       "4  United Kingdom  "
      ]
     },
     "execution_count": 13,
     "metadata": {},
     "output_type": "execute_result"
    }
   ],
   "source": [
    "df.head()"
   ]
  },
  {
   "cell_type": "markdown",
   "id": "52c9c8f2",
   "metadata": {},
   "source": [
    "# Data Cleaning"
   ]
  },
  {
   "cell_type": "markdown",
   "id": "8716fb6f",
   "metadata": {},
   "source": [
    "## cleaned_df.head(10)Scleaned_df.head(10)tock Code Notes Summary\n",
    "\n",
    "### Expected Pattern\n",
    "- Stock codes are expected to follow the pattern `[0-9]{5}`.\n",
    "- Some valid codes also follow the pattern `[0-9]{5}[a-zA-Z]+`.\n",
    "\n",
    "### Non-Standard Stock Codes and Actions\n",
    "\n",
    "| Stock Code     | Description                                                                 | Action                 |\n",
    "|----------------|-----------------------------------------------------------------------------|------------------------|\n",
    "| DCGS           | Looks valid, some quantities are negative though and customer ID is null   | Exclude from clustering |\n",
    "| D              | Represents discount values                                                  | Exclude from clustering |\n",
    "| DOT            | Represents postage charges                                                  | Exclude from clustering |\n",
    "| M / m          | Represents manual transactions                                              | Exclude from clustering |\n",
    "| C2             | Carriage transaction (meaning unclear)                                     | Exclude from clustering |\n",
    "| C3             | Only 1 transaction, unclear meaning                                         | Exclude                 |\n",
    "| BANK CHARGES / B | Bank charges                                                             | Exclude from clustering |\n",
    "| S              | Samples sent to customer                                                   | Exclude from clustering |\n",
    "| TESTXXX        | Testing data, not valid                                                    | Exclude from clustering |\n",
    "| gift__XXX      | Purchases with gift cards, no customer data                                | Exclude (maybe useful for other analysis) |\n",
    "| PADS           | Legitimate stock code for padding                                          | **Include**             |\n",
    "| SP1002         | Special request item, limited and inconsistent data                        | Exclude for now         |\n",
    "| AMAZONFEE      | Possibly Amazon shipping-related fees                                      | Exclude for now         |\n",
    "| ADJUSTX        | Likely manual account adjustments by admins                                | Exclude for now         |\n"
   ]
  },
  {
   "cell_type": "code",
   "execution_count": 14,
   "id": "f9ef4035",
   "metadata": {},
   "outputs": [],
   "source": [
    "cleaned_df = df.copy()"
   ]
  },
  {
   "cell_type": "code",
   "execution_count": 15,
   "id": "6f29bcd7",
   "metadata": {},
   "outputs": [
    {
     "data": {
      "application/vnd.microsoft.datawrangler.viewer.v0+json": {
       "columns": [
        {
         "name": "index",
         "rawType": "int64",
         "type": "integer"
        },
        {
         "name": "Invoice",
         "rawType": "object",
         "type": "string"
        },
        {
         "name": "StockCode",
         "rawType": "object",
         "type": "string"
        },
        {
         "name": "Description",
         "rawType": "object",
         "type": "unknown"
        },
        {
         "name": "Quantity",
         "rawType": "int64",
         "type": "integer"
        },
        {
         "name": "InvoiceDate",
         "rawType": "datetime64[ns]",
         "type": "datetime"
        },
        {
         "name": "Price",
         "rawType": "float64",
         "type": "float"
        },
        {
         "name": "Customer ID",
         "rawType": "float64",
         "type": "float"
        },
        {
         "name": "Country",
         "rawType": "object",
         "type": "string"
        }
       ],
       "conversionMethod": "pd.DataFrame",
       "ref": "d1ff2b2f-36a6-4895-b7a0-705c49cef54d",
       "rows": [
        [
         "0",
         "489434",
         "85048",
         "15CM CHRISTMAS GLASS BALL 20 LIGHTS",
         "12",
         "2009-12-01 07:45:00",
         "6.95",
         "13085.0",
         "United Kingdom"
        ],
        [
         "1",
         "489434",
         "79323P",
         "PINK CHERRY LIGHTS",
         "12",
         "2009-12-01 07:45:00",
         "6.75",
         "13085.0",
         "United Kingdom"
        ],
        [
         "2",
         "489434",
         "79323W",
         " WHITE CHERRY LIGHTS",
         "12",
         "2009-12-01 07:45:00",
         "6.75",
         "13085.0",
         "United Kingdom"
        ],
        [
         "3",
         "489434",
         "22041",
         "RECORD FRAME 7\" SINGLE SIZE ",
         "48",
         "2009-12-01 07:45:00",
         "2.1",
         "13085.0",
         "United Kingdom"
        ],
        [
         "4",
         "489434",
         "21232",
         "STRAWBERRY CERAMIC TRINKET BOX",
         "24",
         "2009-12-01 07:45:00",
         "1.25",
         "13085.0",
         "United Kingdom"
        ],
        [
         "5",
         "489434",
         "22064",
         "PINK DOUGHNUT TRINKET POT ",
         "24",
         "2009-12-01 07:45:00",
         "1.65",
         "13085.0",
         "United Kingdom"
        ],
        [
         "6",
         "489434",
         "21871",
         "SAVE THE PLANET MUG",
         "24",
         "2009-12-01 07:45:00",
         "1.25",
         "13085.0",
         "United Kingdom"
        ],
        [
         "7",
         "489434",
         "21523",
         "FANCY FONT HOME SWEET HOME DOORMAT",
         "10",
         "2009-12-01 07:45:00",
         "5.95",
         "13085.0",
         "United Kingdom"
        ],
        [
         "8",
         "489435",
         "22350",
         "CAT BOWL ",
         "12",
         "2009-12-01 07:46:00",
         "2.55",
         "13085.0",
         "United Kingdom"
        ],
        [
         "9",
         "489435",
         "22349",
         "DOG BOWL , CHASING BALL DESIGN",
         "12",
         "2009-12-01 07:46:00",
         "3.75",
         "13085.0",
         "United Kingdom"
        ],
        [
         "10",
         "489435",
         "22195",
         "HEART MEASURING SPOONS LARGE",
         "24",
         "2009-12-01 07:46:00",
         "1.65",
         "13085.0",
         "United Kingdom"
        ],
        [
         "11",
         "489435",
         "22353",
         "LUNCHBOX WITH CUTLERY FAIRY CAKES ",
         "12",
         "2009-12-01 07:46:00",
         "2.55",
         "13085.0",
         "United Kingdom"
        ],
        [
         "12",
         "489436",
         "48173C",
         "DOOR MAT BLACK FLOCK ",
         "10",
         "2009-12-01 09:06:00",
         "5.95",
         "13078.0",
         "United Kingdom"
        ],
        [
         "13",
         "489436",
         "21755",
         "LOVE BUILDING BLOCK WORD",
         "18",
         "2009-12-01 09:06:00",
         "5.45",
         "13078.0",
         "United Kingdom"
        ],
        [
         "14",
         "489436",
         "21754",
         "HOME BUILDING BLOCK WORD",
         "3",
         "2009-12-01 09:06:00",
         "5.95",
         "13078.0",
         "United Kingdom"
        ],
        [
         "15",
         "489436",
         "84879",
         "ASSORTED COLOUR BIRD ORNAMENT",
         "16",
         "2009-12-01 09:06:00",
         "1.69",
         "13078.0",
         "United Kingdom"
        ],
        [
         "16",
         "489436",
         "22119",
         " PEACE WOODEN BLOCK LETTERS",
         "3",
         "2009-12-01 09:06:00",
         "6.95",
         "13078.0",
         "United Kingdom"
        ],
        [
         "17",
         "489436",
         "22142",
         "CHRISTMAS CRAFT WHITE FAIRY ",
         "12",
         "2009-12-01 09:06:00",
         "1.45",
         "13078.0",
         "United Kingdom"
        ],
        [
         "18",
         "489436",
         "22296",
         "HEART IVORY TRELLIS LARGE",
         "12",
         "2009-12-01 09:06:00",
         "1.65",
         "13078.0",
         "United Kingdom"
        ],
        [
         "19",
         "489436",
         "22295",
         "HEART FILIGREE DOVE LARGE",
         "12",
         "2009-12-01 09:06:00",
         "1.65",
         "13078.0",
         "United Kingdom"
        ],
        [
         "20",
         "489436",
         "22109",
         "FULL ENGLISH BREAKFAST PLATE",
         "16",
         "2009-12-01 09:06:00",
         "3.39",
         "13078.0",
         "United Kingdom"
        ],
        [
         "21",
         "489436",
         "22107",
         "PIZZA PLATE IN BOX",
         "4",
         "2009-12-01 09:06:00",
         "3.75",
         "13078.0",
         "United Kingdom"
        ],
        [
         "22",
         "489436",
         "22194",
         "BLACK DINER WALL CLOCK",
         "2",
         "2009-12-01 09:06:00",
         "8.5",
         "13078.0",
         "United Kingdom"
        ],
        [
         "23",
         "489436",
         "35004B",
         "SET OF 3 BLACK FLYING DUCKS",
         "12",
         "2009-12-01 09:06:00",
         "4.65",
         "13078.0",
         "United Kingdom"
        ],
        [
         "24",
         "489436",
         "82582",
         "AREA PATROLLED METAL SIGN",
         "12",
         "2009-12-01 09:06:00",
         "2.1",
         "13078.0",
         "United Kingdom"
        ],
        [
         "25",
         "489436",
         "21181",
         "PLEASE ONE PERSON  METAL SIGN",
         "12",
         "2009-12-01 09:06:00",
         "2.1",
         "13078.0",
         "United Kingdom"
        ],
        [
         "26",
         "489436",
         "21756",
         "BATH BUILDING BLOCK WORD",
         "3",
         "2009-12-01 09:06:00",
         "5.95",
         "13078.0",
         "United Kingdom"
        ],
        [
         "27",
         "489436",
         "21333",
         "CLASSIC WHITE FRAME",
         "6",
         "2009-12-01 09:06:00",
         "2.95",
         "13078.0",
         "United Kingdom"
        ],
        [
         "28",
         "489436",
         "84596F",
         "SMALL MARSHMALLOWS PINK BOWL",
         "8",
         "2009-12-01 09:06:00",
         "1.25",
         "13078.0",
         "United Kingdom"
        ],
        [
         "29",
         "489436",
         "84596L",
         "BISCUITS SMALL BOWL LIGHT BLUE",
         "8",
         "2009-12-01 09:06:00",
         "1.25",
         "13078.0",
         "United Kingdom"
        ],
        [
         "30",
         "489436",
         "22111",
         "SCOTTIE DOG HOT WATER BOTTLE",
         "24",
         "2009-12-01 09:06:00",
         "4.25",
         "13078.0",
         "United Kingdom"
        ],
        [
         "31",
         "489437",
         "22143",
         "CHRISTMAS CRAFT HEART DECORATIONS",
         "6",
         "2009-12-01 09:08:00",
         "2.1",
         "15362.0",
         "United Kingdom"
        ],
        [
         "32",
         "489437",
         "22145",
         "CHRISTMAS CRAFT HEART STOCKING ",
         "6",
         "2009-12-01 09:08:00",
         "2.1",
         "15362.0",
         "United Kingdom"
        ],
        [
         "33",
         "489437",
         "22130",
         "PARTY CONE CHRISTMAS DECORATION ",
         "12",
         "2009-12-01 09:08:00",
         "0.85",
         "15362.0",
         "United Kingdom"
        ],
        [
         "34",
         "489437",
         "21364",
         "PEACE SMALL WOOD LETTERS",
         "2",
         "2009-12-01 09:08:00",
         "6.75",
         "15362.0",
         "United Kingdom"
        ],
        [
         "35",
         "489437",
         "21360",
         "JOY LARGE WOOD LETTERS",
         "1",
         "2009-12-01 09:08:00",
         "9.95",
         "15362.0",
         "United Kingdom"
        ],
        [
         "36",
         "489437",
         "21351",
         "CINAMMON & ORANGE WREATH",
         "2",
         "2009-12-01 09:08:00",
         "6.75",
         "15362.0",
         "United Kingdom"
        ],
        [
         "37",
         "489437",
         "21352",
         "EUCALYPTUS & PINECONE  WREATH",
         "2",
         "2009-12-01 09:08:00",
         "6.75",
         "15362.0",
         "United Kingdom"
        ],
        [
         "38",
         "489437",
         "35400",
         "WOODEN BOX ADVENT CALENDAR ",
         "2",
         "2009-12-01 09:08:00",
         "8.95",
         "15362.0",
         "United Kingdom"
        ],
        [
         "39",
         "489437",
         "20695",
         "FLORAL BLUE MONSTER",
         "3",
         "2009-12-01 09:08:00",
         "4.25",
         "15362.0",
         "United Kingdom"
        ],
        [
         "40",
         "489437",
         "37370",
         "RETRO COFFEE MUGS ASSORTED",
         "12",
         "2009-12-01 09:08:00",
         "1.25",
         "15362.0",
         "United Kingdom"
        ],
        [
         "41",
         "489437",
         "10002",
         "INFLATABLE POLITICAL GLOBE ",
         "12",
         "2009-12-01 09:08:00",
         "0.85",
         "15362.0",
         "United Kingdom"
        ],
        [
         "42",
         "489437",
         "84507B",
         "STRIPES DESIGN MONKEY DOLL",
         "6",
         "2009-12-01 09:08:00",
         "2.55",
         "15362.0",
         "United Kingdom"
        ],
        [
         "43",
         "489437",
         "20703",
         "BLUE PADDED SOFT MOBILE",
         "3",
         "2009-12-01 09:08:00",
         "4.25",
         "15362.0",
         "United Kingdom"
        ],
        [
         "44",
         "489437",
         "21987",
         "PACK OF 6 SKULL PAPER CUPS",
         "12",
         "2009-12-01 09:08:00",
         "0.65",
         "15362.0",
         "United Kingdom"
        ],
        [
         "45",
         "489437",
         "21989",
         "PACK OF 20 SKULL PAPER NAPKINS",
         "12",
         "2009-12-01 09:08:00",
         "0.85",
         "15362.0",
         "United Kingdom"
        ],
        [
         "46",
         "489437",
         "84970S",
         "HANGING HEART ZINC T-LIGHT HOLDER",
         "12",
         "2009-12-01 09:08:00",
         "0.85",
         "15362.0",
         "United Kingdom"
        ],
        [
         "47",
         "489437",
         "20971",
         "PINK BLUE FELT CRAFT TRINKET BOX",
         "12",
         "2009-12-01 09:08:00",
         "1.25",
         "15362.0",
         "United Kingdom"
        ],
        [
         "48",
         "489437",
         "22271",
         "FELTCRAFT DOLL ROSIE",
         "6",
         "2009-12-01 09:08:00",
         "2.95",
         "15362.0",
         "United Kingdom"
        ],
        [
         "49",
         "489437",
         "22272",
         "FELTCRAFT DOLL MARIA",
         "6",
         "2009-12-01 09:08:00",
         "2.95",
         "15362.0",
         "United Kingdom"
        ]
       ],
       "shape": {
        "columns": 8,
        "rows": 515252
       }
      },
      "text/html": [
       "<div>\n",
       "<style scoped>\n",
       "    .dataframe tbody tr th:only-of-type {\n",
       "        vertical-align: middle;\n",
       "    }\n",
       "\n",
       "    .dataframe tbody tr th {\n",
       "        vertical-align: top;\n",
       "    }\n",
       "\n",
       "    .dataframe thead th {\n",
       "        text-align: right;\n",
       "    }\n",
       "</style>\n",
       "<table border=\"1\" class=\"dataframe\">\n",
       "  <thead>\n",
       "    <tr style=\"text-align: right;\">\n",
       "      <th></th>\n",
       "      <th>Invoice</th>\n",
       "      <th>StockCode</th>\n",
       "      <th>Description</th>\n",
       "      <th>Quantity</th>\n",
       "      <th>InvoiceDate</th>\n",
       "      <th>Price</th>\n",
       "      <th>Customer ID</th>\n",
       "      <th>Country</th>\n",
       "    </tr>\n",
       "  </thead>\n",
       "  <tbody>\n",
       "    <tr>\n",
       "      <th>0</th>\n",
       "      <td>489434</td>\n",
       "      <td>85048</td>\n",
       "      <td>15CM CHRISTMAS GLASS BALL 20 LIGHTS</td>\n",
       "      <td>12</td>\n",
       "      <td>2009-12-01 07:45:00</td>\n",
       "      <td>6.95</td>\n",
       "      <td>13085.00</td>\n",
       "      <td>United Kingdom</td>\n",
       "    </tr>\n",
       "    <tr>\n",
       "      <th>1</th>\n",
       "      <td>489434</td>\n",
       "      <td>79323P</td>\n",
       "      <td>PINK CHERRY LIGHTS</td>\n",
       "      <td>12</td>\n",
       "      <td>2009-12-01 07:45:00</td>\n",
       "      <td>6.75</td>\n",
       "      <td>13085.00</td>\n",
       "      <td>United Kingdom</td>\n",
       "    </tr>\n",
       "    <tr>\n",
       "      <th>2</th>\n",
       "      <td>489434</td>\n",
       "      <td>79323W</td>\n",
       "      <td>WHITE CHERRY LIGHTS</td>\n",
       "      <td>12</td>\n",
       "      <td>2009-12-01 07:45:00</td>\n",
       "      <td>6.75</td>\n",
       "      <td>13085.00</td>\n",
       "      <td>United Kingdom</td>\n",
       "    </tr>\n",
       "    <tr>\n",
       "      <th>3</th>\n",
       "      <td>489434</td>\n",
       "      <td>22041</td>\n",
       "      <td>RECORD FRAME 7\" SINGLE SIZE</td>\n",
       "      <td>48</td>\n",
       "      <td>2009-12-01 07:45:00</td>\n",
       "      <td>2.10</td>\n",
       "      <td>13085.00</td>\n",
       "      <td>United Kingdom</td>\n",
       "    </tr>\n",
       "    <tr>\n",
       "      <th>4</th>\n",
       "      <td>489434</td>\n",
       "      <td>21232</td>\n",
       "      <td>STRAWBERRY CERAMIC TRINKET BOX</td>\n",
       "      <td>24</td>\n",
       "      <td>2009-12-01 07:45:00</td>\n",
       "      <td>1.25</td>\n",
       "      <td>13085.00</td>\n",
       "      <td>United Kingdom</td>\n",
       "    </tr>\n",
       "    <tr>\n",
       "      <th>...</th>\n",
       "      <td>...</td>\n",
       "      <td>...</td>\n",
       "      <td>...</td>\n",
       "      <td>...</td>\n",
       "      <td>...</td>\n",
       "      <td>...</td>\n",
       "      <td>...</td>\n",
       "      <td>...</td>\n",
       "    </tr>\n",
       "    <tr>\n",
       "      <th>525456</th>\n",
       "      <td>538171</td>\n",
       "      <td>22271</td>\n",
       "      <td>FELTCRAFT DOLL ROSIE</td>\n",
       "      <td>2</td>\n",
       "      <td>2010-12-09 20:01:00</td>\n",
       "      <td>2.95</td>\n",
       "      <td>17530.00</td>\n",
       "      <td>United Kingdom</td>\n",
       "    </tr>\n",
       "    <tr>\n",
       "      <th>525457</th>\n",
       "      <td>538171</td>\n",
       "      <td>22750</td>\n",
       "      <td>FELTCRAFT PRINCESS LOLA DOLL</td>\n",
       "      <td>1</td>\n",
       "      <td>2010-12-09 20:01:00</td>\n",
       "      <td>3.75</td>\n",
       "      <td>17530.00</td>\n",
       "      <td>United Kingdom</td>\n",
       "    </tr>\n",
       "    <tr>\n",
       "      <th>525458</th>\n",
       "      <td>538171</td>\n",
       "      <td>22751</td>\n",
       "      <td>FELTCRAFT PRINCESS OLIVIA DOLL</td>\n",
       "      <td>1</td>\n",
       "      <td>2010-12-09 20:01:00</td>\n",
       "      <td>3.75</td>\n",
       "      <td>17530.00</td>\n",
       "      <td>United Kingdom</td>\n",
       "    </tr>\n",
       "    <tr>\n",
       "      <th>525459</th>\n",
       "      <td>538171</td>\n",
       "      <td>20970</td>\n",
       "      <td>PINK FLORAL FELTCRAFT SHOULDER BAG</td>\n",
       "      <td>2</td>\n",
       "      <td>2010-12-09 20:01:00</td>\n",
       "      <td>3.75</td>\n",
       "      <td>17530.00</td>\n",
       "      <td>United Kingdom</td>\n",
       "    </tr>\n",
       "    <tr>\n",
       "      <th>525460</th>\n",
       "      <td>538171</td>\n",
       "      <td>21931</td>\n",
       "      <td>JUMBO STORAGE BAG SUKI</td>\n",
       "      <td>2</td>\n",
       "      <td>2010-12-09 20:01:00</td>\n",
       "      <td>1.95</td>\n",
       "      <td>17530.00</td>\n",
       "      <td>United Kingdom</td>\n",
       "    </tr>\n",
       "  </tbody>\n",
       "</table>\n",
       "<p>515252 rows × 8 columns</p>\n",
       "</div>"
      ],
      "text/plain": [
       "       Invoice StockCode                          Description  Quantity  \\\n",
       "0       489434     85048  15CM CHRISTMAS GLASS BALL 20 LIGHTS        12   \n",
       "1       489434    79323P                   PINK CHERRY LIGHTS        12   \n",
       "2       489434    79323W                  WHITE CHERRY LIGHTS        12   \n",
       "3       489434     22041         RECORD FRAME 7\" SINGLE SIZE         48   \n",
       "4       489434     21232       STRAWBERRY CERAMIC TRINKET BOX        24   \n",
       "...        ...       ...                                  ...       ...   \n",
       "525456  538171     22271                 FELTCRAFT DOLL ROSIE         2   \n",
       "525457  538171     22750         FELTCRAFT PRINCESS LOLA DOLL         1   \n",
       "525458  538171     22751       FELTCRAFT PRINCESS OLIVIA DOLL         1   \n",
       "525459  538171     20970   PINK FLORAL FELTCRAFT SHOULDER BAG         2   \n",
       "525460  538171     21931               JUMBO STORAGE BAG SUKI         2   \n",
       "\n",
       "               InvoiceDate                Price          Customer ID  \\\n",
       "0      2009-12-01 07:45:00                 6.95             13085.00   \n",
       "1      2009-12-01 07:45:00                 6.75             13085.00   \n",
       "2      2009-12-01 07:45:00                 6.75             13085.00   \n",
       "3      2009-12-01 07:45:00                 2.10             13085.00   \n",
       "4      2009-12-01 07:45:00                 1.25             13085.00   \n",
       "...                    ...                  ...                  ...   \n",
       "525456 2010-12-09 20:01:00                 2.95             17530.00   \n",
       "525457 2010-12-09 20:01:00                 3.75             17530.00   \n",
       "525458 2010-12-09 20:01:00                 3.75             17530.00   \n",
       "525459 2010-12-09 20:01:00                 3.75             17530.00   \n",
       "525460 2010-12-09 20:01:00                 1.95             17530.00   \n",
       "\n",
       "               Country  \n",
       "0       United Kingdom  \n",
       "1       United Kingdom  \n",
       "2       United Kingdom  \n",
       "3       United Kingdom  \n",
       "4       United Kingdom  \n",
       "...                ...  \n",
       "525456  United Kingdom  \n",
       "525457  United Kingdom  \n",
       "525458  United Kingdom  \n",
       "525459  United Kingdom  \n",
       "525460  United Kingdom  \n",
       "\n",
       "[515252 rows x 8 columns]"
      ]
     },
     "execution_count": 15,
     "metadata": {},
     "output_type": "execute_result"
    }
   ],
   "source": [
    "cleaned_df[\"Invoice\"] = cleaned_df[\"Invoice\"].astype('str')\n",
    "\n",
    "mask = (\n",
    "    cleaned_df[\"Invoice\"].str.match(\"^\\\\d{6}$\") == True\n",
    ")\n",
    "\n",
    "cleaned_df = cleaned_df[mask]\n",
    "\n",
    "cleaned_df"
   ]
  },
  {
   "cell_type": "code",
   "execution_count": 16,
   "id": "e817ea27",
   "metadata": {},
   "outputs": [
    {
     "data": {
      "application/vnd.microsoft.datawrangler.viewer.v0+json": {
       "columns": [
        {
         "name": "index",
         "rawType": "int64",
         "type": "integer"
        },
        {
         "name": "Invoice",
         "rawType": "object",
         "type": "string"
        },
        {
         "name": "StockCode",
         "rawType": "object",
         "type": "string"
        },
        {
         "name": "Description",
         "rawType": "object",
         "type": "unknown"
        },
        {
         "name": "Quantity",
         "rawType": "int64",
         "type": "integer"
        },
        {
         "name": "InvoiceDate",
         "rawType": "datetime64[ns]",
         "type": "datetime"
        },
        {
         "name": "Price",
         "rawType": "float64",
         "type": "float"
        },
        {
         "name": "Customer ID",
         "rawType": "float64",
         "type": "float"
        },
        {
         "name": "Country",
         "rawType": "object",
         "type": "string"
        }
       ],
       "conversionMethod": "pd.DataFrame",
       "ref": "5714fa22-79d4-4062-854f-5bd0958470a3",
       "rows": [
        [
         "0",
         "489434",
         "85048",
         "15CM CHRISTMAS GLASS BALL 20 LIGHTS",
         "12",
         "2009-12-01 07:45:00",
         "6.95",
         "13085.0",
         "United Kingdom"
        ],
        [
         "1",
         "489434",
         "79323P",
         "PINK CHERRY LIGHTS",
         "12",
         "2009-12-01 07:45:00",
         "6.75",
         "13085.0",
         "United Kingdom"
        ],
        [
         "2",
         "489434",
         "79323W",
         " WHITE CHERRY LIGHTS",
         "12",
         "2009-12-01 07:45:00",
         "6.75",
         "13085.0",
         "United Kingdom"
        ],
        [
         "3",
         "489434",
         "22041",
         "RECORD FRAME 7\" SINGLE SIZE ",
         "48",
         "2009-12-01 07:45:00",
         "2.1",
         "13085.0",
         "United Kingdom"
        ],
        [
         "4",
         "489434",
         "21232",
         "STRAWBERRY CERAMIC TRINKET BOX",
         "24",
         "2009-12-01 07:45:00",
         "1.25",
         "13085.0",
         "United Kingdom"
        ],
        [
         "5",
         "489434",
         "22064",
         "PINK DOUGHNUT TRINKET POT ",
         "24",
         "2009-12-01 07:45:00",
         "1.65",
         "13085.0",
         "United Kingdom"
        ],
        [
         "6",
         "489434",
         "21871",
         "SAVE THE PLANET MUG",
         "24",
         "2009-12-01 07:45:00",
         "1.25",
         "13085.0",
         "United Kingdom"
        ],
        [
         "7",
         "489434",
         "21523",
         "FANCY FONT HOME SWEET HOME DOORMAT",
         "10",
         "2009-12-01 07:45:00",
         "5.95",
         "13085.0",
         "United Kingdom"
        ],
        [
         "8",
         "489435",
         "22350",
         "CAT BOWL ",
         "12",
         "2009-12-01 07:46:00",
         "2.55",
         "13085.0",
         "United Kingdom"
        ],
        [
         "9",
         "489435",
         "22349",
         "DOG BOWL , CHASING BALL DESIGN",
         "12",
         "2009-12-01 07:46:00",
         "3.75",
         "13085.0",
         "United Kingdom"
        ],
        [
         "10",
         "489435",
         "22195",
         "HEART MEASURING SPOONS LARGE",
         "24",
         "2009-12-01 07:46:00",
         "1.65",
         "13085.0",
         "United Kingdom"
        ],
        [
         "11",
         "489435",
         "22353",
         "LUNCHBOX WITH CUTLERY FAIRY CAKES ",
         "12",
         "2009-12-01 07:46:00",
         "2.55",
         "13085.0",
         "United Kingdom"
        ],
        [
         "12",
         "489436",
         "48173C",
         "DOOR MAT BLACK FLOCK ",
         "10",
         "2009-12-01 09:06:00",
         "5.95",
         "13078.0",
         "United Kingdom"
        ],
        [
         "13",
         "489436",
         "21755",
         "LOVE BUILDING BLOCK WORD",
         "18",
         "2009-12-01 09:06:00",
         "5.45",
         "13078.0",
         "United Kingdom"
        ],
        [
         "14",
         "489436",
         "21754",
         "HOME BUILDING BLOCK WORD",
         "3",
         "2009-12-01 09:06:00",
         "5.95",
         "13078.0",
         "United Kingdom"
        ],
        [
         "15",
         "489436",
         "84879",
         "ASSORTED COLOUR BIRD ORNAMENT",
         "16",
         "2009-12-01 09:06:00",
         "1.69",
         "13078.0",
         "United Kingdom"
        ],
        [
         "16",
         "489436",
         "22119",
         " PEACE WOODEN BLOCK LETTERS",
         "3",
         "2009-12-01 09:06:00",
         "6.95",
         "13078.0",
         "United Kingdom"
        ],
        [
         "17",
         "489436",
         "22142",
         "CHRISTMAS CRAFT WHITE FAIRY ",
         "12",
         "2009-12-01 09:06:00",
         "1.45",
         "13078.0",
         "United Kingdom"
        ],
        [
         "18",
         "489436",
         "22296",
         "HEART IVORY TRELLIS LARGE",
         "12",
         "2009-12-01 09:06:00",
         "1.65",
         "13078.0",
         "United Kingdom"
        ],
        [
         "19",
         "489436",
         "22295",
         "HEART FILIGREE DOVE LARGE",
         "12",
         "2009-12-01 09:06:00",
         "1.65",
         "13078.0",
         "United Kingdom"
        ],
        [
         "20",
         "489436",
         "22109",
         "FULL ENGLISH BREAKFAST PLATE",
         "16",
         "2009-12-01 09:06:00",
         "3.39",
         "13078.0",
         "United Kingdom"
        ],
        [
         "21",
         "489436",
         "22107",
         "PIZZA PLATE IN BOX",
         "4",
         "2009-12-01 09:06:00",
         "3.75",
         "13078.0",
         "United Kingdom"
        ],
        [
         "22",
         "489436",
         "22194",
         "BLACK DINER WALL CLOCK",
         "2",
         "2009-12-01 09:06:00",
         "8.5",
         "13078.0",
         "United Kingdom"
        ],
        [
         "23",
         "489436",
         "35004B",
         "SET OF 3 BLACK FLYING DUCKS",
         "12",
         "2009-12-01 09:06:00",
         "4.65",
         "13078.0",
         "United Kingdom"
        ],
        [
         "24",
         "489436",
         "82582",
         "AREA PATROLLED METAL SIGN",
         "12",
         "2009-12-01 09:06:00",
         "2.1",
         "13078.0",
         "United Kingdom"
        ],
        [
         "25",
         "489436",
         "21181",
         "PLEASE ONE PERSON  METAL SIGN",
         "12",
         "2009-12-01 09:06:00",
         "2.1",
         "13078.0",
         "United Kingdom"
        ],
        [
         "26",
         "489436",
         "21756",
         "BATH BUILDING BLOCK WORD",
         "3",
         "2009-12-01 09:06:00",
         "5.95",
         "13078.0",
         "United Kingdom"
        ],
        [
         "27",
         "489436",
         "21333",
         "CLASSIC WHITE FRAME",
         "6",
         "2009-12-01 09:06:00",
         "2.95",
         "13078.0",
         "United Kingdom"
        ],
        [
         "28",
         "489436",
         "84596F",
         "SMALL MARSHMALLOWS PINK BOWL",
         "8",
         "2009-12-01 09:06:00",
         "1.25",
         "13078.0",
         "United Kingdom"
        ],
        [
         "29",
         "489436",
         "84596L",
         "BISCUITS SMALL BOWL LIGHT BLUE",
         "8",
         "2009-12-01 09:06:00",
         "1.25",
         "13078.0",
         "United Kingdom"
        ],
        [
         "30",
         "489436",
         "22111",
         "SCOTTIE DOG HOT WATER BOTTLE",
         "24",
         "2009-12-01 09:06:00",
         "4.25",
         "13078.0",
         "United Kingdom"
        ],
        [
         "31",
         "489437",
         "22143",
         "CHRISTMAS CRAFT HEART DECORATIONS",
         "6",
         "2009-12-01 09:08:00",
         "2.1",
         "15362.0",
         "United Kingdom"
        ],
        [
         "32",
         "489437",
         "22145",
         "CHRISTMAS CRAFT HEART STOCKING ",
         "6",
         "2009-12-01 09:08:00",
         "2.1",
         "15362.0",
         "United Kingdom"
        ],
        [
         "33",
         "489437",
         "22130",
         "PARTY CONE CHRISTMAS DECORATION ",
         "12",
         "2009-12-01 09:08:00",
         "0.85",
         "15362.0",
         "United Kingdom"
        ],
        [
         "34",
         "489437",
         "21364",
         "PEACE SMALL WOOD LETTERS",
         "2",
         "2009-12-01 09:08:00",
         "6.75",
         "15362.0",
         "United Kingdom"
        ],
        [
         "35",
         "489437",
         "21360",
         "JOY LARGE WOOD LETTERS",
         "1",
         "2009-12-01 09:08:00",
         "9.95",
         "15362.0",
         "United Kingdom"
        ],
        [
         "36",
         "489437",
         "21351",
         "CINAMMON & ORANGE WREATH",
         "2",
         "2009-12-01 09:08:00",
         "6.75",
         "15362.0",
         "United Kingdom"
        ],
        [
         "37",
         "489437",
         "21352",
         "EUCALYPTUS & PINECONE  WREATH",
         "2",
         "2009-12-01 09:08:00",
         "6.75",
         "15362.0",
         "United Kingdom"
        ],
        [
         "38",
         "489437",
         "35400",
         "WOODEN BOX ADVENT CALENDAR ",
         "2",
         "2009-12-01 09:08:00",
         "8.95",
         "15362.0",
         "United Kingdom"
        ],
        [
         "39",
         "489437",
         "20695",
         "FLORAL BLUE MONSTER",
         "3",
         "2009-12-01 09:08:00",
         "4.25",
         "15362.0",
         "United Kingdom"
        ],
        [
         "40",
         "489437",
         "37370",
         "RETRO COFFEE MUGS ASSORTED",
         "12",
         "2009-12-01 09:08:00",
         "1.25",
         "15362.0",
         "United Kingdom"
        ],
        [
         "41",
         "489437",
         "10002",
         "INFLATABLE POLITICAL GLOBE ",
         "12",
         "2009-12-01 09:08:00",
         "0.85",
         "15362.0",
         "United Kingdom"
        ],
        [
         "42",
         "489437",
         "84507B",
         "STRIPES DESIGN MONKEY DOLL",
         "6",
         "2009-12-01 09:08:00",
         "2.55",
         "15362.0",
         "United Kingdom"
        ],
        [
         "43",
         "489437",
         "20703",
         "BLUE PADDED SOFT MOBILE",
         "3",
         "2009-12-01 09:08:00",
         "4.25",
         "15362.0",
         "United Kingdom"
        ],
        [
         "44",
         "489437",
         "21987",
         "PACK OF 6 SKULL PAPER CUPS",
         "12",
         "2009-12-01 09:08:00",
         "0.65",
         "15362.0",
         "United Kingdom"
        ],
        [
         "45",
         "489437",
         "21989",
         "PACK OF 20 SKULL PAPER NAPKINS",
         "12",
         "2009-12-01 09:08:00",
         "0.85",
         "15362.0",
         "United Kingdom"
        ],
        [
         "46",
         "489437",
         "84970S",
         "HANGING HEART ZINC T-LIGHT HOLDER",
         "12",
         "2009-12-01 09:08:00",
         "0.85",
         "15362.0",
         "United Kingdom"
        ],
        [
         "47",
         "489437",
         "20971",
         "PINK BLUE FELT CRAFT TRINKET BOX",
         "12",
         "2009-12-01 09:08:00",
         "1.25",
         "15362.0",
         "United Kingdom"
        ],
        [
         "48",
         "489437",
         "22271",
         "FELTCRAFT DOLL ROSIE",
         "6",
         "2009-12-01 09:08:00",
         "2.95",
         "15362.0",
         "United Kingdom"
        ],
        [
         "49",
         "489437",
         "22272",
         "FELTCRAFT DOLL MARIA",
         "6",
         "2009-12-01 09:08:00",
         "2.95",
         "15362.0",
         "United Kingdom"
        ]
       ],
       "shape": {
        "columns": 8,
        "rows": 515252
       }
      },
      "text/html": [
       "<div>\n",
       "<style scoped>\n",
       "    .dataframe tbody tr th:only-of-type {\n",
       "        vertical-align: middle;\n",
       "    }\n",
       "\n",
       "    .dataframe tbody tr th {\n",
       "        vertical-align: top;\n",
       "    }\n",
       "\n",
       "    .dataframe thead th {\n",
       "        text-align: right;\n",
       "    }\n",
       "</style>\n",
       "<table border=\"1\" class=\"dataframe\">\n",
       "  <thead>\n",
       "    <tr style=\"text-align: right;\">\n",
       "      <th></th>\n",
       "      <th>Invoice</th>\n",
       "      <th>StockCode</th>\n",
       "      <th>Description</th>\n",
       "      <th>Quantity</th>\n",
       "      <th>InvoiceDate</th>\n",
       "      <th>Price</th>\n",
       "      <th>Customer ID</th>\n",
       "      <th>Country</th>\n",
       "    </tr>\n",
       "  </thead>\n",
       "  <tbody>\n",
       "    <tr>\n",
       "      <th>0</th>\n",
       "      <td>489434</td>\n",
       "      <td>85048</td>\n",
       "      <td>15CM CHRISTMAS GLASS BALL 20 LIGHTS</td>\n",
       "      <td>12</td>\n",
       "      <td>2009-12-01 07:45:00</td>\n",
       "      <td>6.95</td>\n",
       "      <td>13085.00</td>\n",
       "      <td>United Kingdom</td>\n",
       "    </tr>\n",
       "    <tr>\n",
       "      <th>1</th>\n",
       "      <td>489434</td>\n",
       "      <td>79323P</td>\n",
       "      <td>PINK CHERRY LIGHTS</td>\n",
       "      <td>12</td>\n",
       "      <td>2009-12-01 07:45:00</td>\n",
       "      <td>6.75</td>\n",
       "      <td>13085.00</td>\n",
       "      <td>United Kingdom</td>\n",
       "    </tr>\n",
       "    <tr>\n",
       "      <th>2</th>\n",
       "      <td>489434</td>\n",
       "      <td>79323W</td>\n",
       "      <td>WHITE CHERRY LIGHTS</td>\n",
       "      <td>12</td>\n",
       "      <td>2009-12-01 07:45:00</td>\n",
       "      <td>6.75</td>\n",
       "      <td>13085.00</td>\n",
       "      <td>United Kingdom</td>\n",
       "    </tr>\n",
       "    <tr>\n",
       "      <th>3</th>\n",
       "      <td>489434</td>\n",
       "      <td>22041</td>\n",
       "      <td>RECORD FRAME 7\" SINGLE SIZE</td>\n",
       "      <td>48</td>\n",
       "      <td>2009-12-01 07:45:00</td>\n",
       "      <td>2.10</td>\n",
       "      <td>13085.00</td>\n",
       "      <td>United Kingdom</td>\n",
       "    </tr>\n",
       "    <tr>\n",
       "      <th>4</th>\n",
       "      <td>489434</td>\n",
       "      <td>21232</td>\n",
       "      <td>STRAWBERRY CERAMIC TRINKET BOX</td>\n",
       "      <td>24</td>\n",
       "      <td>2009-12-01 07:45:00</td>\n",
       "      <td>1.25</td>\n",
       "      <td>13085.00</td>\n",
       "      <td>United Kingdom</td>\n",
       "    </tr>\n",
       "    <tr>\n",
       "      <th>...</th>\n",
       "      <td>...</td>\n",
       "      <td>...</td>\n",
       "      <td>...</td>\n",
       "      <td>...</td>\n",
       "      <td>...</td>\n",
       "      <td>...</td>\n",
       "      <td>...</td>\n",
       "      <td>...</td>\n",
       "    </tr>\n",
       "    <tr>\n",
       "      <th>525456</th>\n",
       "      <td>538171</td>\n",
       "      <td>22271</td>\n",
       "      <td>FELTCRAFT DOLL ROSIE</td>\n",
       "      <td>2</td>\n",
       "      <td>2010-12-09 20:01:00</td>\n",
       "      <td>2.95</td>\n",
       "      <td>17530.00</td>\n",
       "      <td>United Kingdom</td>\n",
       "    </tr>\n",
       "    <tr>\n",
       "      <th>525457</th>\n",
       "      <td>538171</td>\n",
       "      <td>22750</td>\n",
       "      <td>FELTCRAFT PRINCESS LOLA DOLL</td>\n",
       "      <td>1</td>\n",
       "      <td>2010-12-09 20:01:00</td>\n",
       "      <td>3.75</td>\n",
       "      <td>17530.00</td>\n",
       "      <td>United Kingdom</td>\n",
       "    </tr>\n",
       "    <tr>\n",
       "      <th>525458</th>\n",
       "      <td>538171</td>\n",
       "      <td>22751</td>\n",
       "      <td>FELTCRAFT PRINCESS OLIVIA DOLL</td>\n",
       "      <td>1</td>\n",
       "      <td>2010-12-09 20:01:00</td>\n",
       "      <td>3.75</td>\n",
       "      <td>17530.00</td>\n",
       "      <td>United Kingdom</td>\n",
       "    </tr>\n",
       "    <tr>\n",
       "      <th>525459</th>\n",
       "      <td>538171</td>\n",
       "      <td>20970</td>\n",
       "      <td>PINK FLORAL FELTCRAFT SHOULDER BAG</td>\n",
       "      <td>2</td>\n",
       "      <td>2010-12-09 20:01:00</td>\n",
       "      <td>3.75</td>\n",
       "      <td>17530.00</td>\n",
       "      <td>United Kingdom</td>\n",
       "    </tr>\n",
       "    <tr>\n",
       "      <th>525460</th>\n",
       "      <td>538171</td>\n",
       "      <td>21931</td>\n",
       "      <td>JUMBO STORAGE BAG SUKI</td>\n",
       "      <td>2</td>\n",
       "      <td>2010-12-09 20:01:00</td>\n",
       "      <td>1.95</td>\n",
       "      <td>17530.00</td>\n",
       "      <td>United Kingdom</td>\n",
       "    </tr>\n",
       "  </tbody>\n",
       "</table>\n",
       "<p>515252 rows × 8 columns</p>\n",
       "</div>"
      ],
      "text/plain": [
       "       Invoice StockCode                          Description  Quantity  \\\n",
       "0       489434     85048  15CM CHRISTMAS GLASS BALL 20 LIGHTS        12   \n",
       "1       489434    79323P                   PINK CHERRY LIGHTS        12   \n",
       "2       489434    79323W                  WHITE CHERRY LIGHTS        12   \n",
       "3       489434     22041         RECORD FRAME 7\" SINGLE SIZE         48   \n",
       "4       489434     21232       STRAWBERRY CERAMIC TRINKET BOX        24   \n",
       "...        ...       ...                                  ...       ...   \n",
       "525456  538171     22271                 FELTCRAFT DOLL ROSIE         2   \n",
       "525457  538171     22750         FELTCRAFT PRINCESS LOLA DOLL         1   \n",
       "525458  538171     22751       FELTCRAFT PRINCESS OLIVIA DOLL         1   \n",
       "525459  538171     20970   PINK FLORAL FELTCRAFT SHOULDER BAG         2   \n",
       "525460  538171     21931               JUMBO STORAGE BAG SUKI         2   \n",
       "\n",
       "               InvoiceDate                Price          Customer ID  \\\n",
       "0      2009-12-01 07:45:00                 6.95             13085.00   \n",
       "1      2009-12-01 07:45:00                 6.75             13085.00   \n",
       "2      2009-12-01 07:45:00                 6.75             13085.00   \n",
       "3      2009-12-01 07:45:00                 2.10             13085.00   \n",
       "4      2009-12-01 07:45:00                 1.25             13085.00   \n",
       "...                    ...                  ...                  ...   \n",
       "525456 2010-12-09 20:01:00                 2.95             17530.00   \n",
       "525457 2010-12-09 20:01:00                 3.75             17530.00   \n",
       "525458 2010-12-09 20:01:00                 3.75             17530.00   \n",
       "525459 2010-12-09 20:01:00                 3.75             17530.00   \n",
       "525460 2010-12-09 20:01:00                 1.95             17530.00   \n",
       "\n",
       "               Country  \n",
       "0       United Kingdom  \n",
       "1       United Kingdom  \n",
       "2       United Kingdom  \n",
       "3       United Kingdom  \n",
       "4       United Kingdom  \n",
       "...                ...  \n",
       "525456  United Kingdom  \n",
       "525457  United Kingdom  \n",
       "525458  United Kingdom  \n",
       "525459  United Kingdom  \n",
       "525460  United Kingdom  \n",
       "\n",
       "[515252 rows x 8 columns]"
      ]
     },
     "execution_count": 16,
     "metadata": {},
     "output_type": "execute_result"
    }
   ],
   "source": [
    "cleaned_df[\"Invoice\"] = cleaned_df[\"Invoice\"].astype('str')\n",
    "\n",
    "mask = (\n",
    "    cleaned_df[\"Invoice\"].str.match(\"^\\\\d{6}$\") == True\n",
    ")\n",
    "\n",
    "cleaned_df = cleaned_df[mask]\n",
    "\n",
    "cleaned_df"
   ]
  },
  {
   "cell_type": "code",
   "execution_count": 17,
   "id": "f0e136a5",
   "metadata": {},
   "outputs": [
    {
     "data": {
      "application/vnd.microsoft.datawrangler.viewer.v0+json": {
       "columns": [
        {
         "name": "index",
         "rawType": "int64",
         "type": "integer"
        },
        {
         "name": "Invoice",
         "rawType": "object",
         "type": "string"
        },
        {
         "name": "StockCode",
         "rawType": "object",
         "type": "string"
        },
        {
         "name": "Description",
         "rawType": "object",
         "type": "string"
        },
        {
         "name": "Quantity",
         "rawType": "int64",
         "type": "integer"
        },
        {
         "name": "InvoiceDate",
         "rawType": "datetime64[ns]",
         "type": "datetime"
        },
        {
         "name": "Price",
         "rawType": "float64",
         "type": "float"
        },
        {
         "name": "Customer ID",
         "rawType": "float64",
         "type": "float"
        },
        {
         "name": "Country",
         "rawType": "object",
         "type": "string"
        }
       ],
       "conversionMethod": "pd.DataFrame",
       "ref": "d5aaff98-469a-436e-8dda-27bd40d6f6f9",
       "rows": [],
       "shape": {
        "columns": 8,
        "rows": 0
       }
      },
      "text/html": [
       "<div>\n",
       "<style scoped>\n",
       "    .dataframe tbody tr th:only-of-type {\n",
       "        vertical-align: middle;\n",
       "    }\n",
       "\n",
       "    .dataframe tbody tr th {\n",
       "        vertical-align: top;\n",
       "    }\n",
       "\n",
       "    .dataframe thead th {\n",
       "        text-align: right;\n",
       "    }\n",
       "</style>\n",
       "<table border=\"1\" class=\"dataframe\">\n",
       "  <thead>\n",
       "    <tr style=\"text-align: right;\">\n",
       "      <th></th>\n",
       "      <th>Invoice</th>\n",
       "      <th>StockCode</th>\n",
       "      <th>Description</th>\n",
       "      <th>Quantity</th>\n",
       "      <th>InvoiceDate</th>\n",
       "      <th>Price</th>\n",
       "      <th>Customer ID</th>\n",
       "      <th>Country</th>\n",
       "    </tr>\n",
       "  </thead>\n",
       "  <tbody>\n",
       "  </tbody>\n",
       "</table>\n",
       "</div>"
      ],
      "text/plain": [
       "Empty DataFrame\n",
       "Columns: [Invoice, StockCode, Description, Quantity, InvoiceDate, Price, Customer ID, Country]\n",
       "Index: []"
      ]
     },
     "execution_count": 17,
     "metadata": {},
     "output_type": "execute_result"
    }
   ],
   "source": [
    "# checking if there any negative price values still appearing in the df\n",
    "\n",
    "cleaned_df[cleaned_df[\"Price\"] < 0]"
   ]
  },
  {
   "cell_type": "code",
   "execution_count": 18,
   "id": "ed1e8005",
   "metadata": {},
   "outputs": [],
   "source": [
    "cleaned_df.dropna(subset=[\"Customer ID\"], inplace=True)"
   ]
  },
  {
   "cell_type": "code",
   "execution_count": 19,
   "id": "6056bfe6",
   "metadata": {},
   "outputs": [
    {
     "data": {
      "application/vnd.microsoft.datawrangler.viewer.v0+json": {
       "columns": [
        {
         "name": "index",
         "rawType": "object",
         "type": "string"
        },
        {
         "name": "Quantity",
         "rawType": "float64",
         "type": "float"
        },
        {
         "name": "InvoiceDate",
         "rawType": "object",
         "type": "unknown"
        },
        {
         "name": "Price",
         "rawType": "float64",
         "type": "float"
        },
        {
         "name": "Customer ID",
         "rawType": "float64",
         "type": "float"
        }
       ],
       "conversionMethod": "pd.DataFrame",
       "ref": "25a996a8-0b76-4ac1-ad03-3dec457013e0",
       "rows": [
        [
         "count",
         "407695.0",
         "407695",
         "407695.0",
         "407695.0"
        ],
        [
         "mean",
         "13.58668612565766",
         "2010-07-01 10:10:10.782177792",
         "3.2941875274408576",
         "15368.504107237028"
        ],
        [
         "min",
         "1.0",
         "2009-12-01 07:45:00",
         "0.0",
         "12346.0"
        ],
        [
         "25%",
         "2.0",
         "2010-03-26 14:01:00",
         "1.25",
         "13997.0"
        ],
        [
         "50%",
         "5.0",
         "2010-07-09 15:46:00",
         "1.95",
         "15321.0"
        ],
        [
         "75%",
         "12.0",
         "2010-10-14 17:09:00",
         "3.75",
         "16812.0"
        ],
        [
         "max",
         "19152.0",
         "2010-12-09 20:01:00",
         "10953.5",
         "18287.0"
        ],
        [
         "std",
         "96.84222940796593",
         null,
         "34.756655003038794",
         "1679.7956995044497"
        ]
       ],
       "shape": {
        "columns": 4,
        "rows": 8
       }
      },
      "text/html": [
       "<div>\n",
       "<style scoped>\n",
       "    .dataframe tbody tr th:only-of-type {\n",
       "        vertical-align: middle;\n",
       "    }\n",
       "\n",
       "    .dataframe tbody tr th {\n",
       "        vertical-align: top;\n",
       "    }\n",
       "\n",
       "    .dataframe thead th {\n",
       "        text-align: right;\n",
       "    }\n",
       "</style>\n",
       "<table border=\"1\" class=\"dataframe\">\n",
       "  <thead>\n",
       "    <tr style=\"text-align: right;\">\n",
       "      <th></th>\n",
       "      <th>Quantity</th>\n",
       "      <th>InvoiceDate</th>\n",
       "      <th>Price</th>\n",
       "      <th>Customer ID</th>\n",
       "    </tr>\n",
       "  </thead>\n",
       "  <tbody>\n",
       "    <tr>\n",
       "      <th>count</th>\n",
       "      <td>407695.00</td>\n",
       "      <td>407695</td>\n",
       "      <td>407695.00</td>\n",
       "      <td>407695.00</td>\n",
       "    </tr>\n",
       "    <tr>\n",
       "      <th>mean</th>\n",
       "      <td>13.59</td>\n",
       "      <td>2010-07-01 10:10:10.782177792</td>\n",
       "      <td>3.29</td>\n",
       "      <td>15368.50</td>\n",
       "    </tr>\n",
       "    <tr>\n",
       "      <th>min</th>\n",
       "      <td>1.00</td>\n",
       "      <td>2009-12-01 07:45:00</td>\n",
       "      <td>0.00</td>\n",
       "      <td>12346.00</td>\n",
       "    </tr>\n",
       "    <tr>\n",
       "      <th>25%</th>\n",
       "      <td>2.00</td>\n",
       "      <td>2010-03-26 14:01:00</td>\n",
       "      <td>1.25</td>\n",
       "      <td>13997.00</td>\n",
       "    </tr>\n",
       "    <tr>\n",
       "      <th>50%</th>\n",
       "      <td>5.00</td>\n",
       "      <td>2010-07-09 15:46:00</td>\n",
       "      <td>1.95</td>\n",
       "      <td>15321.00</td>\n",
       "    </tr>\n",
       "    <tr>\n",
       "      <th>75%</th>\n",
       "      <td>12.00</td>\n",
       "      <td>2010-10-14 17:09:00</td>\n",
       "      <td>3.75</td>\n",
       "      <td>16812.00</td>\n",
       "    </tr>\n",
       "    <tr>\n",
       "      <th>max</th>\n",
       "      <td>19152.00</td>\n",
       "      <td>2010-12-09 20:01:00</td>\n",
       "      <td>10953.50</td>\n",
       "      <td>18287.00</td>\n",
       "    </tr>\n",
       "    <tr>\n",
       "      <th>std</th>\n",
       "      <td>96.84</td>\n",
       "      <td>NaN</td>\n",
       "      <td>34.76</td>\n",
       "      <td>1679.80</td>\n",
       "    </tr>\n",
       "  </tbody>\n",
       "</table>\n",
       "</div>"
      ],
      "text/plain": [
       "                  Quantity                    InvoiceDate  \\\n",
       "count            407695.00                         407695   \n",
       "mean                 13.59  2010-07-01 10:10:10.782177792   \n",
       "min                   1.00            2009-12-01 07:45:00   \n",
       "25%                   2.00            2010-03-26 14:01:00   \n",
       "50%                   5.00            2010-07-09 15:46:00   \n",
       "75%                  12.00            2010-10-14 17:09:00   \n",
       "max               19152.00            2010-12-09 20:01:00   \n",
       "std                  96.84                            NaN   \n",
       "\n",
       "                     Price          Customer ID  \n",
       "count            407695.00            407695.00  \n",
       "mean                  3.29             15368.50  \n",
       "min                   0.00             12346.00  \n",
       "25%                   1.25             13997.00  \n",
       "50%                   1.95             15321.00  \n",
       "75%                   3.75             16812.00  \n",
       "max               10953.50             18287.00  \n",
       "std                  34.76              1679.80  "
      ]
     },
     "execution_count": 19,
     "metadata": {},
     "output_type": "execute_result"
    }
   ],
   "source": [
    "cleaned_df.describe()"
   ]
  },
  {
   "cell_type": "code",
   "execution_count": 20,
   "id": "67161046",
   "metadata": {},
   "outputs": [
    {
     "data": {
      "application/vnd.microsoft.datawrangler.viewer.v0+json": {
       "columns": [
        {
         "name": "index",
         "rawType": "int64",
         "type": "integer"
        },
        {
         "name": "Invoice",
         "rawType": "object",
         "type": "string"
        },
        {
         "name": "StockCode",
         "rawType": "object",
         "type": "string"
        },
        {
         "name": "Description",
         "rawType": "object",
         "type": "string"
        },
        {
         "name": "Quantity",
         "rawType": "int64",
         "type": "integer"
        },
        {
         "name": "InvoiceDate",
         "rawType": "datetime64[ns]",
         "type": "datetime"
        },
        {
         "name": "Price",
         "rawType": "float64",
         "type": "float"
        },
        {
         "name": "Customer ID",
         "rawType": "float64",
         "type": "float"
        },
        {
         "name": "Country",
         "rawType": "object",
         "type": "string"
        }
       ],
       "conversionMethod": "pd.DataFrame",
       "ref": "4626529b-f347-4d1d-90dd-eeb8144fc9e9",
       "rows": [
        [
         "4674",
         "489825",
         "22076",
         "6 RIBBONS EMPIRE  ",
         "12",
         "2009-12-02 13:34:00",
         "0.0",
         "16126.0",
         "United Kingdom"
        ],
        [
         "6781",
         "489998",
         "48185",
         "DOOR MAT FAIRY CAKE",
         "2",
         "2009-12-03 11:19:00",
         "0.0",
         "15658.0",
         "United Kingdom"
        ],
        [
         "16107",
         "490727",
         "M",
         "Manual",
         "1",
         "2009-12-07 16:38:00",
         "0.0",
         "17231.0",
         "United Kingdom"
        ],
        [
         "18738",
         "490961",
         "22065",
         "CHRISTMAS PUDDING TRINKET POT ",
         "1",
         "2009-12-08 15:25:00",
         "0.0",
         "14108.0",
         "United Kingdom"
        ],
        [
         "18739",
         "490961",
         "22142",
         "CHRISTMAS CRAFT WHITE FAIRY ",
         "12",
         "2009-12-08 15:25:00",
         "0.0",
         "14108.0",
         "United Kingdom"
        ],
        [
         "32916",
         "492079",
         "85042",
         "ANTIQUE LILY FAIRY LIGHTS",
         "8",
         "2009-12-15 13:49:00",
         "0.0",
         "15070.0",
         "United Kingdom"
        ],
        [
         "40101",
         "492760",
         "21143",
         "ANTIQUE GLASS HEART DECORATION ",
         "12",
         "2009-12-18 14:22:00",
         "0.0",
         "18071.0",
         "United Kingdom"
        ],
        [
         "47126",
         "493761",
         "79320",
         " FLAMINGO LIGHTS",
         "24",
         "2010-01-06 14:54:00",
         "0.0",
         "14258.0",
         "United Kingdom"
        ],
        [
         "48342",
         "493899",
         "22355",
         "CHARLOTTE BAG , SUKI DESIGN",
         "10",
         "2010-01-08 10:43:00",
         "0.0",
         "12417.0",
         "Belgium"
        ],
        [
         "57619",
         "494607",
         "21533",
         "RETRO SPOT LARGE MILK JUG",
         "12",
         "2010-01-15 12:43:00",
         "0.0",
         "16858.0",
         "United Kingdom"
        ],
        [
         "89084",
         "497819",
         "TEST001",
         "This is a test product.",
         "5",
         "2010-02-12 14:58:00",
         "0.0",
         "14103.0",
         "United Kingdom"
        ],
        [
         "89180",
         "497843",
         "TEST001",
         "This is a test product.",
         "5",
         "2010-02-12 15:47:00",
         "0.0",
         "14827.0",
         "United Kingdom"
        ],
        [
         "111348",
         "500073",
         "21662",
         "VINTAGE GLASS COFFEE CADDY",
         "1",
         "2010-03-04 11:44:00",
         "0.0",
         "13047.0",
         "United Kingdom"
        ],
        [
         "149201",
         "503585",
         "22459",
         "CAST IRON HOOK GARDEN TROWEL",
         "8",
         "2010-04-01 17:13:00",
         "0.0",
         "13047.0",
         "United Kingdom"
        ],
        [
         "149202",
         "503585",
         "22458",
         "CAST IRON HOOK GARDEN FORK",
         "8",
         "2010-04-01 17:13:00",
         "0.0",
         "13047.0",
         "United Kingdom"
        ],
        [
         "166143",
         "505083",
         "22376",
         "AIRLINE BAG VINTAGE JET SET WHITE",
         "1",
         "2010-04-20 09:56:00",
         "0.0",
         "12623.0",
         "Germany"
        ],
        [
         "232526",
         "511902",
         "21765",
         "HANGING METAL BIRD BATH",
         "1",
         "2010-06-11 11:12:00",
         "0.0",
         "12748.0",
         "United Kingdom"
        ],
        [
         "240455",
         "512609",
         "20914",
         "SET/5 RED SPOTTY LID GLASS BOWLS",
         "2",
         "2010-06-17 10:12:00",
         "0.0",
         "14045.0",
         "United Kingdom"
        ],
        [
         "248583",
         "513416",
         "22423",
         "REGENCY CAKESTAND 3 TIER",
         "5",
         "2010-06-24 12:34:00",
         "0.0",
         "13089.0",
         "United Kingdom"
        ],
        [
         "276858",
         "516304",
         "22690",
         "DOORMAT HOME SWEET HOME BLUE ",
         "6",
         "2010-07-19 13:13:00",
         "0.0",
         "14025.0",
         "United Kingdom"
        ],
        [
         "296375",
         "518231",
         "22472",
         "TV DINNER TRAY DOLLY GIRL",
         "9",
         "2010-08-05 15:28:00",
         "0.0",
         "12471.0",
         "Germany"
        ],
        [
         "327801",
         "521375",
         "22202",
         "MILK PAN PINK RETROSPOT",
         "3",
         "2010-09-05 11:58:00",
         "0.0",
         "12647.0",
         "Germany"
        ],
        [
         "358820",
         "524181",
         "46000M",
         "POLYESTER FILLER PAD 45x45cm",
         "648",
         "2010-09-27 16:59:00",
         "0.0",
         "17450.0",
         "United Kingdom"
        ],
        [
         "364333",
         "524701",
         "22218",
         "CAKE STAND LACE WHITE",
         "2",
         "2010-09-30 12:19:00",
         "0.0",
         "17667.0",
         "United Kingdom"
        ],
        [
         "392008",
         "527084",
         "22630",
         "DOLLY GIRL LUNCH BOX",
         "64",
         "2010-10-14 15:33:00",
         "0.0",
         "14646.0",
         "Netherlands"
        ],
        [
         "400047",
         "527696",
         "22121",
         "NOEL WOODEN BLOCK LETTERS ",
         "1",
         "2010-10-18 15:13:00",
         "0.0",
         "13554.0",
         "United Kingdom"
        ],
        [
         "439309",
         "531361",
         "21843",
         "RED RETROSPOT CAKE STAND",
         "2",
         "2010-11-07 14:26:00",
         "0.0",
         "12820.0",
         "United Kingdom"
        ],
        [
         "453705",
         "532470",
         "22624",
         "IVORY KITCHEN SCALES",
         "2",
         "2010-11-12 11:41:00",
         "0.0",
         "12647.0",
         "Germany"
        ],
        [
         "471775",
         "533822",
         "22846",
         "BREAD BIN DINER STYLE RED ",
         "1",
         "2010-11-19 09:40:00",
         "0.0",
         "12647.0",
         "Germany"
        ],
        [
         "471776",
         "533822",
         "22845",
         "VINTAGE CREAM CAT FOOD CONTAINER",
         "1",
         "2010-11-19 09:40:00",
         "0.0",
         "12647.0",
         "Germany"
        ],
        [
         "512240",
         "537197",
         "22841",
         "ROUND CAKE TIN VINTAGE GREEN",
         "1",
         "2010-12-05 14:02:00",
         "0.0",
         "12647.0",
         "Germany"
        ]
       ],
       "shape": {
        "columns": 8,
        "rows": 31
       }
      },
      "text/html": [
       "<div>\n",
       "<style scoped>\n",
       "    .dataframe tbody tr th:only-of-type {\n",
       "        vertical-align: middle;\n",
       "    }\n",
       "\n",
       "    .dataframe tbody tr th {\n",
       "        vertical-align: top;\n",
       "    }\n",
       "\n",
       "    .dataframe thead th {\n",
       "        text-align: right;\n",
       "    }\n",
       "</style>\n",
       "<table border=\"1\" class=\"dataframe\">\n",
       "  <thead>\n",
       "    <tr style=\"text-align: right;\">\n",
       "      <th></th>\n",
       "      <th>Invoice</th>\n",
       "      <th>StockCode</th>\n",
       "      <th>Description</th>\n",
       "      <th>Quantity</th>\n",
       "      <th>InvoiceDate</th>\n",
       "      <th>Price</th>\n",
       "      <th>Customer ID</th>\n",
       "      <th>Country</th>\n",
       "    </tr>\n",
       "  </thead>\n",
       "  <tbody>\n",
       "    <tr>\n",
       "      <th>4674</th>\n",
       "      <td>489825</td>\n",
       "      <td>22076</td>\n",
       "      <td>6 RIBBONS EMPIRE</td>\n",
       "      <td>12</td>\n",
       "      <td>2009-12-02 13:34:00</td>\n",
       "      <td>0.00</td>\n",
       "      <td>16126.00</td>\n",
       "      <td>United Kingdom</td>\n",
       "    </tr>\n",
       "    <tr>\n",
       "      <th>6781</th>\n",
       "      <td>489998</td>\n",
       "      <td>48185</td>\n",
       "      <td>DOOR MAT FAIRY CAKE</td>\n",
       "      <td>2</td>\n",
       "      <td>2009-12-03 11:19:00</td>\n",
       "      <td>0.00</td>\n",
       "      <td>15658.00</td>\n",
       "      <td>United Kingdom</td>\n",
       "    </tr>\n",
       "    <tr>\n",
       "      <th>16107</th>\n",
       "      <td>490727</td>\n",
       "      <td>M</td>\n",
       "      <td>Manual</td>\n",
       "      <td>1</td>\n",
       "      <td>2009-12-07 16:38:00</td>\n",
       "      <td>0.00</td>\n",
       "      <td>17231.00</td>\n",
       "      <td>United Kingdom</td>\n",
       "    </tr>\n",
       "    <tr>\n",
       "      <th>18738</th>\n",
       "      <td>490961</td>\n",
       "      <td>22065</td>\n",
       "      <td>CHRISTMAS PUDDING TRINKET POT</td>\n",
       "      <td>1</td>\n",
       "      <td>2009-12-08 15:25:00</td>\n",
       "      <td>0.00</td>\n",
       "      <td>14108.00</td>\n",
       "      <td>United Kingdom</td>\n",
       "    </tr>\n",
       "    <tr>\n",
       "      <th>18739</th>\n",
       "      <td>490961</td>\n",
       "      <td>22142</td>\n",
       "      <td>CHRISTMAS CRAFT WHITE FAIRY</td>\n",
       "      <td>12</td>\n",
       "      <td>2009-12-08 15:25:00</td>\n",
       "      <td>0.00</td>\n",
       "      <td>14108.00</td>\n",
       "      <td>United Kingdom</td>\n",
       "    </tr>\n",
       "    <tr>\n",
       "      <th>32916</th>\n",
       "      <td>492079</td>\n",
       "      <td>85042</td>\n",
       "      <td>ANTIQUE LILY FAIRY LIGHTS</td>\n",
       "      <td>8</td>\n",
       "      <td>2009-12-15 13:49:00</td>\n",
       "      <td>0.00</td>\n",
       "      <td>15070.00</td>\n",
       "      <td>United Kingdom</td>\n",
       "    </tr>\n",
       "    <tr>\n",
       "      <th>40101</th>\n",
       "      <td>492760</td>\n",
       "      <td>21143</td>\n",
       "      <td>ANTIQUE GLASS HEART DECORATION</td>\n",
       "      <td>12</td>\n",
       "      <td>2009-12-18 14:22:00</td>\n",
       "      <td>0.00</td>\n",
       "      <td>18071.00</td>\n",
       "      <td>United Kingdom</td>\n",
       "    </tr>\n",
       "    <tr>\n",
       "      <th>47126</th>\n",
       "      <td>493761</td>\n",
       "      <td>79320</td>\n",
       "      <td>FLAMINGO LIGHTS</td>\n",
       "      <td>24</td>\n",
       "      <td>2010-01-06 14:54:00</td>\n",
       "      <td>0.00</td>\n",
       "      <td>14258.00</td>\n",
       "      <td>United Kingdom</td>\n",
       "    </tr>\n",
       "    <tr>\n",
       "      <th>48342</th>\n",
       "      <td>493899</td>\n",
       "      <td>22355</td>\n",
       "      <td>CHARLOTTE BAG , SUKI DESIGN</td>\n",
       "      <td>10</td>\n",
       "      <td>2010-01-08 10:43:00</td>\n",
       "      <td>0.00</td>\n",
       "      <td>12417.00</td>\n",
       "      <td>Belgium</td>\n",
       "    </tr>\n",
       "    <tr>\n",
       "      <th>57619</th>\n",
       "      <td>494607</td>\n",
       "      <td>21533</td>\n",
       "      <td>RETRO SPOT LARGE MILK JUG</td>\n",
       "      <td>12</td>\n",
       "      <td>2010-01-15 12:43:00</td>\n",
       "      <td>0.00</td>\n",
       "      <td>16858.00</td>\n",
       "      <td>United Kingdom</td>\n",
       "    </tr>\n",
       "    <tr>\n",
       "      <th>89084</th>\n",
       "      <td>497819</td>\n",
       "      <td>TEST001</td>\n",
       "      <td>This is a test product.</td>\n",
       "      <td>5</td>\n",
       "      <td>2010-02-12 14:58:00</td>\n",
       "      <td>0.00</td>\n",
       "      <td>14103.00</td>\n",
       "      <td>United Kingdom</td>\n",
       "    </tr>\n",
       "    <tr>\n",
       "      <th>89180</th>\n",
       "      <td>497843</td>\n",
       "      <td>TEST001</td>\n",
       "      <td>This is a test product.</td>\n",
       "      <td>5</td>\n",
       "      <td>2010-02-12 15:47:00</td>\n",
       "      <td>0.00</td>\n",
       "      <td>14827.00</td>\n",
       "      <td>United Kingdom</td>\n",
       "    </tr>\n",
       "    <tr>\n",
       "      <th>111348</th>\n",
       "      <td>500073</td>\n",
       "      <td>21662</td>\n",
       "      <td>VINTAGE GLASS COFFEE CADDY</td>\n",
       "      <td>1</td>\n",
       "      <td>2010-03-04 11:44:00</td>\n",
       "      <td>0.00</td>\n",
       "      <td>13047.00</td>\n",
       "      <td>United Kingdom</td>\n",
       "    </tr>\n",
       "    <tr>\n",
       "      <th>149201</th>\n",
       "      <td>503585</td>\n",
       "      <td>22459</td>\n",
       "      <td>CAST IRON HOOK GARDEN TROWEL</td>\n",
       "      <td>8</td>\n",
       "      <td>2010-04-01 17:13:00</td>\n",
       "      <td>0.00</td>\n",
       "      <td>13047.00</td>\n",
       "      <td>United Kingdom</td>\n",
       "    </tr>\n",
       "    <tr>\n",
       "      <th>149202</th>\n",
       "      <td>503585</td>\n",
       "      <td>22458</td>\n",
       "      <td>CAST IRON HOOK GARDEN FORK</td>\n",
       "      <td>8</td>\n",
       "      <td>2010-04-01 17:13:00</td>\n",
       "      <td>0.00</td>\n",
       "      <td>13047.00</td>\n",
       "      <td>United Kingdom</td>\n",
       "    </tr>\n",
       "    <tr>\n",
       "      <th>166143</th>\n",
       "      <td>505083</td>\n",
       "      <td>22376</td>\n",
       "      <td>AIRLINE BAG VINTAGE JET SET WHITE</td>\n",
       "      <td>1</td>\n",
       "      <td>2010-04-20 09:56:00</td>\n",
       "      <td>0.00</td>\n",
       "      <td>12623.00</td>\n",
       "      <td>Germany</td>\n",
       "    </tr>\n",
       "    <tr>\n",
       "      <th>232526</th>\n",
       "      <td>511902</td>\n",
       "      <td>21765</td>\n",
       "      <td>HANGING METAL BIRD BATH</td>\n",
       "      <td>1</td>\n",
       "      <td>2010-06-11 11:12:00</td>\n",
       "      <td>0.00</td>\n",
       "      <td>12748.00</td>\n",
       "      <td>United Kingdom</td>\n",
       "    </tr>\n",
       "    <tr>\n",
       "      <th>240455</th>\n",
       "      <td>512609</td>\n",
       "      <td>20914</td>\n",
       "      <td>SET/5 RED SPOTTY LID GLASS BOWLS</td>\n",
       "      <td>2</td>\n",
       "      <td>2010-06-17 10:12:00</td>\n",
       "      <td>0.00</td>\n",
       "      <td>14045.00</td>\n",
       "      <td>United Kingdom</td>\n",
       "    </tr>\n",
       "    <tr>\n",
       "      <th>248583</th>\n",
       "      <td>513416</td>\n",
       "      <td>22423</td>\n",
       "      <td>REGENCY CAKESTAND 3 TIER</td>\n",
       "      <td>5</td>\n",
       "      <td>2010-06-24 12:34:00</td>\n",
       "      <td>0.00</td>\n",
       "      <td>13089.00</td>\n",
       "      <td>United Kingdom</td>\n",
       "    </tr>\n",
       "    <tr>\n",
       "      <th>276858</th>\n",
       "      <td>516304</td>\n",
       "      <td>22690</td>\n",
       "      <td>DOORMAT HOME SWEET HOME BLUE</td>\n",
       "      <td>6</td>\n",
       "      <td>2010-07-19 13:13:00</td>\n",
       "      <td>0.00</td>\n",
       "      <td>14025.00</td>\n",
       "      <td>United Kingdom</td>\n",
       "    </tr>\n",
       "    <tr>\n",
       "      <th>296375</th>\n",
       "      <td>518231</td>\n",
       "      <td>22472</td>\n",
       "      <td>TV DINNER TRAY DOLLY GIRL</td>\n",
       "      <td>9</td>\n",
       "      <td>2010-08-05 15:28:00</td>\n",
       "      <td>0.00</td>\n",
       "      <td>12471.00</td>\n",
       "      <td>Germany</td>\n",
       "    </tr>\n",
       "    <tr>\n",
       "      <th>327801</th>\n",
       "      <td>521375</td>\n",
       "      <td>22202</td>\n",
       "      <td>MILK PAN PINK RETROSPOT</td>\n",
       "      <td>3</td>\n",
       "      <td>2010-09-05 11:58:00</td>\n",
       "      <td>0.00</td>\n",
       "      <td>12647.00</td>\n",
       "      <td>Germany</td>\n",
       "    </tr>\n",
       "    <tr>\n",
       "      <th>358820</th>\n",
       "      <td>524181</td>\n",
       "      <td>46000M</td>\n",
       "      <td>POLYESTER FILLER PAD 45x45cm</td>\n",
       "      <td>648</td>\n",
       "      <td>2010-09-27 16:59:00</td>\n",
       "      <td>0.00</td>\n",
       "      <td>17450.00</td>\n",
       "      <td>United Kingdom</td>\n",
       "    </tr>\n",
       "    <tr>\n",
       "      <th>364333</th>\n",
       "      <td>524701</td>\n",
       "      <td>22218</td>\n",
       "      <td>CAKE STAND LACE WHITE</td>\n",
       "      <td>2</td>\n",
       "      <td>2010-09-30 12:19:00</td>\n",
       "      <td>0.00</td>\n",
       "      <td>17667.00</td>\n",
       "      <td>United Kingdom</td>\n",
       "    </tr>\n",
       "    <tr>\n",
       "      <th>392008</th>\n",
       "      <td>527084</td>\n",
       "      <td>22630</td>\n",
       "      <td>DOLLY GIRL LUNCH BOX</td>\n",
       "      <td>64</td>\n",
       "      <td>2010-10-14 15:33:00</td>\n",
       "      <td>0.00</td>\n",
       "      <td>14646.00</td>\n",
       "      <td>Netherlands</td>\n",
       "    </tr>\n",
       "    <tr>\n",
       "      <th>400047</th>\n",
       "      <td>527696</td>\n",
       "      <td>22121</td>\n",
       "      <td>NOEL WOODEN BLOCK LETTERS</td>\n",
       "      <td>1</td>\n",
       "      <td>2010-10-18 15:13:00</td>\n",
       "      <td>0.00</td>\n",
       "      <td>13554.00</td>\n",
       "      <td>United Kingdom</td>\n",
       "    </tr>\n",
       "    <tr>\n",
       "      <th>439309</th>\n",
       "      <td>531361</td>\n",
       "      <td>21843</td>\n",
       "      <td>RED RETROSPOT CAKE STAND</td>\n",
       "      <td>2</td>\n",
       "      <td>2010-11-07 14:26:00</td>\n",
       "      <td>0.00</td>\n",
       "      <td>12820.00</td>\n",
       "      <td>United Kingdom</td>\n",
       "    </tr>\n",
       "    <tr>\n",
       "      <th>453705</th>\n",
       "      <td>532470</td>\n",
       "      <td>22624</td>\n",
       "      <td>IVORY KITCHEN SCALES</td>\n",
       "      <td>2</td>\n",
       "      <td>2010-11-12 11:41:00</td>\n",
       "      <td>0.00</td>\n",
       "      <td>12647.00</td>\n",
       "      <td>Germany</td>\n",
       "    </tr>\n",
       "    <tr>\n",
       "      <th>471775</th>\n",
       "      <td>533822</td>\n",
       "      <td>22846</td>\n",
       "      <td>BREAD BIN DINER STYLE RED</td>\n",
       "      <td>1</td>\n",
       "      <td>2010-11-19 09:40:00</td>\n",
       "      <td>0.00</td>\n",
       "      <td>12647.00</td>\n",
       "      <td>Germany</td>\n",
       "    </tr>\n",
       "    <tr>\n",
       "      <th>471776</th>\n",
       "      <td>533822</td>\n",
       "      <td>22845</td>\n",
       "      <td>VINTAGE CREAM CAT FOOD CONTAINER</td>\n",
       "      <td>1</td>\n",
       "      <td>2010-11-19 09:40:00</td>\n",
       "      <td>0.00</td>\n",
       "      <td>12647.00</td>\n",
       "      <td>Germany</td>\n",
       "    </tr>\n",
       "    <tr>\n",
       "      <th>512240</th>\n",
       "      <td>537197</td>\n",
       "      <td>22841</td>\n",
       "      <td>ROUND CAKE TIN VINTAGE GREEN</td>\n",
       "      <td>1</td>\n",
       "      <td>2010-12-05 14:02:00</td>\n",
       "      <td>0.00</td>\n",
       "      <td>12647.00</td>\n",
       "      <td>Germany</td>\n",
       "    </tr>\n",
       "  </tbody>\n",
       "</table>\n",
       "</div>"
      ],
      "text/plain": [
       "       Invoice StockCode                        Description  Quantity  \\\n",
       "4674    489825     22076                 6 RIBBONS EMPIRE          12   \n",
       "6781    489998     48185                DOOR MAT FAIRY CAKE         2   \n",
       "16107   490727         M                             Manual         1   \n",
       "18738   490961     22065     CHRISTMAS PUDDING TRINKET POT          1   \n",
       "18739   490961     22142       CHRISTMAS CRAFT WHITE FAIRY         12   \n",
       "32916   492079     85042          ANTIQUE LILY FAIRY LIGHTS         8   \n",
       "40101   492760     21143    ANTIQUE GLASS HEART DECORATION         12   \n",
       "47126   493761     79320                    FLAMINGO LIGHTS        24   \n",
       "48342   493899     22355        CHARLOTTE BAG , SUKI DESIGN        10   \n",
       "57619   494607     21533          RETRO SPOT LARGE MILK JUG        12   \n",
       "89084   497819   TEST001            This is a test product.         5   \n",
       "89180   497843   TEST001            This is a test product.         5   \n",
       "111348  500073     21662         VINTAGE GLASS COFFEE CADDY         1   \n",
       "149201  503585     22459       CAST IRON HOOK GARDEN TROWEL         8   \n",
       "149202  503585     22458         CAST IRON HOOK GARDEN FORK         8   \n",
       "166143  505083     22376  AIRLINE BAG VINTAGE JET SET WHITE         1   \n",
       "232526  511902     21765            HANGING METAL BIRD BATH         1   \n",
       "240455  512609     20914   SET/5 RED SPOTTY LID GLASS BOWLS         2   \n",
       "248583  513416     22423           REGENCY CAKESTAND 3 TIER         5   \n",
       "276858  516304     22690      DOORMAT HOME SWEET HOME BLUE          6   \n",
       "296375  518231     22472          TV DINNER TRAY DOLLY GIRL         9   \n",
       "327801  521375     22202            MILK PAN PINK RETROSPOT         3   \n",
       "358820  524181    46000M       POLYESTER FILLER PAD 45x45cm       648   \n",
       "364333  524701     22218              CAKE STAND LACE WHITE         2   \n",
       "392008  527084     22630               DOLLY GIRL LUNCH BOX        64   \n",
       "400047  527696     22121         NOEL WOODEN BLOCK LETTERS          1   \n",
       "439309  531361     21843           RED RETROSPOT CAKE STAND         2   \n",
       "453705  532470     22624               IVORY KITCHEN SCALES         2   \n",
       "471775  533822     22846         BREAD BIN DINER STYLE RED          1   \n",
       "471776  533822     22845   VINTAGE CREAM CAT FOOD CONTAINER         1   \n",
       "512240  537197     22841       ROUND CAKE TIN VINTAGE GREEN         1   \n",
       "\n",
       "               InvoiceDate                Price          Customer ID  \\\n",
       "4674   2009-12-02 13:34:00                 0.00             16126.00   \n",
       "6781   2009-12-03 11:19:00                 0.00             15658.00   \n",
       "16107  2009-12-07 16:38:00                 0.00             17231.00   \n",
       "18738  2009-12-08 15:25:00                 0.00             14108.00   \n",
       "18739  2009-12-08 15:25:00                 0.00             14108.00   \n",
       "32916  2009-12-15 13:49:00                 0.00             15070.00   \n",
       "40101  2009-12-18 14:22:00                 0.00             18071.00   \n",
       "47126  2010-01-06 14:54:00                 0.00             14258.00   \n",
       "48342  2010-01-08 10:43:00                 0.00             12417.00   \n",
       "57619  2010-01-15 12:43:00                 0.00             16858.00   \n",
       "89084  2010-02-12 14:58:00                 0.00             14103.00   \n",
       "89180  2010-02-12 15:47:00                 0.00             14827.00   \n",
       "111348 2010-03-04 11:44:00                 0.00             13047.00   \n",
       "149201 2010-04-01 17:13:00                 0.00             13047.00   \n",
       "149202 2010-04-01 17:13:00                 0.00             13047.00   \n",
       "166143 2010-04-20 09:56:00                 0.00             12623.00   \n",
       "232526 2010-06-11 11:12:00                 0.00             12748.00   \n",
       "240455 2010-06-17 10:12:00                 0.00             14045.00   \n",
       "248583 2010-06-24 12:34:00                 0.00             13089.00   \n",
       "276858 2010-07-19 13:13:00                 0.00             14025.00   \n",
       "296375 2010-08-05 15:28:00                 0.00             12471.00   \n",
       "327801 2010-09-05 11:58:00                 0.00             12647.00   \n",
       "358820 2010-09-27 16:59:00                 0.00             17450.00   \n",
       "364333 2010-09-30 12:19:00                 0.00             17667.00   \n",
       "392008 2010-10-14 15:33:00                 0.00             14646.00   \n",
       "400047 2010-10-18 15:13:00                 0.00             13554.00   \n",
       "439309 2010-11-07 14:26:00                 0.00             12820.00   \n",
       "453705 2010-11-12 11:41:00                 0.00             12647.00   \n",
       "471775 2010-11-19 09:40:00                 0.00             12647.00   \n",
       "471776 2010-11-19 09:40:00                 0.00             12647.00   \n",
       "512240 2010-12-05 14:02:00                 0.00             12647.00   \n",
       "\n",
       "               Country  \n",
       "4674    United Kingdom  \n",
       "6781    United Kingdom  \n",
       "16107   United Kingdom  \n",
       "18738   United Kingdom  \n",
       "18739   United Kingdom  \n",
       "32916   United Kingdom  \n",
       "40101   United Kingdom  \n",
       "47126   United Kingdom  \n",
       "48342          Belgium  \n",
       "57619   United Kingdom  \n",
       "89084   United Kingdom  \n",
       "89180   United Kingdom  \n",
       "111348  United Kingdom  \n",
       "149201  United Kingdom  \n",
       "149202  United Kingdom  \n",
       "166143         Germany  \n",
       "232526  United Kingdom  \n",
       "240455  United Kingdom  \n",
       "248583  United Kingdom  \n",
       "276858  United Kingdom  \n",
       "296375         Germany  \n",
       "327801         Germany  \n",
       "358820  United Kingdom  \n",
       "364333  United Kingdom  \n",
       "392008     Netherlands  \n",
       "400047  United Kingdom  \n",
       "439309  United Kingdom  \n",
       "453705         Germany  \n",
       "471775         Germany  \n",
       "471776         Germany  \n",
       "512240         Germany  "
      ]
     },
     "execution_count": 20,
     "metadata": {},
     "output_type": "execute_result"
    }
   ],
   "source": [
    "price_zero = cleaned_df[cleaned_df[\"Price\"] == 0]\n",
    "price_zero"
   ]
  },
  {
   "cell_type": "code",
   "execution_count": 21,
   "id": "90dc782c",
   "metadata": {},
   "outputs": [
    {
     "data": {
      "text/plain": [
       "31"
      ]
     },
     "execution_count": 21,
     "metadata": {},
     "output_type": "execute_result"
    }
   ],
   "source": [
    "len(price_zero)"
   ]
  },
  {
   "cell_type": "code",
   "execution_count": 22,
   "id": "9106a1b6",
   "metadata": {},
   "outputs": [
    {
     "data": {
      "text/plain": [
       "77.58806076949574"
      ]
     },
     "execution_count": 22,
     "metadata": {},
     "output_type": "execute_result"
    }
   ],
   "source": [
    "len(cleaned_df) / len(df) * 100"
   ]
  },
  {
   "cell_type": "markdown",
   "id": "6596ad3a",
   "metadata": {},
   "source": [
    "     In the cleaning prcess we lost about 23% of data."
   ]
  },
  {
   "cell_type": "markdown",
   "id": "52f08221",
   "metadata": {},
   "source": [
    "## Feature Engineering"
   ]
  },
  {
   "cell_type": "code",
   "execution_count": 23,
   "id": "5390a83c",
   "metadata": {},
   "outputs": [
    {
     "data": {
      "application/vnd.microsoft.datawrangler.viewer.v0+json": {
       "columns": [
        {
         "name": "index",
         "rawType": "int64",
         "type": "integer"
        },
        {
         "name": "Invoice",
         "rawType": "object",
         "type": "string"
        },
        {
         "name": "StockCode",
         "rawType": "object",
         "type": "string"
        },
        {
         "name": "Description",
         "rawType": "object",
         "type": "string"
        },
        {
         "name": "Quantity",
         "rawType": "int64",
         "type": "integer"
        },
        {
         "name": "InvoiceDate",
         "rawType": "datetime64[ns]",
         "type": "datetime"
        },
        {
         "name": "Price",
         "rawType": "float64",
         "type": "float"
        },
        {
         "name": "Customer ID",
         "rawType": "float64",
         "type": "float"
        },
        {
         "name": "Country",
         "rawType": "object",
         "type": "string"
        },
        {
         "name": "Total Sales",
         "rawType": "float64",
         "type": "float"
        }
       ],
       "conversionMethod": "pd.DataFrame",
       "ref": "3b6cd902-e6df-40aa-84cb-fa6aee542ee2",
       "rows": [
        [
         "0",
         "489434",
         "85048",
         "15CM CHRISTMAS GLASS BALL 20 LIGHTS",
         "12",
         "2009-12-01 07:45:00",
         "6.95",
         "13085.0",
         "United Kingdom",
         "83.4"
        ],
        [
         "1",
         "489434",
         "79323P",
         "PINK CHERRY LIGHTS",
         "12",
         "2009-12-01 07:45:00",
         "6.75",
         "13085.0",
         "United Kingdom",
         "81.0"
        ],
        [
         "2",
         "489434",
         "79323W",
         " WHITE CHERRY LIGHTS",
         "12",
         "2009-12-01 07:45:00",
         "6.75",
         "13085.0",
         "United Kingdom",
         "81.0"
        ],
        [
         "3",
         "489434",
         "22041",
         "RECORD FRAME 7\" SINGLE SIZE ",
         "48",
         "2009-12-01 07:45:00",
         "2.1",
         "13085.0",
         "United Kingdom",
         "100.80000000000001"
        ],
        [
         "4",
         "489434",
         "21232",
         "STRAWBERRY CERAMIC TRINKET BOX",
         "24",
         "2009-12-01 07:45:00",
         "1.25",
         "13085.0",
         "United Kingdom",
         "30.0"
        ],
        [
         "5",
         "489434",
         "22064",
         "PINK DOUGHNUT TRINKET POT ",
         "24",
         "2009-12-01 07:45:00",
         "1.65",
         "13085.0",
         "United Kingdom",
         "39.599999999999994"
        ],
        [
         "6",
         "489434",
         "21871",
         "SAVE THE PLANET MUG",
         "24",
         "2009-12-01 07:45:00",
         "1.25",
         "13085.0",
         "United Kingdom",
         "30.0"
        ],
        [
         "7",
         "489434",
         "21523",
         "FANCY FONT HOME SWEET HOME DOORMAT",
         "10",
         "2009-12-01 07:45:00",
         "5.95",
         "13085.0",
         "United Kingdom",
         "59.5"
        ],
        [
         "8",
         "489435",
         "22350",
         "CAT BOWL ",
         "12",
         "2009-12-01 07:46:00",
         "2.55",
         "13085.0",
         "United Kingdom",
         "30.599999999999998"
        ],
        [
         "9",
         "489435",
         "22349",
         "DOG BOWL , CHASING BALL DESIGN",
         "12",
         "2009-12-01 07:46:00",
         "3.75",
         "13085.0",
         "United Kingdom",
         "45.0"
        ],
        [
         "10",
         "489435",
         "22195",
         "HEART MEASURING SPOONS LARGE",
         "24",
         "2009-12-01 07:46:00",
         "1.65",
         "13085.0",
         "United Kingdom",
         "39.599999999999994"
        ],
        [
         "11",
         "489435",
         "22353",
         "LUNCHBOX WITH CUTLERY FAIRY CAKES ",
         "12",
         "2009-12-01 07:46:00",
         "2.55",
         "13085.0",
         "United Kingdom",
         "30.599999999999998"
        ],
        [
         "12",
         "489436",
         "48173C",
         "DOOR MAT BLACK FLOCK ",
         "10",
         "2009-12-01 09:06:00",
         "5.95",
         "13078.0",
         "United Kingdom",
         "59.5"
        ],
        [
         "13",
         "489436",
         "21755",
         "LOVE BUILDING BLOCK WORD",
         "18",
         "2009-12-01 09:06:00",
         "5.45",
         "13078.0",
         "United Kingdom",
         "98.10000000000001"
        ],
        [
         "14",
         "489436",
         "21754",
         "HOME BUILDING BLOCK WORD",
         "3",
         "2009-12-01 09:06:00",
         "5.95",
         "13078.0",
         "United Kingdom",
         "17.85"
        ],
        [
         "15",
         "489436",
         "84879",
         "ASSORTED COLOUR BIRD ORNAMENT",
         "16",
         "2009-12-01 09:06:00",
         "1.69",
         "13078.0",
         "United Kingdom",
         "27.04"
        ],
        [
         "16",
         "489436",
         "22119",
         " PEACE WOODEN BLOCK LETTERS",
         "3",
         "2009-12-01 09:06:00",
         "6.95",
         "13078.0",
         "United Kingdom",
         "20.85"
        ],
        [
         "17",
         "489436",
         "22142",
         "CHRISTMAS CRAFT WHITE FAIRY ",
         "12",
         "2009-12-01 09:06:00",
         "1.45",
         "13078.0",
         "United Kingdom",
         "17.4"
        ],
        [
         "18",
         "489436",
         "22296",
         "HEART IVORY TRELLIS LARGE",
         "12",
         "2009-12-01 09:06:00",
         "1.65",
         "13078.0",
         "United Kingdom",
         "19.799999999999997"
        ],
        [
         "19",
         "489436",
         "22295",
         "HEART FILIGREE DOVE LARGE",
         "12",
         "2009-12-01 09:06:00",
         "1.65",
         "13078.0",
         "United Kingdom",
         "19.799999999999997"
        ],
        [
         "20",
         "489436",
         "22109",
         "FULL ENGLISH BREAKFAST PLATE",
         "16",
         "2009-12-01 09:06:00",
         "3.39",
         "13078.0",
         "United Kingdom",
         "54.24"
        ],
        [
         "21",
         "489436",
         "22107",
         "PIZZA PLATE IN BOX",
         "4",
         "2009-12-01 09:06:00",
         "3.75",
         "13078.0",
         "United Kingdom",
         "15.0"
        ],
        [
         "22",
         "489436",
         "22194",
         "BLACK DINER WALL CLOCK",
         "2",
         "2009-12-01 09:06:00",
         "8.5",
         "13078.0",
         "United Kingdom",
         "17.0"
        ],
        [
         "23",
         "489436",
         "35004B",
         "SET OF 3 BLACK FLYING DUCKS",
         "12",
         "2009-12-01 09:06:00",
         "4.65",
         "13078.0",
         "United Kingdom",
         "55.800000000000004"
        ],
        [
         "24",
         "489436",
         "82582",
         "AREA PATROLLED METAL SIGN",
         "12",
         "2009-12-01 09:06:00",
         "2.1",
         "13078.0",
         "United Kingdom",
         "25.200000000000003"
        ],
        [
         "25",
         "489436",
         "21181",
         "PLEASE ONE PERSON  METAL SIGN",
         "12",
         "2009-12-01 09:06:00",
         "2.1",
         "13078.0",
         "United Kingdom",
         "25.200000000000003"
        ],
        [
         "26",
         "489436",
         "21756",
         "BATH BUILDING BLOCK WORD",
         "3",
         "2009-12-01 09:06:00",
         "5.95",
         "13078.0",
         "United Kingdom",
         "17.85"
        ],
        [
         "27",
         "489436",
         "21333",
         "CLASSIC WHITE FRAME",
         "6",
         "2009-12-01 09:06:00",
         "2.95",
         "13078.0",
         "United Kingdom",
         "17.700000000000003"
        ],
        [
         "28",
         "489436",
         "84596F",
         "SMALL MARSHMALLOWS PINK BOWL",
         "8",
         "2009-12-01 09:06:00",
         "1.25",
         "13078.0",
         "United Kingdom",
         "10.0"
        ],
        [
         "29",
         "489436",
         "84596L",
         "BISCUITS SMALL BOWL LIGHT BLUE",
         "8",
         "2009-12-01 09:06:00",
         "1.25",
         "13078.0",
         "United Kingdom",
         "10.0"
        ],
        [
         "30",
         "489436",
         "22111",
         "SCOTTIE DOG HOT WATER BOTTLE",
         "24",
         "2009-12-01 09:06:00",
         "4.25",
         "13078.0",
         "United Kingdom",
         "102.0"
        ],
        [
         "31",
         "489437",
         "22143",
         "CHRISTMAS CRAFT HEART DECORATIONS",
         "6",
         "2009-12-01 09:08:00",
         "2.1",
         "15362.0",
         "United Kingdom",
         "12.600000000000001"
        ],
        [
         "32",
         "489437",
         "22145",
         "CHRISTMAS CRAFT HEART STOCKING ",
         "6",
         "2009-12-01 09:08:00",
         "2.1",
         "15362.0",
         "United Kingdom",
         "12.600000000000001"
        ],
        [
         "33",
         "489437",
         "22130",
         "PARTY CONE CHRISTMAS DECORATION ",
         "12",
         "2009-12-01 09:08:00",
         "0.85",
         "15362.0",
         "United Kingdom",
         "10.2"
        ],
        [
         "34",
         "489437",
         "21364",
         "PEACE SMALL WOOD LETTERS",
         "2",
         "2009-12-01 09:08:00",
         "6.75",
         "15362.0",
         "United Kingdom",
         "13.5"
        ],
        [
         "35",
         "489437",
         "21360",
         "JOY LARGE WOOD LETTERS",
         "1",
         "2009-12-01 09:08:00",
         "9.95",
         "15362.0",
         "United Kingdom",
         "9.95"
        ],
        [
         "36",
         "489437",
         "21351",
         "CINAMMON & ORANGE WREATH",
         "2",
         "2009-12-01 09:08:00",
         "6.75",
         "15362.0",
         "United Kingdom",
         "13.5"
        ],
        [
         "37",
         "489437",
         "21352",
         "EUCALYPTUS & PINECONE  WREATH",
         "2",
         "2009-12-01 09:08:00",
         "6.75",
         "15362.0",
         "United Kingdom",
         "13.5"
        ],
        [
         "38",
         "489437",
         "35400",
         "WOODEN BOX ADVENT CALENDAR ",
         "2",
         "2009-12-01 09:08:00",
         "8.95",
         "15362.0",
         "United Kingdom",
         "17.9"
        ],
        [
         "39",
         "489437",
         "20695",
         "FLORAL BLUE MONSTER",
         "3",
         "2009-12-01 09:08:00",
         "4.25",
         "15362.0",
         "United Kingdom",
         "12.75"
        ],
        [
         "40",
         "489437",
         "37370",
         "RETRO COFFEE MUGS ASSORTED",
         "12",
         "2009-12-01 09:08:00",
         "1.25",
         "15362.0",
         "United Kingdom",
         "15.0"
        ],
        [
         "41",
         "489437",
         "10002",
         "INFLATABLE POLITICAL GLOBE ",
         "12",
         "2009-12-01 09:08:00",
         "0.85",
         "15362.0",
         "United Kingdom",
         "10.2"
        ],
        [
         "42",
         "489437",
         "84507B",
         "STRIPES DESIGN MONKEY DOLL",
         "6",
         "2009-12-01 09:08:00",
         "2.55",
         "15362.0",
         "United Kingdom",
         "15.299999999999999"
        ],
        [
         "43",
         "489437",
         "20703",
         "BLUE PADDED SOFT MOBILE",
         "3",
         "2009-12-01 09:08:00",
         "4.25",
         "15362.0",
         "United Kingdom",
         "12.75"
        ],
        [
         "44",
         "489437",
         "21987",
         "PACK OF 6 SKULL PAPER CUPS",
         "12",
         "2009-12-01 09:08:00",
         "0.65",
         "15362.0",
         "United Kingdom",
         "7.800000000000001"
        ],
        [
         "45",
         "489437",
         "21989",
         "PACK OF 20 SKULL PAPER NAPKINS",
         "12",
         "2009-12-01 09:08:00",
         "0.85",
         "15362.0",
         "United Kingdom",
         "10.2"
        ],
        [
         "46",
         "489437",
         "84970S",
         "HANGING HEART ZINC T-LIGHT HOLDER",
         "12",
         "2009-12-01 09:08:00",
         "0.85",
         "15362.0",
         "United Kingdom",
         "10.2"
        ],
        [
         "47",
         "489437",
         "20971",
         "PINK BLUE FELT CRAFT TRINKET BOX",
         "12",
         "2009-12-01 09:08:00",
         "1.25",
         "15362.0",
         "United Kingdom",
         "15.0"
        ],
        [
         "48",
         "489437",
         "22271",
         "FELTCRAFT DOLL ROSIE",
         "6",
         "2009-12-01 09:08:00",
         "2.95",
         "15362.0",
         "United Kingdom",
         "17.700000000000003"
        ],
        [
         "49",
         "489437",
         "22272",
         "FELTCRAFT DOLL MARIA",
         "6",
         "2009-12-01 09:08:00",
         "2.95",
         "15362.0",
         "United Kingdom",
         "17.700000000000003"
        ]
       ],
       "shape": {
        "columns": 9,
        "rows": 407695
       }
      },
      "text/html": [
       "<div>\n",
       "<style scoped>\n",
       "    .dataframe tbody tr th:only-of-type {\n",
       "        vertical-align: middle;\n",
       "    }\n",
       "\n",
       "    .dataframe tbody tr th {\n",
       "        vertical-align: top;\n",
       "    }\n",
       "\n",
       "    .dataframe thead th {\n",
       "        text-align: right;\n",
       "    }\n",
       "</style>\n",
       "<table border=\"1\" class=\"dataframe\">\n",
       "  <thead>\n",
       "    <tr style=\"text-align: right;\">\n",
       "      <th></th>\n",
       "      <th>Invoice</th>\n",
       "      <th>StockCode</th>\n",
       "      <th>Description</th>\n",
       "      <th>Quantity</th>\n",
       "      <th>InvoiceDate</th>\n",
       "      <th>Price</th>\n",
       "      <th>Customer ID</th>\n",
       "      <th>Country</th>\n",
       "      <th>Total Sales</th>\n",
       "    </tr>\n",
       "  </thead>\n",
       "  <tbody>\n",
       "    <tr>\n",
       "      <th>0</th>\n",
       "      <td>489434</td>\n",
       "      <td>85048</td>\n",
       "      <td>15CM CHRISTMAS GLASS BALL 20 LIGHTS</td>\n",
       "      <td>12</td>\n",
       "      <td>2009-12-01 07:45:00</td>\n",
       "      <td>6.95</td>\n",
       "      <td>13085.00</td>\n",
       "      <td>United Kingdom</td>\n",
       "      <td>83.40</td>\n",
       "    </tr>\n",
       "    <tr>\n",
       "      <th>1</th>\n",
       "      <td>489434</td>\n",
       "      <td>79323P</td>\n",
       "      <td>PINK CHERRY LIGHTS</td>\n",
       "      <td>12</td>\n",
       "      <td>2009-12-01 07:45:00</td>\n",
       "      <td>6.75</td>\n",
       "      <td>13085.00</td>\n",
       "      <td>United Kingdom</td>\n",
       "      <td>81.00</td>\n",
       "    </tr>\n",
       "    <tr>\n",
       "      <th>2</th>\n",
       "      <td>489434</td>\n",
       "      <td>79323W</td>\n",
       "      <td>WHITE CHERRY LIGHTS</td>\n",
       "      <td>12</td>\n",
       "      <td>2009-12-01 07:45:00</td>\n",
       "      <td>6.75</td>\n",
       "      <td>13085.00</td>\n",
       "      <td>United Kingdom</td>\n",
       "      <td>81.00</td>\n",
       "    </tr>\n",
       "    <tr>\n",
       "      <th>3</th>\n",
       "      <td>489434</td>\n",
       "      <td>22041</td>\n",
       "      <td>RECORD FRAME 7\" SINGLE SIZE</td>\n",
       "      <td>48</td>\n",
       "      <td>2009-12-01 07:45:00</td>\n",
       "      <td>2.10</td>\n",
       "      <td>13085.00</td>\n",
       "      <td>United Kingdom</td>\n",
       "      <td>100.80</td>\n",
       "    </tr>\n",
       "    <tr>\n",
       "      <th>4</th>\n",
       "      <td>489434</td>\n",
       "      <td>21232</td>\n",
       "      <td>STRAWBERRY CERAMIC TRINKET BOX</td>\n",
       "      <td>24</td>\n",
       "      <td>2009-12-01 07:45:00</td>\n",
       "      <td>1.25</td>\n",
       "      <td>13085.00</td>\n",
       "      <td>United Kingdom</td>\n",
       "      <td>30.00</td>\n",
       "    </tr>\n",
       "    <tr>\n",
       "      <th>...</th>\n",
       "      <td>...</td>\n",
       "      <td>...</td>\n",
       "      <td>...</td>\n",
       "      <td>...</td>\n",
       "      <td>...</td>\n",
       "      <td>...</td>\n",
       "      <td>...</td>\n",
       "      <td>...</td>\n",
       "      <td>...</td>\n",
       "    </tr>\n",
       "    <tr>\n",
       "      <th>525456</th>\n",
       "      <td>538171</td>\n",
       "      <td>22271</td>\n",
       "      <td>FELTCRAFT DOLL ROSIE</td>\n",
       "      <td>2</td>\n",
       "      <td>2010-12-09 20:01:00</td>\n",
       "      <td>2.95</td>\n",
       "      <td>17530.00</td>\n",
       "      <td>United Kingdom</td>\n",
       "      <td>5.90</td>\n",
       "    </tr>\n",
       "    <tr>\n",
       "      <th>525457</th>\n",
       "      <td>538171</td>\n",
       "      <td>22750</td>\n",
       "      <td>FELTCRAFT PRINCESS LOLA DOLL</td>\n",
       "      <td>1</td>\n",
       "      <td>2010-12-09 20:01:00</td>\n",
       "      <td>3.75</td>\n",
       "      <td>17530.00</td>\n",
       "      <td>United Kingdom</td>\n",
       "      <td>3.75</td>\n",
       "    </tr>\n",
       "    <tr>\n",
       "      <th>525458</th>\n",
       "      <td>538171</td>\n",
       "      <td>22751</td>\n",
       "      <td>FELTCRAFT PRINCESS OLIVIA DOLL</td>\n",
       "      <td>1</td>\n",
       "      <td>2010-12-09 20:01:00</td>\n",
       "      <td>3.75</td>\n",
       "      <td>17530.00</td>\n",
       "      <td>United Kingdom</td>\n",
       "      <td>3.75</td>\n",
       "    </tr>\n",
       "    <tr>\n",
       "      <th>525459</th>\n",
       "      <td>538171</td>\n",
       "      <td>20970</td>\n",
       "      <td>PINK FLORAL FELTCRAFT SHOULDER BAG</td>\n",
       "      <td>2</td>\n",
       "      <td>2010-12-09 20:01:00</td>\n",
       "      <td>3.75</td>\n",
       "      <td>17530.00</td>\n",
       "      <td>United Kingdom</td>\n",
       "      <td>7.50</td>\n",
       "    </tr>\n",
       "    <tr>\n",
       "      <th>525460</th>\n",
       "      <td>538171</td>\n",
       "      <td>21931</td>\n",
       "      <td>JUMBO STORAGE BAG SUKI</td>\n",
       "      <td>2</td>\n",
       "      <td>2010-12-09 20:01:00</td>\n",
       "      <td>1.95</td>\n",
       "      <td>17530.00</td>\n",
       "      <td>United Kingdom</td>\n",
       "      <td>3.90</td>\n",
       "    </tr>\n",
       "  </tbody>\n",
       "</table>\n",
       "<p>407695 rows × 9 columns</p>\n",
       "</div>"
      ],
      "text/plain": [
       "       Invoice StockCode                          Description  Quantity  \\\n",
       "0       489434     85048  15CM CHRISTMAS GLASS BALL 20 LIGHTS        12   \n",
       "1       489434    79323P                   PINK CHERRY LIGHTS        12   \n",
       "2       489434    79323W                  WHITE CHERRY LIGHTS        12   \n",
       "3       489434     22041         RECORD FRAME 7\" SINGLE SIZE         48   \n",
       "4       489434     21232       STRAWBERRY CERAMIC TRINKET BOX        24   \n",
       "...        ...       ...                                  ...       ...   \n",
       "525456  538171     22271                 FELTCRAFT DOLL ROSIE         2   \n",
       "525457  538171     22750         FELTCRAFT PRINCESS LOLA DOLL         1   \n",
       "525458  538171     22751       FELTCRAFT PRINCESS OLIVIA DOLL         1   \n",
       "525459  538171     20970   PINK FLORAL FELTCRAFT SHOULDER BAG         2   \n",
       "525460  538171     21931               JUMBO STORAGE BAG SUKI         2   \n",
       "\n",
       "               InvoiceDate                Price          Customer ID  \\\n",
       "0      2009-12-01 07:45:00                 6.95             13085.00   \n",
       "1      2009-12-01 07:45:00                 6.75             13085.00   \n",
       "2      2009-12-01 07:45:00                 6.75             13085.00   \n",
       "3      2009-12-01 07:45:00                 2.10             13085.00   \n",
       "4      2009-12-01 07:45:00                 1.25             13085.00   \n",
       "...                    ...                  ...                  ...   \n",
       "525456 2010-12-09 20:01:00                 2.95             17530.00   \n",
       "525457 2010-12-09 20:01:00                 3.75             17530.00   \n",
       "525458 2010-12-09 20:01:00                 3.75             17530.00   \n",
       "525459 2010-12-09 20:01:00                 3.75             17530.00   \n",
       "525460 2010-12-09 20:01:00                 1.95             17530.00   \n",
       "\n",
       "               Country          Total Sales  \n",
       "0       United Kingdom                83.40  \n",
       "1       United Kingdom                81.00  \n",
       "2       United Kingdom                81.00  \n",
       "3       United Kingdom               100.80  \n",
       "4       United Kingdom                30.00  \n",
       "...                ...                  ...  \n",
       "525456  United Kingdom                 5.90  \n",
       "525457  United Kingdom                 3.75  \n",
       "525458  United Kingdom                 3.75  \n",
       "525459  United Kingdom                 7.50  \n",
       "525460  United Kingdom                 3.90  \n",
       "\n",
       "[407695 rows x 9 columns]"
      ]
     },
     "execution_count": 23,
     "metadata": {},
     "output_type": "execute_result"
    }
   ],
   "source": [
    "cleaned_df[\"Total Sales\"] = cleaned_df[\"Quantity\"] * cleaned_df[\"Price\"]\n",
    "cleaned_df"
   ]
  },
  {
   "cell_type": "code",
   "execution_count": 24,
   "id": "ee05a084",
   "metadata": {},
   "outputs": [
    {
     "data": {
      "application/vnd.microsoft.datawrangler.viewer.v0+json": {
       "columns": [
        {
         "name": "index",
         "rawType": "int64",
         "type": "integer"
        },
        {
         "name": "Customer ID",
         "rawType": "float64",
         "type": "float"
        },
        {
         "name": "MonetaryValue",
         "rawType": "float64",
         "type": "float"
        },
        {
         "name": "Frequency",
         "rawType": "int64",
         "type": "integer"
        },
        {
         "name": "LastInvoiceDate",
         "rawType": "datetime64[ns]",
         "type": "datetime"
        }
       ],
       "conversionMethod": "pd.DataFrame",
       "ref": "7ed4e0e9-d685-417f-9a4f-801cf67f06ce",
       "rows": [
        [
         "0",
         "12346.0",
         "372.86",
         "11",
         "2010-06-28 13:53:00"
        ],
        [
         "1",
         "12347.0",
         "1323.32",
         "2",
         "2010-12-07 14:57:00"
        ],
        [
         "2",
         "12348.0",
         "222.16",
         "1",
         "2010-09-27 14:59:00"
        ],
        [
         "3",
         "12349.0",
         "2671.14",
         "3",
         "2010-10-28 08:23:00"
        ],
        [
         "4",
         "12351.0",
         "300.93",
         "1",
         "2010-11-29 15:23:00"
        ]
       ],
       "shape": {
        "columns": 4,
        "rows": 5
       }
      },
      "text/html": [
       "<div>\n",
       "<style scoped>\n",
       "    .dataframe tbody tr th:only-of-type {\n",
       "        vertical-align: middle;\n",
       "    }\n",
       "\n",
       "    .dataframe tbody tr th {\n",
       "        vertical-align: top;\n",
       "    }\n",
       "\n",
       "    .dataframe thead th {\n",
       "        text-align: right;\n",
       "    }\n",
       "</style>\n",
       "<table border=\"1\" class=\"dataframe\">\n",
       "  <thead>\n",
       "    <tr style=\"text-align: right;\">\n",
       "      <th></th>\n",
       "      <th>Customer ID</th>\n",
       "      <th>MonetaryValue</th>\n",
       "      <th>Frequency</th>\n",
       "      <th>LastInvoiceDate</th>\n",
       "    </tr>\n",
       "  </thead>\n",
       "  <tbody>\n",
       "    <tr>\n",
       "      <th>0</th>\n",
       "      <td>12346.00</td>\n",
       "      <td>372.86</td>\n",
       "      <td>11</td>\n",
       "      <td>2010-06-28 13:53:00</td>\n",
       "    </tr>\n",
       "    <tr>\n",
       "      <th>1</th>\n",
       "      <td>12347.00</td>\n",
       "      <td>1323.32</td>\n",
       "      <td>2</td>\n",
       "      <td>2010-12-07 14:57:00</td>\n",
       "    </tr>\n",
       "    <tr>\n",
       "      <th>2</th>\n",
       "      <td>12348.00</td>\n",
       "      <td>222.16</td>\n",
       "      <td>1</td>\n",
       "      <td>2010-09-27 14:59:00</td>\n",
       "    </tr>\n",
       "    <tr>\n",
       "      <th>3</th>\n",
       "      <td>12349.00</td>\n",
       "      <td>2671.14</td>\n",
       "      <td>3</td>\n",
       "      <td>2010-10-28 08:23:00</td>\n",
       "    </tr>\n",
       "    <tr>\n",
       "      <th>4</th>\n",
       "      <td>12351.00</td>\n",
       "      <td>300.93</td>\n",
       "      <td>1</td>\n",
       "      <td>2010-11-29 15:23:00</td>\n",
       "    </tr>\n",
       "  </tbody>\n",
       "</table>\n",
       "</div>"
      ],
      "text/plain": [
       "           Customer ID        MonetaryValue  Frequency     LastInvoiceDate\n",
       "0             12346.00               372.86         11 2010-06-28 13:53:00\n",
       "1             12347.00              1323.32          2 2010-12-07 14:57:00\n",
       "2             12348.00               222.16          1 2010-09-27 14:59:00\n",
       "3             12349.00              2671.14          3 2010-10-28 08:23:00\n",
       "4             12351.00               300.93          1 2010-11-29 15:23:00"
      ]
     },
     "execution_count": 24,
     "metadata": {},
     "output_type": "execute_result"
    }
   ],
   "source": [
    "aggregated_df = cleaned_df.groupby(by=\"Customer ID\", as_index=False).agg(\n",
    "    MonetaryValue = (\"Total Sales\", \"sum\"),\n",
    "    Frequency = (\"Invoice\", \"nunique\"),\n",
    "    LastInvoiceDate = (\"InvoiceDate\", \"max\")\n",
    ")\n",
    "\n",
    "aggregated_df.head(5)"
   ]
  },
  {
   "cell_type": "code",
   "execution_count": 25,
   "id": "b16e5f0c",
   "metadata": {},
   "outputs": [
    {
     "data": {
      "text/plain": [
       "Timestamp('2010-12-09 20:01:00')"
      ]
     },
     "execution_count": 25,
     "metadata": {},
     "output_type": "execute_result"
    }
   ],
   "source": [
    "max_invoice_date = aggregated_df[\"LastInvoiceDate\"].max()\n",
    "\n",
    "max_invoice_date"
   ]
  },
  {
   "cell_type": "code",
   "execution_count": 26,
   "id": "a7e36a41",
   "metadata": {},
   "outputs": [
    {
     "data": {
      "application/vnd.microsoft.datawrangler.viewer.v0+json": {
       "columns": [
        {
         "name": "index",
         "rawType": "int64",
         "type": "integer"
        },
        {
         "name": "Customer ID",
         "rawType": "float64",
         "type": "float"
        },
        {
         "name": "MonetaryValue",
         "rawType": "float64",
         "type": "float"
        },
        {
         "name": "Frequency",
         "rawType": "int64",
         "type": "integer"
        },
        {
         "name": "LastInvoiceDate",
         "rawType": "datetime64[ns]",
         "type": "datetime"
        },
        {
         "name": "Recency",
         "rawType": "int64",
         "type": "integer"
        }
       ],
       "conversionMethod": "pd.DataFrame",
       "ref": "57732455-239b-498a-a792-12e066b58f47",
       "rows": [
        [
         "0",
         "12346.0",
         "372.86",
         "11",
         "2010-06-28 13:53:00",
         "164"
        ],
        [
         "1",
         "12347.0",
         "1323.32",
         "2",
         "2010-12-07 14:57:00",
         "2"
        ],
        [
         "2",
         "12348.0",
         "222.16",
         "1",
         "2010-09-27 14:59:00",
         "73"
        ],
        [
         "3",
         "12349.0",
         "2671.14",
         "3",
         "2010-10-28 08:23:00",
         "42"
        ],
        [
         "4",
         "12351.0",
         "300.93",
         "1",
         "2010-11-29 15:23:00",
         "10"
        ]
       ],
       "shape": {
        "columns": 5,
        "rows": 5
       }
      },
      "text/html": [
       "<div>\n",
       "<style scoped>\n",
       "    .dataframe tbody tr th:only-of-type {\n",
       "        vertical-align: middle;\n",
       "    }\n",
       "\n",
       "    .dataframe tbody tr th {\n",
       "        vertical-align: top;\n",
       "    }\n",
       "\n",
       "    .dataframe thead th {\n",
       "        text-align: right;\n",
       "    }\n",
       "</style>\n",
       "<table border=\"1\" class=\"dataframe\">\n",
       "  <thead>\n",
       "    <tr style=\"text-align: right;\">\n",
       "      <th></th>\n",
       "      <th>Customer ID</th>\n",
       "      <th>MonetaryValue</th>\n",
       "      <th>Frequency</th>\n",
       "      <th>LastInvoiceDate</th>\n",
       "      <th>Recency</th>\n",
       "    </tr>\n",
       "  </thead>\n",
       "  <tbody>\n",
       "    <tr>\n",
       "      <th>0</th>\n",
       "      <td>12346.00</td>\n",
       "      <td>372.86</td>\n",
       "      <td>11</td>\n",
       "      <td>2010-06-28 13:53:00</td>\n",
       "      <td>164</td>\n",
       "    </tr>\n",
       "    <tr>\n",
       "      <th>1</th>\n",
       "      <td>12347.00</td>\n",
       "      <td>1323.32</td>\n",
       "      <td>2</td>\n",
       "      <td>2010-12-07 14:57:00</td>\n",
       "      <td>2</td>\n",
       "    </tr>\n",
       "    <tr>\n",
       "      <th>2</th>\n",
       "      <td>12348.00</td>\n",
       "      <td>222.16</td>\n",
       "      <td>1</td>\n",
       "      <td>2010-09-27 14:59:00</td>\n",
       "      <td>73</td>\n",
       "    </tr>\n",
       "    <tr>\n",
       "      <th>3</th>\n",
       "      <td>12349.00</td>\n",
       "      <td>2671.14</td>\n",
       "      <td>3</td>\n",
       "      <td>2010-10-28 08:23:00</td>\n",
       "      <td>42</td>\n",
       "    </tr>\n",
       "    <tr>\n",
       "      <th>4</th>\n",
       "      <td>12351.00</td>\n",
       "      <td>300.93</td>\n",
       "      <td>1</td>\n",
       "      <td>2010-11-29 15:23:00</td>\n",
       "      <td>10</td>\n",
       "    </tr>\n",
       "  </tbody>\n",
       "</table>\n",
       "</div>"
      ],
      "text/plain": [
       "           Customer ID        MonetaryValue  Frequency     LastInvoiceDate  \\\n",
       "0             12346.00               372.86         11 2010-06-28 13:53:00   \n",
       "1             12347.00              1323.32          2 2010-12-07 14:57:00   \n",
       "2             12348.00               222.16          1 2010-09-27 14:59:00   \n",
       "3             12349.00              2671.14          3 2010-10-28 08:23:00   \n",
       "4             12351.00               300.93          1 2010-11-29 15:23:00   \n",
       "\n",
       "   Recency  \n",
       "0      164  \n",
       "1        2  \n",
       "2       73  \n",
       "3       42  \n",
       "4       10  "
      ]
     },
     "execution_count": 26,
     "metadata": {},
     "output_type": "execute_result"
    }
   ],
   "source": [
    "aggregated_df[\"Recency\"] = (max_invoice_date - aggregated_df[\"LastInvoiceDate\"]).dt.days\n",
    "\n",
    "aggregated_df.head()"
   ]
  },
  {
   "cell_type": "code",
   "execution_count": 27,
   "id": "9b6dee0d",
   "metadata": {},
   "outputs": [
    {
     "data": {
      "image/png": "[encoded data removed]",
      "text/plain": [
       "<Figure size 1500x500 with 3 Axes>"
      ]
     },
     "metadata": {},
     "output_type": "display_data"
    }
   ],
   "source": [
    "plt.figure(figsize=(15, 5))\n",
    "\n",
    "plt.subplot(1, 3, 1)\n",
    "plt.hist(aggregated_df['MonetaryValue'], bins=10, color='skyblue', edgecolor='black')\n",
    "plt.title('Monetary Value Distribution')\n",
    "plt.xlabel('Monetary Value')\n",
    "plt.ylabel('Count')\n",
    "\n",
    "plt.subplot(1, 3, 2)\n",
    "plt.hist(aggregated_df['Frequency'], bins=10, color='lightgreen', edgecolor='black')\n",
    "plt.title('Frequency Distribution')\n",
    "plt.xlabel('Frequency')\n",
    "plt.ylabel('Count')\n",
    "\n",
    "plt.subplot(1, 3, 3)\n",
    "plt.hist(aggregated_df['Recency'], bins=20, color='salmon', edgecolor='black')\n",
    "plt.title('Recency Distribution')\n",
    "plt.xlabel('Recency')\n",
    "plt.ylabel('Count')\n",
    "\n",
    "plt.tight_layout()\n",
    "plt.show()"
   ]
  },
  {
   "cell_type": "code",
   "execution_count": 28,
   "id": "8a4306e7",
   "metadata": {},
   "outputs": [
    {
     "data": {
      "text/plain": [
       "np.float64(349164.35)"
      ]
     },
     "execution_count": 28,
     "metadata": {},
     "output_type": "execute_result"
    }
   ],
   "source": [
    "aggregated_df[\"MonetaryValue\"].max()"
   ]
  },
  {
   "cell_type": "code",
   "execution_count": 29,
   "id": "460c56e6",
   "metadata": {},
   "outputs": [
    {
     "data": {
      "text/plain": [
       "np.int64(205)"
      ]
     },
     "execution_count": 29,
     "metadata": {},
     "output_type": "execute_result"
    }
   ],
   "source": [
    "aggregated_df[\"Frequency\"].max()"
   ]
  },
  {
   "cell_type": "code",
   "execution_count": 30,
   "id": "3bbb6ce9",
   "metadata": {},
   "outputs": [
    {
     "data": {
      "text/plain": [
       "np.int64(373)"
      ]
     },
     "execution_count": 30,
     "metadata": {},
     "output_type": "execute_result"
    }
   ],
   "source": [
    "aggregated_df[\"Recency\"].max()"
   ]
  },
  {
   "cell_type": "code",
   "execution_count": 31,
   "id": "66864b01",
   "metadata": {},
   "outputs": [
    {
     "data": {
      "image/png": "[encoded data removed]",
      "text/plain": [
       "<Figure size 1500x500 with 3 Axes>"
      ]
     },
     "metadata": {},
     "output_type": "display_data"
    }
   ],
   "source": [
    "plt.figure(figsize=(15, 5))\n",
    "\n",
    "plt.subplot(1, 3, 1)\n",
    "sns.boxplot(data=aggregated_df['MonetaryValue'], color='skyblue')\n",
    "plt.title('Monetary Value Boxplot')\n",
    "plt.xlabel('Monetary Value')\n",
    "\n",
    "plt.subplot(1, 3, 2)\n",
    "sns.boxplot(data=aggregated_df['Frequency'], color='lightgreen')\n",
    "plt.title('Frequency Boxplot')\n",
    "plt.xlabel('Frequency')\n",
    "\n",
    "plt.subplot(1, 3, 3)\n",
    "sns.boxplot(data=aggregated_df['Recency'], color='salmon')\n",
    "plt.title('Recency Boxplot')\n",
    "plt.xlabel('Recency')\n",
    "\n",
    "plt.tight_layout()\n",
    "plt.show()"
   ]
  },
  {
   "cell_type": "code",
   "execution_count": 32,
   "id": "61096142",
   "metadata": {},
   "outputs": [
    {
     "data": {
      "application/vnd.microsoft.datawrangler.viewer.v0+json": {
       "columns": [
        {
         "name": "index",
         "rawType": "object",
         "type": "string"
        },
        {
         "name": "Customer ID",
         "rawType": "float64",
         "type": "float"
        },
        {
         "name": "MonetaryValue",
         "rawType": "float64",
         "type": "float"
        },
        {
         "name": "Frequency",
         "rawType": "float64",
         "type": "float"
        },
        {
         "name": "LastInvoiceDate",
         "rawType": "object",
         "type": "unknown"
        },
        {
         "name": "Recency",
         "rawType": "float64",
         "type": "float"
        }
       ],
       "conversionMethod": "pd.DataFrame",
       "ref": "82da5277-4698-4683-8f1b-132c89598ebd",
       "rows": [
        [
         "count",
         "428.0",
         "428.0",
         "428.0",
         "428",
         "428.0"
        ],
        [
         "mean",
         "15060.06074766355",
         "12319.513144859813",
         "17.2803738317757",
         "2010-11-09 16:05:02.943925248",
         "29.88317757009346"
        ],
        [
         "min",
         "12357.0",
         "3851.0099999999998",
         "1.0",
         "2010-01-17 11:33:00",
         "0.0"
        ],
        [
         "25%",
         "13573.0",
         "4610.065",
         "8.0",
         "2010-11-08 10:35:30",
         "3.0"
        ],
        [
         "50%",
         "14927.0",
         "6262.58",
         "12.0",
         "2010-11-26 11:15:30",
         "13.0"
        ],
        [
         "75%",
         "16653.0",
         "10409.5725",
         "18.0",
         "2010-12-06 09:54:45",
         "31.0"
        ],
        [
         "max",
         "18260.0",
         "349164.35",
         "205.0",
         "2010-12-09 19:32:00",
         "326.0"
        ],
        [
         "std",
         "1729.8468725266039",
         "26044.459639415396",
         "20.48717855405727",
         null,
         "49.22828719007629"
        ]
       ],
       "shape": {
        "columns": 5,
        "rows": 8
       }
      },
      "text/html": [
       "<div>\n",
       "<style scoped>\n",
       "    .dataframe tbody tr th:only-of-type {\n",
       "        vertical-align: middle;\n",
       "    }\n",
       "\n",
       "    .dataframe tbody tr th {\n",
       "        vertical-align: top;\n",
       "    }\n",
       "\n",
       "    .dataframe thead th {\n",
       "        text-align: right;\n",
       "    }\n",
       "</style>\n",
       "<table border=\"1\" class=\"dataframe\">\n",
       "  <thead>\n",
       "    <tr style=\"text-align: right;\">\n",
       "      <th></th>\n",
       "      <th>Customer ID</th>\n",
       "      <th>MonetaryValue</th>\n",
       "      <th>Frequency</th>\n",
       "      <th>LastInvoiceDate</th>\n",
       "      <th>Recency</th>\n",
       "    </tr>\n",
       "  </thead>\n",
       "  <tbody>\n",
       "    <tr>\n",
       "      <th>count</th>\n",
       "      <td>428.00</td>\n",
       "      <td>428.00</td>\n",
       "      <td>428.00</td>\n",
       "      <td>428</td>\n",
       "      <td>428.00</td>\n",
       "    </tr>\n",
       "    <tr>\n",
       "      <th>mean</th>\n",
       "      <td>15060.06</td>\n",
       "      <td>12319.51</td>\n",
       "      <td>17.28</td>\n",
       "      <td>2010-11-09 16:05:02.943925248</td>\n",
       "      <td>29.88</td>\n",
       "    </tr>\n",
       "    <tr>\n",
       "      <th>min</th>\n",
       "      <td>12357.00</td>\n",
       "      <td>3851.01</td>\n",
       "      <td>1.00</td>\n",
       "      <td>2010-01-17 11:33:00</td>\n",
       "      <td>0.00</td>\n",
       "    </tr>\n",
       "    <tr>\n",
       "      <th>25%</th>\n",
       "      <td>13573.00</td>\n",
       "      <td>4610.06</td>\n",
       "      <td>8.00</td>\n",
       "      <td>2010-11-08 10:35:30</td>\n",
       "      <td>3.00</td>\n",
       "    </tr>\n",
       "    <tr>\n",
       "      <th>50%</th>\n",
       "      <td>14927.00</td>\n",
       "      <td>6262.58</td>\n",
       "      <td>12.00</td>\n",
       "      <td>2010-11-26 11:15:30</td>\n",
       "      <td>13.00</td>\n",
       "    </tr>\n",
       "    <tr>\n",
       "      <th>75%</th>\n",
       "      <td>16653.00</td>\n",
       "      <td>10409.57</td>\n",
       "      <td>18.00</td>\n",
       "      <td>2010-12-06 09:54:45</td>\n",
       "      <td>31.00</td>\n",
       "    </tr>\n",
       "    <tr>\n",
       "      <th>max</th>\n",
       "      <td>18260.00</td>\n",
       "      <td>349164.35</td>\n",
       "      <td>205.00</td>\n",
       "      <td>2010-12-09 19:32:00</td>\n",
       "      <td>326.00</td>\n",
       "    </tr>\n",
       "    <tr>\n",
       "      <th>std</th>\n",
       "      <td>1729.85</td>\n",
       "      <td>26044.46</td>\n",
       "      <td>20.49</td>\n",
       "      <td>NaN</td>\n",
       "      <td>49.23</td>\n",
       "    </tr>\n",
       "  </tbody>\n",
       "</table>\n",
       "</div>"
      ],
      "text/plain": [
       "               Customer ID        MonetaryValue            Frequency  \\\n",
       "count               428.00               428.00               428.00   \n",
       "mean              15060.06             12319.51                17.28   \n",
       "min               12357.00              3851.01                 1.00   \n",
       "25%               13573.00              4610.06                 8.00   \n",
       "50%               14927.00              6262.58                12.00   \n",
       "75%               16653.00             10409.57                18.00   \n",
       "max               18260.00            349164.35               205.00   \n",
       "std                1729.85             26044.46                20.49   \n",
       "\n",
       "                     LastInvoiceDate              Recency  \n",
       "count                            428               428.00  \n",
       "mean   2010-11-09 16:05:02.943925248                29.88  \n",
       "min              2010-01-17 11:33:00                 0.00  \n",
       "25%              2010-11-08 10:35:30                 3.00  \n",
       "50%              2010-11-26 11:15:30                13.00  \n",
       "75%              2010-12-06 09:54:45                31.00  \n",
       "max              2010-12-09 19:32:00               326.00  \n",
       "std                              NaN                49.23  "
      ]
     },
     "execution_count": 32,
     "metadata": {},
     "output_type": "execute_result"
    }
   ],
   "source": [
    "M_Q1 = aggregated_df[\"MonetaryValue\"].quantile(0.25)\n",
    "M_Q3 = aggregated_df[\"MonetaryValue\"].quantile(0.75)\n",
    "M_IQR = M_Q3 - M_Q1\n",
    "\n",
    "monetory_outliers_df = aggregated_df[(aggregated_df[\"MonetaryValue\"] > (M_Q3 + 1.5 * M_IQR)) | (aggregated_df[\"MonetaryValue\"] < (M_Q1 - 1.5 * M_IQR))].copy()\n",
    "\n",
    "monetory_outliers_df.describe()"
   ]
  },
  {
   "cell_type": "code",
   "execution_count": 33,
   "id": "9fe17489",
   "metadata": {},
   "outputs": [
    {
     "data": {
      "application/vnd.microsoft.datawrangler.viewer.v0+json": {
       "columns": [
        {
         "name": "index",
         "rawType": "object",
         "type": "string"
        },
        {
         "name": "Customer ID",
         "rawType": "float64",
         "type": "float"
        },
        {
         "name": "MonetaryValue",
         "rawType": "float64",
         "type": "float"
        },
        {
         "name": "Frequency",
         "rawType": "float64",
         "type": "float"
        },
        {
         "name": "LastInvoiceDate",
         "rawType": "object",
         "type": "unknown"
        },
        {
         "name": "Recency",
         "rawType": "float64",
         "type": "float"
        }
       ],
       "conversionMethod": "pd.DataFrame",
       "ref": "ecfb6f8f-fa22-46ce-96b8-dc68835819af",
       "rows": [
        [
         "count",
         "285.0",
         "285.0",
         "285.0",
         "285",
         "285.0"
        ],
        [
         "mean",
         "15307.79649122807",
         "14374.576371929825",
         "23.90877192982456",
         "2010-11-23 13:55:24.631578880",
         "15.971929824561403"
        ],
        [
         "min",
         "12422.0",
         "1094.39",
         "12.0",
         "2010-05-12 16:51:00",
         "0.0"
        ],
        [
         "25%",
         "13715.0",
         "4331.41",
         "13.0",
         "2010-11-19 15:51:00",
         "2.0"
        ],
        [
         "50%",
         "15311.0",
         "6507.67",
         "17.0",
         "2010-12-02 08:52:00",
         "7.0"
        ],
        [
         "75%",
         "16814.0",
         "11645.7",
         "23.0",
         "2010-12-07 10:08:00",
         "20.0"
        ],
        [
         "max",
         "18260.0",
         "349164.35",
         "205.0",
         "2010-12-09 19:32:00",
         "211.0"
        ],
        [
         "std",
         "1773.2559257356675",
         "31518.798551377477",
         "22.833570238238295",
         null,
         "25.778428546071563"
        ]
       ],
       "shape": {
        "columns": 5,
        "rows": 8
       }
      },
      "text/html": [
       "<div>\n",
       "<style scoped>\n",
       "    .dataframe tbody tr th:only-of-type {\n",
       "        vertical-align: middle;\n",
       "    }\n",
       "\n",
       "    .dataframe tbody tr th {\n",
       "        vertical-align: top;\n",
       "    }\n",
       "\n",
       "    .dataframe thead th {\n",
       "        text-align: right;\n",
       "    }\n",
       "</style>\n",
       "<table border=\"1\" class=\"dataframe\">\n",
       "  <thead>\n",
       "    <tr style=\"text-align: right;\">\n",
       "      <th></th>\n",
       "      <th>Customer ID</th>\n",
       "      <th>MonetaryValue</th>\n",
       "      <th>Frequency</th>\n",
       "      <th>LastInvoiceDate</th>\n",
       "      <th>Recency</th>\n",
       "    </tr>\n",
       "  </thead>\n",
       "  <tbody>\n",
       "    <tr>\n",
       "      <th>count</th>\n",
       "      <td>285.00</td>\n",
       "      <td>285.00</td>\n",
       "      <td>285.00</td>\n",
       "      <td>285</td>\n",
       "      <td>285.00</td>\n",
       "    </tr>\n",
       "    <tr>\n",
       "      <th>mean</th>\n",
       "      <td>15307.80</td>\n",
       "      <td>14374.58</td>\n",
       "      <td>23.91</td>\n",
       "      <td>2010-11-23 13:55:24.631578880</td>\n",
       "      <td>15.97</td>\n",
       "    </tr>\n",
       "    <tr>\n",
       "      <th>min</th>\n",
       "      <td>12422.00</td>\n",
       "      <td>1094.39</td>\n",
       "      <td>12.00</td>\n",
       "      <td>2010-05-12 16:51:00</td>\n",
       "      <td>0.00</td>\n",
       "    </tr>\n",
       "    <tr>\n",
       "      <th>25%</th>\n",
       "      <td>13715.00</td>\n",
       "      <td>4331.41</td>\n",
       "      <td>13.00</td>\n",
       "      <td>2010-11-19 15:51:00</td>\n",
       "      <td>2.00</td>\n",
       "    </tr>\n",
       "    <tr>\n",
       "      <th>50%</th>\n",
       "      <td>15311.00</td>\n",
       "      <td>6507.67</td>\n",
       "      <td>17.00</td>\n",
       "      <td>2010-12-02 08:52:00</td>\n",
       "      <td>7.00</td>\n",
       "    </tr>\n",
       "    <tr>\n",
       "      <th>75%</th>\n",
       "      <td>16814.00</td>\n",
       "      <td>11645.70</td>\n",
       "      <td>23.00</td>\n",
       "      <td>2010-12-07 10:08:00</td>\n",
       "      <td>20.00</td>\n",
       "    </tr>\n",
       "    <tr>\n",
       "      <th>max</th>\n",
       "      <td>18260.00</td>\n",
       "      <td>349164.35</td>\n",
       "      <td>205.00</td>\n",
       "      <td>2010-12-09 19:32:00</td>\n",
       "      <td>211.00</td>\n",
       "    </tr>\n",
       "    <tr>\n",
       "      <th>std</th>\n",
       "      <td>1773.26</td>\n",
       "      <td>31518.80</td>\n",
       "      <td>22.83</td>\n",
       "      <td>NaN</td>\n",
       "      <td>25.78</td>\n",
       "    </tr>\n",
       "  </tbody>\n",
       "</table>\n",
       "</div>"
      ],
      "text/plain": [
       "               Customer ID        MonetaryValue            Frequency  \\\n",
       "count               285.00               285.00               285.00   \n",
       "mean              15307.80             14374.58                23.91   \n",
       "min               12422.00              1094.39                12.00   \n",
       "25%               13715.00              4331.41                13.00   \n",
       "50%               15311.00              6507.67                17.00   \n",
       "75%               16814.00             11645.70                23.00   \n",
       "max               18260.00            349164.35               205.00   \n",
       "std                1773.26             31518.80                22.83   \n",
       "\n",
       "                     LastInvoiceDate              Recency  \n",
       "count                            285               285.00  \n",
       "mean   2010-11-23 13:55:24.631578880                15.97  \n",
       "min              2010-05-12 16:51:00                 0.00  \n",
       "25%              2010-11-19 15:51:00                 2.00  \n",
       "50%              2010-12-02 08:52:00                 7.00  \n",
       "75%              2010-12-07 10:08:00                20.00  \n",
       "max              2010-12-09 19:32:00               211.00  \n",
       "std                              NaN                25.78  "
      ]
     },
     "execution_count": 33,
     "metadata": {},
     "output_type": "execute_result"
    }
   ],
   "source": [
    "F_Q1 = aggregated_df['Frequency'].quantile(0.25)\n",
    "F_Q3 = aggregated_df['Frequency'].quantile(0.75)\n",
    "F_IQR = F_Q3 - F_Q1\n",
    "\n",
    "frequency_outliers_df = aggregated_df[(aggregated_df['Frequency'] > (F_Q3 + 1.5 * F_IQR)) | (aggregated_df['Frequency'] < (F_Q1 - 1.5 * F_IQR))].copy()\n",
    "\n",
    "frequency_outliers_df.describe()"
   ]
  },
  {
   "cell_type": "code",
   "execution_count": 34,
   "id": "7b413d64",
   "metadata": {},
   "outputs": [
    {
     "data": {
      "application/vnd.microsoft.datawrangler.viewer.v0+json": {
       "columns": [
        {
         "name": "index",
         "rawType": "object",
         "type": "string"
        },
        {
         "name": "Customer ID",
         "rawType": "float64",
         "type": "float"
        },
        {
         "name": "MonetaryValue",
         "rawType": "float64",
         "type": "float"
        },
        {
         "name": "Frequency",
         "rawType": "float64",
         "type": "float"
        },
        {
         "name": "LastInvoiceDate",
         "rawType": "object",
         "type": "unknown"
        },
        {
         "name": "Recency",
         "rawType": "float64",
         "type": "float"
        }
       ],
       "conversionMethod": "pd.DataFrame",
       "ref": "ae77f179-faa4-4ab9-8e4c-59d79a081b7f",
       "rows": [
        [
         "count",
         "3830.0",
         "3830.0",
         "3830.0",
         "3830",
         "3830.0"
        ],
        [
         "mean",
         "15372.263968668407",
         "889.399422454308",
         "2.8634464751958224",
         "2010-09-02 12:56:34.010443776",
         "98.01331592689296"
        ],
        [
         "min",
         "12346.0",
         "0.0",
         "1.0",
         "2009-12-01 09:55:00",
         "0.0"
        ],
        [
         "25%",
         "13911.25",
         "280.9225",
         "1.0",
         "2010-07-07 10:15:00",
         "22.0"
        ],
        [
         "50%",
         "15379.5",
         "588.625",
         "2.0",
         "2010-10-12 12:31:00",
         "58.0"
        ],
        [
         "75%",
         "16845.75",
         "1273.3025",
         "4.0",
         "2010-11-17 13:07:45",
         "155.0"
        ],
        [
         "max",
         "18287.0",
         "3817.18",
         "11.0",
         "2010-12-09 20:01:00",
         "373.0"
        ],
        [
         "std",
         "1693.0030536914999",
         "824.8429651925732",
         "2.2414681107114793",
         null,
         "98.82405775119764"
        ]
       ],
       "shape": {
        "columns": 5,
        "rows": 8
       }
      },
      "text/html": [
       "<div>\n",
       "<style scoped>\n",
       "    .dataframe tbody tr th:only-of-type {\n",
       "        vertical-align: middle;\n",
       "    }\n",
       "\n",
       "    .dataframe tbody tr th {\n",
       "        vertical-align: top;\n",
       "    }\n",
       "\n",
       "    .dataframe thead th {\n",
       "        text-align: right;\n",
       "    }\n",
       "</style>\n",
       "<table border=\"1\" class=\"dataframe\">\n",
       "  <thead>\n",
       "    <tr style=\"text-align: right;\">\n",
       "      <th></th>\n",
       "      <th>Customer ID</th>\n",
       "      <th>MonetaryValue</th>\n",
       "      <th>Frequency</th>\n",
       "      <th>LastInvoiceDate</th>\n",
       "      <th>Recency</th>\n",
       "    </tr>\n",
       "  </thead>\n",
       "  <tbody>\n",
       "    <tr>\n",
       "      <th>count</th>\n",
       "      <td>3830.00</td>\n",
       "      <td>3830.00</td>\n",
       "      <td>3830.00</td>\n",
       "      <td>3830</td>\n",
       "      <td>3830.00</td>\n",
       "    </tr>\n",
       "    <tr>\n",
       "      <th>mean</th>\n",
       "      <td>15372.26</td>\n",
       "      <td>889.40</td>\n",
       "      <td>2.86</td>\n",
       "      <td>2010-09-02 12:56:34.010443776</td>\n",
       "      <td>98.01</td>\n",
       "    </tr>\n",
       "    <tr>\n",
       "      <th>min</th>\n",
       "      <td>12346.00</td>\n",
       "      <td>0.00</td>\n",
       "      <td>1.00</td>\n",
       "      <td>2009-12-01 09:55:00</td>\n",
       "      <td>0.00</td>\n",
       "    </tr>\n",
       "    <tr>\n",
       "      <th>25%</th>\n",
       "      <td>13911.25</td>\n",
       "      <td>280.92</td>\n",
       "      <td>1.00</td>\n",
       "      <td>2010-07-07 10:15:00</td>\n",
       "      <td>22.00</td>\n",
       "    </tr>\n",
       "    <tr>\n",
       "      <th>50%</th>\n",
       "      <td>15379.50</td>\n",
       "      <td>588.62</td>\n",
       "      <td>2.00</td>\n",
       "      <td>2010-10-12 12:31:00</td>\n",
       "      <td>58.00</td>\n",
       "    </tr>\n",
       "    <tr>\n",
       "      <th>75%</th>\n",
       "      <td>16845.75</td>\n",
       "      <td>1273.30</td>\n",
       "      <td>4.00</td>\n",
       "      <td>2010-11-17 13:07:45</td>\n",
       "      <td>155.00</td>\n",
       "    </tr>\n",
       "    <tr>\n",
       "      <th>max</th>\n",
       "      <td>18287.00</td>\n",
       "      <td>3817.18</td>\n",
       "      <td>11.00</td>\n",
       "      <td>2010-12-09 20:01:00</td>\n",
       "      <td>373.00</td>\n",
       "    </tr>\n",
       "    <tr>\n",
       "      <th>std</th>\n",
       "      <td>1693.00</td>\n",
       "      <td>824.84</td>\n",
       "      <td>2.24</td>\n",
       "      <td>NaN</td>\n",
       "      <td>98.82</td>\n",
       "    </tr>\n",
       "  </tbody>\n",
       "</table>\n",
       "</div>"
      ],
      "text/plain": [
       "               Customer ID        MonetaryValue            Frequency  \\\n",
       "count              3830.00              3830.00              3830.00   \n",
       "mean              15372.26               889.40                 2.86   \n",
       "min               12346.00                 0.00                 1.00   \n",
       "25%               13911.25               280.92                 1.00   \n",
       "50%               15379.50               588.62                 2.00   \n",
       "75%               16845.75              1273.30                 4.00   \n",
       "max               18287.00              3817.18                11.00   \n",
       "std                1693.00               824.84                 2.24   \n",
       "\n",
       "                     LastInvoiceDate              Recency  \n",
       "count                           3830              3830.00  \n",
       "mean   2010-09-02 12:56:34.010443776                98.01  \n",
       "min              2009-12-01 09:55:00                 0.00  \n",
       "25%              2010-07-07 10:15:00                22.00  \n",
       "50%              2010-10-12 12:31:00                58.00  \n",
       "75%              2010-11-17 13:07:45               155.00  \n",
       "max              2010-12-09 20:01:00               373.00  \n",
       "std                              NaN                98.82  "
      ]
     },
     "execution_count": 34,
     "metadata": {},
     "output_type": "execute_result"
    }
   ],
   "source": [
    "non_outliers_df = aggregated_df[(~aggregated_df.index.isin(monetory_outliers_df.index)) & (~aggregated_df.index.isin(frequency_outliers_df.index))]\n",
    "\n",
    "non_outliers_df.describe()"
   ]
  },
  {
   "cell_type": "code",
   "execution_count": 35,
   "id": "049c4238",
   "metadata": {},
   "outputs": [
    {
     "data": {
      "text/plain": [
       "(3830, 5)"
      ]
     },
     "execution_count": 35,
     "metadata": {},
     "output_type": "execute_result"
    }
   ],
   "source": [
    "non_outliers_df.shape"
   ]
  },
  {
   "cell_type": "code",
   "execution_count": 36,
   "id": "122cc3ee",
   "metadata": {},
   "outputs": [
    {
     "data": {
      "text/plain": [
       "(428, 5)"
      ]
     },
     "execution_count": 36,
     "metadata": {},
     "output_type": "execute_result"
    }
   ],
   "source": [
    "monetory_outliers_df.shape"
   ]
  },
  {
   "cell_type": "code",
   "execution_count": 37,
   "id": "bc33ce35",
   "metadata": {},
   "outputs": [
    {
     "data": {
      "text/plain": [
       "(285, 5)"
      ]
     },
     "execution_count": 37,
     "metadata": {},
     "output_type": "execute_result"
    }
   ],
   "source": [
    "frequency_outliers_df.shape"
   ]
  },
  {
   "cell_type": "code",
   "execution_count": 38,
   "id": "9ce37274",
   "metadata": {},
   "outputs": [
    {
     "data": {
      "image/png": "[encoded data removed]",
      "text/plain": [
       "<Figure size 1500x500 with 3 Axes>"
      ]
     },
     "metadata": {},
     "output_type": "display_data"
    }
   ],
   "source": [
    "plt.figure(figsize=(15, 5))\n",
    "\n",
    "plt.subplot(1, 3, 1)\n",
    "sns.boxplot(data=non_outliers_df['MonetaryValue'], color='skyblue')\n",
    "plt.title('Monetary Value Boxplot')\n",
    "plt.xlabel('Monetary Value')\n",
    "\n",
    "plt.subplot(1, 3, 2)\n",
    "sns.boxplot(data=non_outliers_df['Frequency'], color='lightgreen')\n",
    "plt.title('Frequency Boxplot')\n",
    "plt.xlabel('Frequency')\n",
    "\n",
    "plt.subplot(1, 3, 3)\n",
    "sns.boxplot(data=non_outliers_df['Recency'], color='salmon')\n",
    "plt.title('Recency Boxplot')\n",
    "plt.xlabel('Recency')\n",
    "\n",
    "plt.tight_layout()\n",
    "plt.show()"
   ]
  },
  {
   "cell_type": "code",
   "execution_count": 39,
   "id": "0b827596",
   "metadata": {},
   "outputs": [
    {
     "data": {
      "image/png": "[encoded data removed]",
      "text/plain": [
       "<Figure size 800x800 with 1 Axes>"
      ]
     },
     "metadata": {},
     "output_type": "display_data"
    }
   ],
   "source": [
    "fig = plt.figure(figsize=(8, 8))\n",
    "\n",
    "ax = fig.add_subplot(projection=\"3d\")\n",
    "\n",
    "scatter = ax.scatter(non_outliers_df[\"MonetaryValue\"], non_outliers_df[\"Frequency\"], non_outliers_df[\"Recency\"])\n",
    "\n",
    "ax.set_xlabel('Monetary Value')\n",
    "ax.set_ylabel('Frequency')\n",
    "ax.set_zlabel('Recency')\n",
    "\n",
    "ax.set_title('3D Scatter Plot of Customer Data')\n",
    "\n",
    "plt.show()"
   ]
  },
  {
   "cell_type": "markdown",
   "id": "e2eb6d37",
   "metadata": {},
   "source": [
    "     now i'm going to scale the data so that we can prevent the data points squashing in one place because k-means algo is very sensitive to that... \n",
    "     in this case i'm using standard scaling method to transform the data. "
   ]
  },
  {
   "cell_type": "code",
   "execution_count": 40,
   "id": "7dc3ca91",
   "metadata": {},
   "outputs": [
    {
     "data": {
      "text/plain": [
       "array([[-0.62630936,  3.63048482,  0.66780602],\n",
       "       [ 0.52613316, -0.385265  , -0.97168498],\n",
       "       [-0.80903466, -0.83145943, -0.25314263],\n",
       "       ...,\n",
       "       [-0.56066405, -0.83145943,  1.99356725],\n",
       "       [ 0.49352876, -0.385265  ,  0.13142933],\n",
       "       [ 1.76579154,  0.50712385, -0.81988026]], shape=(3830, 3))"
      ]
     },
     "execution_count": 40,
     "metadata": {},
     "output_type": "execute_result"
    }
   ],
   "source": [
    "scaler = StandardScaler()\n",
    "\n",
    "scaled_data = scaler.fit_transform(non_outliers_df[[\"MonetaryValue\", \"Frequency\", \"Recency\"]])\n",
    "\n",
    "scaled_data"
   ]
  },
  {
   "cell_type": "code",
   "execution_count": 41,
   "id": "63c4ba51",
   "metadata": {},
   "outputs": [
    {
     "data": {
      "application/vnd.microsoft.datawrangler.viewer.v0+json": {
       "columns": [
        {
         "name": "index",
         "rawType": "int64",
         "type": "integer"
        },
        {
         "name": "MonetaryValue",
         "rawType": "float64",
         "type": "float"
        },
        {
         "name": "Frequency",
         "rawType": "float64",
         "type": "float"
        },
        {
         "name": "Recency",
         "rawType": "float64",
         "type": "float"
        }
       ],
       "conversionMethod": "pd.DataFrame",
       "ref": "78a2d950-e60f-4d6c-8ee3-90e079504e2a",
       "rows": [
        [
         "0",
         "-0.6263093592445231",
         "3.63048481806218",
         "0.667806015172403"
        ],
        [
         "1",
         "0.5261331605521276",
         "-0.3852650031553967",
         "-0.9716849818001219"
        ],
        [
         "2",
         "-0.8090346582927264",
         "-0.8314594277351274",
         "-0.2531426312751264"
        ],
        [
         "3",
         "2.1603787648198733",
         "0.06092942142433401",
         "-0.566872389955054"
        ],
        [
         "4",
         "-0.7135252236143788",
         "-0.8314594277351274",
         "-0.8907224634311083"
        ],
        [
         "5",
         "-0.661544907952823",
         "-0.3852650031553967",
         "-0.8907224634311083"
        ],
        [
         "6",
         "-0.6931186756184846",
         "-0.8314594277351274",
         "-0.5567520751589273"
        ],
        [
         "7",
         "-0.4864462985596508",
         "-0.8314594277351274",
         "1.0523779774252175"
        ],
        [
         "8",
         "3.240858799556731",
         "0.06092942142433401",
         "-0.8401208894504748"
        ],
        [
         "10",
         "2.218421631876526",
         "0.06092942142433401",
         "-0.8907224634311083"
        ],
        [
         "11",
         "2.0296944069471774",
         "1.3995126951635262",
         "-0.38470672362477343"
        ],
        [
         "12",
         "0.8504917852925712",
         "0.9533182705837955",
         "-0.8502412042466014"
        ],
        [
         "13",
         "-0.6887657637168054",
         "0.06092942142433401",
         "-0.010255076168085636"
        ],
        [
         "14",
         "-0.9207796056071418",
         "-0.8314594277351274",
         "2.7829518075628825"
        ],
        [
         "15",
         "-0.4718597999030491",
         "-0.8314594277351274",
         "1.7203187539695795"
        ],
        [
         "16",
         "0.03431474117633324",
         "-0.8314594277351274",
         "1.6697171799889459"
        ],
        [
         "17",
         "1.0933818443857106",
         "0.06092942142433401",
         "-0.5061505011782937"
        ],
        [
         "18",
         "-0.13917122954574312",
         "0.06092942142433401",
         "1.6292359208044391"
        ],
        [
         "19",
         "1.5641632104205208",
         "0.06092942142433401",
         "-0.5466317603628006"
        ],
        [
         "20",
         "-0.15319997347399594",
         "-0.3852650031553967",
         "1.6292359208044391"
        ],
        [
         "21",
         "1.6452437727785387",
         "0.06092942142433401",
         "-0.4251879828092802"
        ],
        [
         "22",
         "-0.46833139499110304",
         "-0.3852650031553967",
         "-0.7490380562853345"
        ],
        [
         "23",
         "1.1019300418527964",
         "-0.3852650031553967",
         "-0.8300005746543481"
        ],
        [
         "24",
         "0.6284447778957734",
         "-0.8314594277351274",
         "1.001776403444584"
        ],
        [
         "25",
         "-0.14722229779843102",
         "-0.3852650031553967",
         "-0.41506766801315353"
        ],
        [
         "27",
         "1.2719239829712974",
         "-0.8314594277351274",
         "-0.8502412042466014"
        ],
        [
         "28",
         "-0.7644870306415585",
         "-0.8314594277351274",
         "-0.9818052965962486"
        ],
        [
         "29",
         "-0.9038772123176132",
         "-0.8314594277351274",
         "-0.4859098715860404"
        ],
        [
         "30",
         "0.2801512002474894",
         "-0.3852650031553967",
         "-0.18230042770223948"
        ],
        [
         "31",
         "0.659521416347037",
         "0.06092942142433401",
         "-0.6174739639356874"
        ],
        [
         "32",
         "1.7255604536607752",
         "0.9533182705837955",
         "0.009985553424167758"
        ],
        [
         "33",
         "-0.7937691538798738",
         "-0.8314594277351274",
         "1.2952655325322582"
        ],
        [
         "34",
         "-0.08796692046275953",
         "-0.3852650031553967",
         "-0.8198802598582214"
        ],
        [
         "35",
         "1.405591116130381",
         "0.5071238460040647",
         "-0.931203722615615"
        ],
        [
         "36",
         "0.05096250730726778",
         "-0.8314594277351274",
         "2.135251660610774"
        ],
        [
         "37",
         "-0.04334654219485063",
         "0.06092942142433401",
         "-0.7895193154698413"
        ],
        [
         "38",
         "-0.8295382071109422",
         "-0.8314594277351274",
         "-0.4960301863821671"
        ],
        [
         "39",
         "0.1720559088729218",
         "0.9533182705837955",
         "-0.7186771118969544"
        ],
        [
         "40",
         "-0.36101211019510776",
         "-0.8314594277351274",
         "0.5868434968033895"
        ],
        [
         "41",
         "-1.0017267918344679",
         "-0.8314594277351274",
         "2.2162141789797873"
        ],
        [
         "42",
         "2.5288848888194084",
         "0.06092942142433401",
         "-0.6478349083240675"
        ],
        [
         "43",
         "0.682425735517711",
         "0.06092942142433401",
         "-0.7895193154698413"
        ],
        [
         "45",
         "-0.6899418986874541",
         "-0.8314594277351274",
         "0.3945575156769822"
        ],
        [
         "46",
         "-0.6577861260878632",
         "-0.8314594277351274",
         "-0.5466317603628006"
        ],
        [
         "47",
         "0.5827937658906979",
         "0.06092942142433401",
         "-0.6174739639356874"
        ],
        [
         "48",
         "-0.7857665860383466",
         "-0.8314594277351274",
         "-0.6174739639356874"
        ],
        [
         "49",
         "-0.6055269330621329",
         "0.06092942142433401",
         "-0.0001347613719589388"
        ],
        [
         "51",
         "-0.8327998597615041",
         "-0.8314594277351274",
         "1.9530859942804935"
        ],
        [
         "52",
         "2.762596245100372",
         "3.63048481806218",
         "-0.5365114455666739"
        ],
        [
         "53",
         "0.561659711727392",
         "0.06092942142433401",
         "-0.5061505011782937"
        ]
       ],
       "shape": {
        "columns": 3,
        "rows": 3830
       }
      },
      "text/html": [
       "<div>\n",
       "<style scoped>\n",
       "    .dataframe tbody tr th:only-of-type {\n",
       "        vertical-align: middle;\n",
       "    }\n",
       "\n",
       "    .dataframe tbody tr th {\n",
       "        vertical-align: top;\n",
       "    }\n",
       "\n",
       "    .dataframe thead th {\n",
       "        text-align: right;\n",
       "    }\n",
       "</style>\n",
       "<table border=\"1\" class=\"dataframe\">\n",
       "  <thead>\n",
       "    <tr style=\"text-align: right;\">\n",
       "      <th></th>\n",
       "      <th>MonetaryValue</th>\n",
       "      <th>Frequency</th>\n",
       "      <th>Recency</th>\n",
       "    </tr>\n",
       "  </thead>\n",
       "  <tbody>\n",
       "    <tr>\n",
       "      <th>0</th>\n",
       "      <td>-0.63</td>\n",
       "      <td>3.63</td>\n",
       "      <td>0.67</td>\n",
       "    </tr>\n",
       "    <tr>\n",
       "      <th>1</th>\n",
       "      <td>0.53</td>\n",
       "      <td>-0.39</td>\n",
       "      <td>-0.97</td>\n",
       "    </tr>\n",
       "    <tr>\n",
       "      <th>2</th>\n",
       "      <td>-0.81</td>\n",
       "      <td>-0.83</td>\n",
       "      <td>-0.25</td>\n",
       "    </tr>\n",
       "    <tr>\n",
       "      <th>3</th>\n",
       "      <td>2.16</td>\n",
       "      <td>0.06</td>\n",
       "      <td>-0.57</td>\n",
       "    </tr>\n",
       "    <tr>\n",
       "      <th>4</th>\n",
       "      <td>-0.71</td>\n",
       "      <td>-0.83</td>\n",
       "      <td>-0.89</td>\n",
       "    </tr>\n",
       "    <tr>\n",
       "      <th>...</th>\n",
       "      <td>...</td>\n",
       "      <td>...</td>\n",
       "      <td>...</td>\n",
       "    </tr>\n",
       "    <tr>\n",
       "      <th>4309</th>\n",
       "      <td>-0.30</td>\n",
       "      <td>1.40</td>\n",
       "      <td>-0.82</td>\n",
       "    </tr>\n",
       "    <tr>\n",
       "      <th>4310</th>\n",
       "      <td>-0.52</td>\n",
       "      <td>-0.83</td>\n",
       "      <td>-0.32</td>\n",
       "    </tr>\n",
       "    <tr>\n",
       "      <th>4311</th>\n",
       "      <td>-0.56</td>\n",
       "      <td>-0.83</td>\n",
       "      <td>1.99</td>\n",
       "    </tr>\n",
       "    <tr>\n",
       "      <th>4312</th>\n",
       "      <td>0.49</td>\n",
       "      <td>-0.39</td>\n",
       "      <td>0.13</td>\n",
       "    </tr>\n",
       "    <tr>\n",
       "      <th>4313</th>\n",
       "      <td>1.77</td>\n",
       "      <td>0.51</td>\n",
       "      <td>-0.82</td>\n",
       "    </tr>\n",
       "  </tbody>\n",
       "</table>\n",
       "<p>3830 rows × 3 columns</p>\n",
       "</div>"
      ],
      "text/plain": [
       "            MonetaryValue            Frequency              Recency\n",
       "0                   -0.63                 3.63                 0.67\n",
       "1                    0.53                -0.39                -0.97\n",
       "2                   -0.81                -0.83                -0.25\n",
       "3                    2.16                 0.06                -0.57\n",
       "4                   -0.71                -0.83                -0.89\n",
       "...                   ...                  ...                  ...\n",
       "4309                -0.30                 1.40                -0.82\n",
       "4310                -0.52                -0.83                -0.32\n",
       "4311                -0.56                -0.83                 1.99\n",
       "4312                 0.49                -0.39                 0.13\n",
       "4313                 1.77                 0.51                -0.82\n",
       "\n",
       "[3830 rows x 3 columns]"
      ]
     },
     "execution_count": 41,
     "metadata": {},
     "output_type": "execute_result"
    }
   ],
   "source": [
    "scaled_data_df = pd.DataFrame(scaled_data, index=non_outliers_df.index, columns=(\"MonetaryValue\", \"Frequency\", \"Recency\"))\n",
    "\n",
    "scaled_data_df"
   ]
  },
  {
   "cell_type": "code",
   "execution_count": 42,
   "id": "12281afb",
   "metadata": {},
   "outputs": [
    {
     "data": {
      "image/png": "[encoded data removed]",
      "text/plain": [
       "<Figure size 800x800 with 1 Axes>"
      ]
     },
     "metadata": {},
     "output_type": "display_data"
    }
   ],
   "source": [
    "fig = plt.figure(figsize=(8, 8))\n",
    "\n",
    "ax = fig.add_subplot(projection=\"3d\")\n",
    "\n",
    "scatter = ax.scatter(scaled_data_df[\"MonetaryValue\"], scaled_data_df[\"Frequency\"], scaled_data_df[\"Recency\"])\n",
    "\n",
    "ax.set_xlabel('Monetary Value')\n",
    "ax.set_ylabel('Frequency')\n",
    "ax.set_zlabel('Recency')\n",
    "\n",
    "ax.set_title('3D Scatter Plot of Customer Data')\n",
    "\n",
    "plt.show()"
   ]
  },
  {
   "cell_type": "markdown",
   "id": "bb46b585",
   "metadata": {},
   "source": [
    "# K-Means Clustering"
   ]
  },
  {
   "cell_type": "code",
   "execution_count": null,
   "id": "9e800f41",
   "metadata": {},
   "outputs": [],
   "source": []
  }
 ],
 "metadata": {
  "kernelspec": {
   "display_name": ".venv",
   "language": "python",
   "name": "python3"
  },
  "language_info": {
   "codemirror_mode": {
    "name": "ipython",
    "version": 3
   },
   "file_extension": ".py",
   "mimetype": "text/x-python",
   "name": "python",
   "nbconvert_exporter": "python",
   "pygments_lexer": "ipython3",
   "version": "3.11.11"
  }
 },
 "nbformat": 4,
 "nbformat_minor": 5
}
