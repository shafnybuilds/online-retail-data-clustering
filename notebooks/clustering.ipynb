{
 "cells": [
  {
   "cell_type": "code",
   "execution_count": 8,
   "id": "a76ae136",
   "metadata": {},
   "outputs": [],
   "source": [
    "import pandas as pd\n",
    "import matplotlib.pyplot as plt\n",
    "import seaborn as sns\n",
    "\n",
    "from sklearn.cluster import KMeans\n",
    "from sklearn.metrics import silhouette_score\n",
    "from sklearn.preprocessing import StandardScaler\n",
    "\n",
    "\n",
    "# setting to make numbers easier to read on didplay\n",
    "pd.options.display.float_format = '{:20.2f}'.format\n",
    "\n",
    "# show all columns on output\n",
    "pd.set_option('display.max_columns', 999)"
   ]
  },
  {
   "cell_type": "markdown",
   "id": "a9264ab5",
   "metadata": {},
   "source": [
    "# Data Exploration"
   ]
  },
  {
   "cell_type": "code",
   "execution_count": 9,
   "id": "efb468a2",
   "metadata": {},
   "outputs": [
    {
     "data": {
      "application/vnd.microsoft.datawrangler.viewer.v0+json": {
       "columns": [
        {
         "name": "index",
         "rawType": "int64",
         "type": "integer"
        },
        {
         "name": "Invoice",
         "rawType": "object",
         "type": "unknown"
        },
        {
         "name": "StockCode",
         "rawType": "object",
         "type": "unknown"
        },
        {
         "name": "Description",
         "rawType": "object",
         "type": "string"
        },
        {
         "name": "Quantity",
         "rawType": "int64",
         "type": "integer"
        },
        {
         "name": "InvoiceDate",
         "rawType": "datetime64[ns]",
         "type": "datetime"
        },
        {
         "name": "Price",
         "rawType": "float64",
         "type": "float"
        },
        {
         "name": "Customer ID",
         "rawType": "float64",
         "type": "float"
        },
        {
         "name": "Country",
         "rawType": "object",
         "type": "string"
        }
       ],
       "conversionMethod": "pd.DataFrame",
       "ref": "408cd6ab-f6c4-4f9d-8968-a859d5522103",
       "rows": [
        [
         "0",
         "489434",
         "85048",
         "15CM CHRISTMAS GLASS BALL 20 LIGHTS",
         "12",
         "2009-12-01 07:45:00",
         "6.95",
         "13085.0",
         "United Kingdom"
        ],
        [
         "1",
         "489434",
         "79323P",
         "PINK CHERRY LIGHTS",
         "12",
         "2009-12-01 07:45:00",
         "6.75",
         "13085.0",
         "United Kingdom"
        ],
        [
         "2",
         "489434",
         "79323W",
         " WHITE CHERRY LIGHTS",
         "12",
         "2009-12-01 07:45:00",
         "6.75",
         "13085.0",
         "United Kingdom"
        ],
        [
         "3",
         "489434",
         "22041",
         "RECORD FRAME 7\" SINGLE SIZE ",
         "48",
         "2009-12-01 07:45:00",
         "2.1",
         "13085.0",
         "United Kingdom"
        ],
        [
         "4",
         "489434",
         "21232",
         "STRAWBERRY CERAMIC TRINKET BOX",
         "24",
         "2009-12-01 07:45:00",
         "1.25",
         "13085.0",
         "United Kingdom"
        ]
       ],
       "shape": {
        "columns": 8,
        "rows": 5
       }
      },
      "text/html": [
       "<div>\n",
       "<style scoped>\n",
       "    .dataframe tbody tr th:only-of-type {\n",
       "        vertical-align: middle;\n",
       "    }\n",
       "\n",
       "    .dataframe tbody tr th {\n",
       "        vertical-align: top;\n",
       "    }\n",
       "\n",
       "    .dataframe thead th {\n",
       "        text-align: right;\n",
       "    }\n",
       "</style>\n",
       "<table border=\"1\" class=\"dataframe\">\n",
       "  <thead>\n",
       "    <tr style=\"text-align: right;\">\n",
       "      <th></th>\n",
       "      <th>Invoice</th>\n",
       "      <th>StockCode</th>\n",
       "      <th>Description</th>\n",
       "      <th>Quantity</th>\n",
       "      <th>InvoiceDate</th>\n",
       "      <th>Price</th>\n",
       "      <th>Customer ID</th>\n",
       "      <th>Country</th>\n",
       "    </tr>\n",
       "  </thead>\n",
       "  <tbody>\n",
       "    <tr>\n",
       "      <th>0</th>\n",
       "      <td>489434</td>\n",
       "      <td>85048</td>\n",
       "      <td>15CM CHRISTMAS GLASS BALL 20 LIGHTS</td>\n",
       "      <td>12</td>\n",
       "      <td>2009-12-01 07:45:00</td>\n",
       "      <td>6.95</td>\n",
       "      <td>13085.00</td>\n",
       "      <td>United Kingdom</td>\n",
       "    </tr>\n",
       "    <tr>\n",
       "      <th>1</th>\n",
       "      <td>489434</td>\n",
       "      <td>79323P</td>\n",
       "      <td>PINK CHERRY LIGHTS</td>\n",
       "      <td>12</td>\n",
       "      <td>2009-12-01 07:45:00</td>\n",
       "      <td>6.75</td>\n",
       "      <td>13085.00</td>\n",
       "      <td>United Kingdom</td>\n",
       "    </tr>\n",
       "    <tr>\n",
       "      <th>2</th>\n",
       "      <td>489434</td>\n",
       "      <td>79323W</td>\n",
       "      <td>WHITE CHERRY LIGHTS</td>\n",
       "      <td>12</td>\n",
       "      <td>2009-12-01 07:45:00</td>\n",
       "      <td>6.75</td>\n",
       "      <td>13085.00</td>\n",
       "      <td>United Kingdom</td>\n",
       "    </tr>\n",
       "    <tr>\n",
       "      <th>3</th>\n",
       "      <td>489434</td>\n",
       "      <td>22041</td>\n",
       "      <td>RECORD FRAME 7\" SINGLE SIZE</td>\n",
       "      <td>48</td>\n",
       "      <td>2009-12-01 07:45:00</td>\n",
       "      <td>2.10</td>\n",
       "      <td>13085.00</td>\n",
       "      <td>United Kingdom</td>\n",
       "    </tr>\n",
       "    <tr>\n",
       "      <th>4</th>\n",
       "      <td>489434</td>\n",
       "      <td>21232</td>\n",
       "      <td>STRAWBERRY CERAMIC TRINKET BOX</td>\n",
       "      <td>24</td>\n",
       "      <td>2009-12-01 07:45:00</td>\n",
       "      <td>1.25</td>\n",
       "      <td>13085.00</td>\n",
       "      <td>United Kingdom</td>\n",
       "    </tr>\n",
       "  </tbody>\n",
       "</table>\n",
       "</div>"
      ],
      "text/plain": [
       "  Invoice StockCode                          Description  Quantity  \\\n",
       "0  489434     85048  15CM CHRISTMAS GLASS BALL 20 LIGHTS        12   \n",
       "1  489434    79323P                   PINK CHERRY LIGHTS        12   \n",
       "2  489434    79323W                  WHITE CHERRY LIGHTS        12   \n",
       "3  489434     22041         RECORD FRAME 7\" SINGLE SIZE         48   \n",
       "4  489434     21232       STRAWBERRY CERAMIC TRINKET BOX        24   \n",
       "\n",
       "          InvoiceDate                Price          Customer ID  \\\n",
       "0 2009-12-01 07:45:00                 6.95             13085.00   \n",
       "1 2009-12-01 07:45:00                 6.75             13085.00   \n",
       "2 2009-12-01 07:45:00                 6.75             13085.00   \n",
       "3 2009-12-01 07:45:00                 2.10             13085.00   \n",
       "4 2009-12-01 07:45:00                 1.25             13085.00   \n",
       "\n",
       "          Country  \n",
       "0  United Kingdom  \n",
       "1  United Kingdom  \n",
       "2  United Kingdom  \n",
       "3  United Kingdom  \n",
       "4  United Kingdom  "
      ]
     },
     "execution_count": 9,
     "metadata": {},
     "output_type": "execute_result"
    }
   ],
   "source": [
    "df = pd.read_excel(\"../data/online_retail_ii/online_retail_II.xlsx\")\n",
    "\n",
    "df.head()"
   ]
  },
  {
   "cell_type": "code",
   "execution_count": 10,
   "id": "8229e984",
   "metadata": {},
   "outputs": [
    {
     "name": "stdout",
     "output_type": "stream",
     "text": [
      "<class 'pandas.core.frame.DataFrame'>\n",
      "RangeIndex: 525461 entries, 0 to 525460\n",
      "Data columns (total 8 columns):\n",
      " #   Column       Non-Null Count   Dtype         \n",
      "---  ------       --------------   -----         \n",
      " 0   Invoice      525461 non-null  object        \n",
      " 1   StockCode    525461 non-null  object        \n",
      " 2   Description  522533 non-null  object        \n",
      " 3   Quantity     525461 non-null  int64         \n",
      " 4   InvoiceDate  525461 non-null  datetime64[ns]\n",
      " 5   Price        525461 non-null  float64       \n",
      " 6   Customer ID  417534 non-null  float64       \n",
      " 7   Country      525461 non-null  object        \n",
      "dtypes: datetime64[ns](1), float64(2), int64(1), object(4)\n",
      "memory usage: 32.1+ MB\n"
     ]
    }
   ],
   "source": [
    "df.info()"
   ]
  },
  {
   "cell_type": "code",
   "execution_count": 12,
   "id": "cd2447a4",
   "metadata": {},
   "outputs": [
    {
     "data": {
      "application/vnd.microsoft.datawrangler.viewer.v0+json": {
       "columns": [
        {
         "name": "index",
         "rawType": "object",
         "type": "string"
        },
        {
         "name": "Quantity",
         "rawType": "float64",
         "type": "float"
        },
        {
         "name": "InvoiceDate",
         "rawType": "object",
         "type": "unknown"
        },
        {
         "name": "Price",
         "rawType": "float64",
         "type": "float"
        },
        {
         "name": "Customer ID",
         "rawType": "float64",
         "type": "float"
        }
       ],
       "conversionMethod": "pd.DataFrame",
       "ref": "da088abf-1f82-4836-a58c-951816cade1b",
       "rows": [
        [
         "count",
         "525461.0",
         "525461",
         "525461.0",
         "417534.0"
        ],
        [
         "mean",
         "10.337667305470815",
         "2010-06-28 11:37:36.845017856",
         "4.688834478676819",
         "15360.645477973052"
        ],
        [
         "min",
         "-9600.0",
         "2009-12-01 07:45:00",
         "-53594.36",
         "12346.0"
        ],
        [
         "25%",
         "1.0",
         "2010-03-21 12:20:00",
         "1.25",
         "13983.0"
        ],
        [
         "50%",
         "3.0",
         "2010-07-06 09:51:00",
         "2.1",
         "15311.0"
        ],
        [
         "75%",
         "10.0",
         "2010-10-15 12:45:00",
         "4.21",
         "16799.0"
        ],
        [
         "max",
         "19152.0",
         "2010-12-09 20:01:00",
         "25111.09",
         "18287.0"
        ],
        [
         "std",
         "107.4241102687978",
         null,
         "146.1269139529265",
         "1680.8113157457144"
        ]
       ],
       "shape": {
        "columns": 4,
        "rows": 8
       }
      },
      "text/html": [
       "<div>\n",
       "<style scoped>\n",
       "    .dataframe tbody tr th:only-of-type {\n",
       "        vertical-align: middle;\n",
       "    }\n",
       "\n",
       "    .dataframe tbody tr th {\n",
       "        vertical-align: top;\n",
       "    }\n",
       "\n",
       "    .dataframe thead th {\n",
       "        text-align: right;\n",
       "    }\n",
       "</style>\n",
       "<table border=\"1\" class=\"dataframe\">\n",
       "  <thead>\n",
       "    <tr style=\"text-align: right;\">\n",
       "      <th></th>\n",
       "      <th>Quantity</th>\n",
       "      <th>InvoiceDate</th>\n",
       "      <th>Price</th>\n",
       "      <th>Customer ID</th>\n",
       "    </tr>\n",
       "  </thead>\n",
       "  <tbody>\n",
       "    <tr>\n",
       "      <th>count</th>\n",
       "      <td>525461.00</td>\n",
       "      <td>525461</td>\n",
       "      <td>525461.00</td>\n",
       "      <td>417534.00</td>\n",
       "    </tr>\n",
       "    <tr>\n",
       "      <th>mean</th>\n",
       "      <td>10.34</td>\n",
       "      <td>2010-06-28 11:37:36.845017856</td>\n",
       "      <td>4.69</td>\n",
       "      <td>15360.65</td>\n",
       "    </tr>\n",
       "    <tr>\n",
       "      <th>min</th>\n",
       "      <td>-9600.00</td>\n",
       "      <td>2009-12-01 07:45:00</td>\n",
       "      <td>-53594.36</td>\n",
       "      <td>12346.00</td>\n",
       "    </tr>\n",
       "    <tr>\n",
       "      <th>25%</th>\n",
       "      <td>1.00</td>\n",
       "      <td>2010-03-21 12:20:00</td>\n",
       "      <td>1.25</td>\n",
       "      <td>13983.00</td>\n",
       "    </tr>\n",
       "    <tr>\n",
       "      <th>50%</th>\n",
       "      <td>3.00</td>\n",
       "      <td>2010-07-06 09:51:00</td>\n",
       "      <td>2.10</td>\n",
       "      <td>15311.00</td>\n",
       "    </tr>\n",
       "    <tr>\n",
       "      <th>75%</th>\n",
       "      <td>10.00</td>\n",
       "      <td>2010-10-15 12:45:00</td>\n",
       "      <td>4.21</td>\n",
       "      <td>16799.00</td>\n",
       "    </tr>\n",
       "    <tr>\n",
       "      <th>max</th>\n",
       "      <td>19152.00</td>\n",
       "      <td>2010-12-09 20:01:00</td>\n",
       "      <td>25111.09</td>\n",
       "      <td>18287.00</td>\n",
       "    </tr>\n",
       "    <tr>\n",
       "      <th>std</th>\n",
       "      <td>107.42</td>\n",
       "      <td>NaN</td>\n",
       "      <td>146.13</td>\n",
       "      <td>1680.81</td>\n",
       "    </tr>\n",
       "  </tbody>\n",
       "</table>\n",
       "</div>"
      ],
      "text/plain": [
       "                  Quantity                    InvoiceDate  \\\n",
       "count            525461.00                         525461   \n",
       "mean                 10.34  2010-06-28 11:37:36.845017856   \n",
       "min               -9600.00            2009-12-01 07:45:00   \n",
       "25%                   1.00            2010-03-21 12:20:00   \n",
       "50%                   3.00            2010-07-06 09:51:00   \n",
       "75%                  10.00            2010-10-15 12:45:00   \n",
       "max               19152.00            2010-12-09 20:01:00   \n",
       "std                 107.42                            NaN   \n",
       "\n",
       "                     Price          Customer ID  \n",
       "count            525461.00            417534.00  \n",
       "mean                  4.69             15360.65  \n",
       "min              -53594.36             12346.00  \n",
       "25%                   1.25             13983.00  \n",
       "50%                   2.10             15311.00  \n",
       "75%                   4.21             16799.00  \n",
       "max               25111.09             18287.00  \n",
       "std                 146.13              1680.81  "
      ]
     },
     "execution_count": 12,
     "metadata": {},
     "output_type": "execute_result"
    }
   ],
   "source": [
    "df.describe()"
   ]
  },
  {
   "cell_type": "code",
   "execution_count": 14,
   "id": "f2a8e425",
   "metadata": {},
   "outputs": [
    {
     "data": {
      "application/vnd.microsoft.datawrangler.viewer.v0+json": {
       "columns": [
        {
         "name": "index",
         "rawType": "object",
         "type": "string"
        },
        {
         "name": "Invoice",
         "rawType": "int64",
         "type": "integer"
        },
        {
         "name": "StockCode",
         "rawType": "object",
         "type": "unknown"
        },
        {
         "name": "Description",
         "rawType": "object",
         "type": "unknown"
        },
        {
         "name": "Country",
         "rawType": "object",
         "type": "unknown"
        }
       ],
       "conversionMethod": "pd.DataFrame",
       "ref": "6901e9d5-4c36-41ad-ada4-4684c891c1d2",
       "rows": [
        [
         "count",
         "525461",
         "525461",
         "522533",
         "525461"
        ],
        [
         "unique",
         "28816",
         "4632",
         "4681",
         "40"
        ],
        [
         "top",
         "537434",
         "85123A",
         "WHITE HANGING HEART T-LIGHT HOLDER",
         "United Kingdom"
        ],
        [
         "freq",
         "675",
         "3516",
         "3549",
         "485852"
        ]
       ],
       "shape": {
        "columns": 4,
        "rows": 4
       }
      },
      "text/html": [
       "<div>\n",
       "<style scoped>\n",
       "    .dataframe tbody tr th:only-of-type {\n",
       "        vertical-align: middle;\n",
       "    }\n",
       "\n",
       "    .dataframe tbody tr th {\n",
       "        vertical-align: top;\n",
       "    }\n",
       "\n",
       "    .dataframe thead th {\n",
       "        text-align: right;\n",
       "    }\n",
       "</style>\n",
       "<table border=\"1\" class=\"dataframe\">\n",
       "  <thead>\n",
       "    <tr style=\"text-align: right;\">\n",
       "      <th></th>\n",
       "      <th>Invoice</th>\n",
       "      <th>StockCode</th>\n",
       "      <th>Description</th>\n",
       "      <th>Country</th>\n",
       "    </tr>\n",
       "  </thead>\n",
       "  <tbody>\n",
       "    <tr>\n",
       "      <th>count</th>\n",
       "      <td>525461</td>\n",
       "      <td>525461</td>\n",
       "      <td>522533</td>\n",
       "      <td>525461</td>\n",
       "    </tr>\n",
       "    <tr>\n",
       "      <th>unique</th>\n",
       "      <td>28816</td>\n",
       "      <td>4632</td>\n",
       "      <td>4681</td>\n",
       "      <td>40</td>\n",
       "    </tr>\n",
       "    <tr>\n",
       "      <th>top</th>\n",
       "      <td>537434</td>\n",
       "      <td>85123A</td>\n",
       "      <td>WHITE HANGING HEART T-LIGHT HOLDER</td>\n",
       "      <td>United Kingdom</td>\n",
       "    </tr>\n",
       "    <tr>\n",
       "      <th>freq</th>\n",
       "      <td>675</td>\n",
       "      <td>3516</td>\n",
       "      <td>3549</td>\n",
       "      <td>485852</td>\n",
       "    </tr>\n",
       "  </tbody>\n",
       "</table>\n",
       "</div>"
      ],
      "text/plain": [
       "        Invoice StockCode                         Description         Country\n",
       "count    525461    525461                              522533          525461\n",
       "unique    28816      4632                                4681              40\n",
       "top      537434    85123A  WHITE HANGING HEART T-LIGHT HOLDER  United Kingdom\n",
       "freq        675      3516                                3549          485852"
      ]
     },
     "execution_count": 14,
     "metadata": {},
     "output_type": "execute_result"
    }
   ],
   "source": [
    "df.describe(include='O')"
   ]
  },
  {
   "cell_type": "code",
   "execution_count": 15,
   "id": "5574f432",
   "metadata": {},
   "outputs": [
    {
     "data": {
      "application/vnd.microsoft.datawrangler.viewer.v0+json": {
       "columns": [
        {
         "name": "index",
         "rawType": "int64",
         "type": "integer"
        },
        {
         "name": "Invoice",
         "rawType": "object",
         "type": "unknown"
        },
        {
         "name": "StockCode",
         "rawType": "object",
         "type": "unknown"
        },
        {
         "name": "Description",
         "rawType": "object",
         "type": "unknown"
        },
        {
         "name": "Quantity",
         "rawType": "int64",
         "type": "integer"
        },
        {
         "name": "InvoiceDate",
         "rawType": "datetime64[ns]",
         "type": "datetime"
        },
        {
         "name": "Price",
         "rawType": "float64",
         "type": "float"
        },
        {
         "name": "Customer ID",
         "rawType": "float64",
         "type": "float"
        },
        {
         "name": "Country",
         "rawType": "object",
         "type": "string"
        }
       ],
       "conversionMethod": "pd.DataFrame",
       "ref": "3093dc58-aacf-4682-9ea5-218b65b3132f",
       "rows": [
        [
         "263",
         "489464",
         "21733",
         "85123a mixed",
         "-96",
         "2009-12-01 10:52:00",
         "0.0",
         null,
         "United Kingdom"
        ],
        [
         "283",
         "489463",
         "71477",
         "short",
         "-240",
         "2009-12-01 10:52:00",
         "0.0",
         null,
         "United Kingdom"
        ],
        [
         "284",
         "489467",
         "85123A",
         "21733 mixed",
         "-192",
         "2009-12-01 10:53:00",
         "0.0",
         null,
         "United Kingdom"
        ],
        [
         "470",
         "489521",
         "21646",
         null,
         "-50",
         "2009-12-01 11:44:00",
         "0.0",
         null,
         "United Kingdom"
        ],
        [
         "577",
         "489525",
         "85226C",
         "BLUE PULL BACK RACING CAR",
         "1",
         "2009-12-01 11:49:00",
         "0.55",
         null,
         "United Kingdom"
        ]
       ],
       "shape": {
        "columns": 8,
        "rows": 5
       }
      },
      "text/html": [
       "<div>\n",
       "<style scoped>\n",
       "    .dataframe tbody tr th:only-of-type {\n",
       "        vertical-align: middle;\n",
       "    }\n",
       "\n",
       "    .dataframe tbody tr th {\n",
       "        vertical-align: top;\n",
       "    }\n",
       "\n",
       "    .dataframe thead th {\n",
       "        text-align: right;\n",
       "    }\n",
       "</style>\n",
       "<table border=\"1\" class=\"dataframe\">\n",
       "  <thead>\n",
       "    <tr style=\"text-align: right;\">\n",
       "      <th></th>\n",
       "      <th>Invoice</th>\n",
       "      <th>StockCode</th>\n",
       "      <th>Description</th>\n",
       "      <th>Quantity</th>\n",
       "      <th>InvoiceDate</th>\n",
       "      <th>Price</th>\n",
       "      <th>Customer ID</th>\n",
       "      <th>Country</th>\n",
       "    </tr>\n",
       "  </thead>\n",
       "  <tbody>\n",
       "    <tr>\n",
       "      <th>263</th>\n",
       "      <td>489464</td>\n",
       "      <td>21733</td>\n",
       "      <td>85123a mixed</td>\n",
       "      <td>-96</td>\n",
       "      <td>2009-12-01 10:52:00</td>\n",
       "      <td>0.00</td>\n",
       "      <td>NaN</td>\n",
       "      <td>United Kingdom</td>\n",
       "    </tr>\n",
       "    <tr>\n",
       "      <th>283</th>\n",
       "      <td>489463</td>\n",
       "      <td>71477</td>\n",
       "      <td>short</td>\n",
       "      <td>-240</td>\n",
       "      <td>2009-12-01 10:52:00</td>\n",
       "      <td>0.00</td>\n",
       "      <td>NaN</td>\n",
       "      <td>United Kingdom</td>\n",
       "    </tr>\n",
       "    <tr>\n",
       "      <th>284</th>\n",
       "      <td>489467</td>\n",
       "      <td>85123A</td>\n",
       "      <td>21733 mixed</td>\n",
       "      <td>-192</td>\n",
       "      <td>2009-12-01 10:53:00</td>\n",
       "      <td>0.00</td>\n",
       "      <td>NaN</td>\n",
       "      <td>United Kingdom</td>\n",
       "    </tr>\n",
       "    <tr>\n",
       "      <th>470</th>\n",
       "      <td>489521</td>\n",
       "      <td>21646</td>\n",
       "      <td>NaN</td>\n",
       "      <td>-50</td>\n",
       "      <td>2009-12-01 11:44:00</td>\n",
       "      <td>0.00</td>\n",
       "      <td>NaN</td>\n",
       "      <td>United Kingdom</td>\n",
       "    </tr>\n",
       "    <tr>\n",
       "      <th>577</th>\n",
       "      <td>489525</td>\n",
       "      <td>85226C</td>\n",
       "      <td>BLUE PULL BACK RACING CAR</td>\n",
       "      <td>1</td>\n",
       "      <td>2009-12-01 11:49:00</td>\n",
       "      <td>0.55</td>\n",
       "      <td>NaN</td>\n",
       "      <td>United Kingdom</td>\n",
       "    </tr>\n",
       "  </tbody>\n",
       "</table>\n",
       "</div>"
      ],
      "text/plain": [
       "    Invoice StockCode                Description  Quantity  \\\n",
       "263  489464     21733               85123a mixed       -96   \n",
       "283  489463     71477                      short      -240   \n",
       "284  489467    85123A                21733 mixed      -192   \n",
       "470  489521     21646                        NaN       -50   \n",
       "577  489525    85226C  BLUE PULL BACK RACING CAR         1   \n",
       "\n",
       "            InvoiceDate                Price  Customer ID         Country  \n",
       "263 2009-12-01 10:52:00                 0.00          NaN  United Kingdom  \n",
       "283 2009-12-01 10:52:00                 0.00          NaN  United Kingdom  \n",
       "284 2009-12-01 10:53:00                 0.00          NaN  United Kingdom  \n",
       "470 2009-12-01 11:44:00                 0.00          NaN  United Kingdom  \n",
       "577 2009-12-01 11:49:00                 0.55          NaN  United Kingdom  "
      ]
     },
     "execution_count": 15,
     "metadata": {},
     "output_type": "execute_result"
    }
   ],
   "source": [
    "df[df[\"Customer ID\"].isna()].head()"
   ]
  },
  {
   "cell_type": "code",
   "execution_count": 16,
   "id": "e926289f",
   "metadata": {},
   "outputs": [
    {
     "data": {
      "application/vnd.microsoft.datawrangler.viewer.v0+json": {
       "columns": [
        {
         "name": "index",
         "rawType": "int64",
         "type": "integer"
        },
        {
         "name": "Invoice",
         "rawType": "object",
         "type": "string"
        },
        {
         "name": "StockCode",
         "rawType": "object",
         "type": "unknown"
        },
        {
         "name": "Description",
         "rawType": "object",
         "type": "string"
        },
        {
         "name": "Quantity",
         "rawType": "int64",
         "type": "integer"
        },
        {
         "name": "InvoiceDate",
         "rawType": "datetime64[ns]",
         "type": "datetime"
        },
        {
         "name": "Price",
         "rawType": "float64",
         "type": "float"
        },
        {
         "name": "Customer ID",
         "rawType": "float64",
         "type": "float"
        },
        {
         "name": "Country",
         "rawType": "object",
         "type": "string"
        }
       ],
       "conversionMethod": "pd.DataFrame",
       "ref": "34be7bc7-7693-4518-af2b-a7443c105952",
       "rows": [
        [
         "178",
         "C489449",
         "22087",
         "PAPER BUNTING WHITE LACE",
         "-12",
         "2009-12-01 10:33:00",
         "2.95",
         "16321.0",
         "Australia"
        ],
        [
         "179",
         "C489449",
         "85206A",
         "CREAM FELT EASTER EGG BASKET",
         "-6",
         "2009-12-01 10:33:00",
         "1.65",
         "16321.0",
         "Australia"
        ],
        [
         "180",
         "C489449",
         "21895",
         "POTTING SHED SOW 'N' GROW SET",
         "-4",
         "2009-12-01 10:33:00",
         "4.25",
         "16321.0",
         "Australia"
        ],
        [
         "181",
         "C489449",
         "21896",
         "POTTING SHED TWINE",
         "-6",
         "2009-12-01 10:33:00",
         "2.1",
         "16321.0",
         "Australia"
        ],
        [
         "182",
         "C489449",
         "22083",
         "PAPER CHAIN KIT RETRO SPOT",
         "-12",
         "2009-12-01 10:33:00",
         "2.95",
         "16321.0",
         "Australia"
        ],
        [
         "183",
         "C489449",
         "21871",
         "SAVE THE PLANET MUG",
         "-12",
         "2009-12-01 10:33:00",
         "1.25",
         "16321.0",
         "Australia"
        ],
        [
         "184",
         "C489449",
         "84946",
         "ANTIQUE SILVER TEA GLASS ETCHED",
         "-12",
         "2009-12-01 10:33:00",
         "1.25",
         "16321.0",
         "Australia"
        ],
        [
         "185",
         "C489449",
         "84970S",
         "HANGING HEART ZINC T-LIGHT HOLDER",
         "-24",
         "2009-12-01 10:33:00",
         "0.85",
         "16321.0",
         "Australia"
        ],
        [
         "186",
         "C489449",
         "22090",
         "PAPER BUNTING RETRO SPOTS",
         "-12",
         "2009-12-01 10:33:00",
         "2.95",
         "16321.0",
         "Australia"
        ],
        [
         "196",
         "C489459",
         "90200A",
         "PURPLE SWEETHEART BRACELET",
         "-3",
         "2009-12-01 10:44:00",
         "4.25",
         "17592.0",
         "United Kingdom"
        ]
       ],
       "shape": {
        "columns": 8,
        "rows": 10
       }
      },
      "text/html": [
       "<div>\n",
       "<style scoped>\n",
       "    .dataframe tbody tr th:only-of-type {\n",
       "        vertical-align: middle;\n",
       "    }\n",
       "\n",
       "    .dataframe tbody tr th {\n",
       "        vertical-align: top;\n",
       "    }\n",
       "\n",
       "    .dataframe thead th {\n",
       "        text-align: right;\n",
       "    }\n",
       "</style>\n",
       "<table border=\"1\" class=\"dataframe\">\n",
       "  <thead>\n",
       "    <tr style=\"text-align: right;\">\n",
       "      <th></th>\n",
       "      <th>Invoice</th>\n",
       "      <th>StockCode</th>\n",
       "      <th>Description</th>\n",
       "      <th>Quantity</th>\n",
       "      <th>InvoiceDate</th>\n",
       "      <th>Price</th>\n",
       "      <th>Customer ID</th>\n",
       "      <th>Country</th>\n",
       "    </tr>\n",
       "  </thead>\n",
       "  <tbody>\n",
       "    <tr>\n",
       "      <th>178</th>\n",
       "      <td>C489449</td>\n",
       "      <td>22087</td>\n",
       "      <td>PAPER BUNTING WHITE LACE</td>\n",
       "      <td>-12</td>\n",
       "      <td>2009-12-01 10:33:00</td>\n",
       "      <td>2.95</td>\n",
       "      <td>16321.00</td>\n",
       "      <td>Australia</td>\n",
       "    </tr>\n",
       "    <tr>\n",
       "      <th>179</th>\n",
       "      <td>C489449</td>\n",
       "      <td>85206A</td>\n",
       "      <td>CREAM FELT EASTER EGG BASKET</td>\n",
       "      <td>-6</td>\n",
       "      <td>2009-12-01 10:33:00</td>\n",
       "      <td>1.65</td>\n",
       "      <td>16321.00</td>\n",
       "      <td>Australia</td>\n",
       "    </tr>\n",
       "    <tr>\n",
       "      <th>180</th>\n",
       "      <td>C489449</td>\n",
       "      <td>21895</td>\n",
       "      <td>POTTING SHED SOW 'N' GROW SET</td>\n",
       "      <td>-4</td>\n",
       "      <td>2009-12-01 10:33:00</td>\n",
       "      <td>4.25</td>\n",
       "      <td>16321.00</td>\n",
       "      <td>Australia</td>\n",
       "    </tr>\n",
       "    <tr>\n",
       "      <th>181</th>\n",
       "      <td>C489449</td>\n",
       "      <td>21896</td>\n",
       "      <td>POTTING SHED TWINE</td>\n",
       "      <td>-6</td>\n",
       "      <td>2009-12-01 10:33:00</td>\n",
       "      <td>2.10</td>\n",
       "      <td>16321.00</td>\n",
       "      <td>Australia</td>\n",
       "    </tr>\n",
       "    <tr>\n",
       "      <th>182</th>\n",
       "      <td>C489449</td>\n",
       "      <td>22083</td>\n",
       "      <td>PAPER CHAIN KIT RETRO SPOT</td>\n",
       "      <td>-12</td>\n",
       "      <td>2009-12-01 10:33:00</td>\n",
       "      <td>2.95</td>\n",
       "      <td>16321.00</td>\n",
       "      <td>Australia</td>\n",
       "    </tr>\n",
       "    <tr>\n",
       "      <th>183</th>\n",
       "      <td>C489449</td>\n",
       "      <td>21871</td>\n",
       "      <td>SAVE THE PLANET MUG</td>\n",
       "      <td>-12</td>\n",
       "      <td>2009-12-01 10:33:00</td>\n",
       "      <td>1.25</td>\n",
       "      <td>16321.00</td>\n",
       "      <td>Australia</td>\n",
       "    </tr>\n",
       "    <tr>\n",
       "      <th>184</th>\n",
       "      <td>C489449</td>\n",
       "      <td>84946</td>\n",
       "      <td>ANTIQUE SILVER TEA GLASS ETCHED</td>\n",
       "      <td>-12</td>\n",
       "      <td>2009-12-01 10:33:00</td>\n",
       "      <td>1.25</td>\n",
       "      <td>16321.00</td>\n",
       "      <td>Australia</td>\n",
       "    </tr>\n",
       "    <tr>\n",
       "      <th>185</th>\n",
       "      <td>C489449</td>\n",
       "      <td>84970S</td>\n",
       "      <td>HANGING HEART ZINC T-LIGHT HOLDER</td>\n",
       "      <td>-24</td>\n",
       "      <td>2009-12-01 10:33:00</td>\n",
       "      <td>0.85</td>\n",
       "      <td>16321.00</td>\n",
       "      <td>Australia</td>\n",
       "    </tr>\n",
       "    <tr>\n",
       "      <th>186</th>\n",
       "      <td>C489449</td>\n",
       "      <td>22090</td>\n",
       "      <td>PAPER BUNTING RETRO SPOTS</td>\n",
       "      <td>-12</td>\n",
       "      <td>2009-12-01 10:33:00</td>\n",
       "      <td>2.95</td>\n",
       "      <td>16321.00</td>\n",
       "      <td>Australia</td>\n",
       "    </tr>\n",
       "    <tr>\n",
       "      <th>196</th>\n",
       "      <td>C489459</td>\n",
       "      <td>90200A</td>\n",
       "      <td>PURPLE SWEETHEART BRACELET</td>\n",
       "      <td>-3</td>\n",
       "      <td>2009-12-01 10:44:00</td>\n",
       "      <td>4.25</td>\n",
       "      <td>17592.00</td>\n",
       "      <td>United Kingdom</td>\n",
       "    </tr>\n",
       "  </tbody>\n",
       "</table>\n",
       "</div>"
      ],
      "text/plain": [
       "     Invoice StockCode                        Description  Quantity  \\\n",
       "178  C489449     22087           PAPER BUNTING WHITE LACE       -12   \n",
       "179  C489449    85206A       CREAM FELT EASTER EGG BASKET        -6   \n",
       "180  C489449     21895      POTTING SHED SOW 'N' GROW SET        -4   \n",
       "181  C489449     21896                 POTTING SHED TWINE        -6   \n",
       "182  C489449     22083         PAPER CHAIN KIT RETRO SPOT       -12   \n",
       "183  C489449     21871                SAVE THE PLANET MUG       -12   \n",
       "184  C489449     84946    ANTIQUE SILVER TEA GLASS ETCHED       -12   \n",
       "185  C489449    84970S  HANGING HEART ZINC T-LIGHT HOLDER       -24   \n",
       "186  C489449     22090          PAPER BUNTING RETRO SPOTS       -12   \n",
       "196  C489459    90200A         PURPLE SWEETHEART BRACELET        -3   \n",
       "\n",
       "            InvoiceDate                Price          Customer ID  \\\n",
       "178 2009-12-01 10:33:00                 2.95             16321.00   \n",
       "179 2009-12-01 10:33:00                 1.65             16321.00   \n",
       "180 2009-12-01 10:33:00                 4.25             16321.00   \n",
       "181 2009-12-01 10:33:00                 2.10             16321.00   \n",
       "182 2009-12-01 10:33:00                 2.95             16321.00   \n",
       "183 2009-12-01 10:33:00                 1.25             16321.00   \n",
       "184 2009-12-01 10:33:00                 1.25             16321.00   \n",
       "185 2009-12-01 10:33:00                 0.85             16321.00   \n",
       "186 2009-12-01 10:33:00                 2.95             16321.00   \n",
       "196 2009-12-01 10:44:00                 4.25             17592.00   \n",
       "\n",
       "            Country  \n",
       "178       Australia  \n",
       "179       Australia  \n",
       "180       Australia  \n",
       "181       Australia  \n",
       "182       Australia  \n",
       "183       Australia  \n",
       "184       Australia  \n",
       "185       Australia  \n",
       "186       Australia  \n",
       "196  United Kingdom  "
      ]
     },
     "execution_count": 16,
     "metadata": {},
     "output_type": "execute_result"
    }
   ],
   "source": [
    "df[df[\"Quantity\"] < 0].head(10)"
   ]
  },
  {
   "cell_type": "code",
   "execution_count": 17,
   "id": "1d944d82",
   "metadata": {},
   "outputs": [
    {
     "data": {
      "application/vnd.microsoft.datawrangler.viewer.v0+json": {
       "columns": [
        {
         "name": "index",
         "rawType": "int64",
         "type": "integer"
        },
        {
         "name": "Invoice",
         "rawType": "object",
         "type": "string"
        },
        {
         "name": "StockCode",
         "rawType": "object",
         "type": "unknown"
        },
        {
         "name": "Description",
         "rawType": "object",
         "type": "string"
        },
        {
         "name": "Quantity",
         "rawType": "int64",
         "type": "integer"
        },
        {
         "name": "InvoiceDate",
         "rawType": "datetime64[ns]",
         "type": "datetime"
        },
        {
         "name": "Price",
         "rawType": "float64",
         "type": "float"
        },
        {
         "name": "Customer ID",
         "rawType": "float64",
         "type": "float"
        },
        {
         "name": "Country",
         "rawType": "object",
         "type": "string"
        }
       ],
       "conversionMethod": "pd.DataFrame",
       "ref": "5f6fcbff-d85d-4c86-8d66-20e2c78997e2",
       "rows": [
        [
         "178",
         "C489449",
         "22087",
         "PAPER BUNTING WHITE LACE",
         "-12",
         "2009-12-01 10:33:00",
         "2.95",
         "16321.0",
         "Australia"
        ],
        [
         "179",
         "C489449",
         "85206A",
         "CREAM FELT EASTER EGG BASKET",
         "-6",
         "2009-12-01 10:33:00",
         "1.65",
         "16321.0",
         "Australia"
        ],
        [
         "180",
         "C489449",
         "21895",
         "POTTING SHED SOW 'N' GROW SET",
         "-4",
         "2009-12-01 10:33:00",
         "4.25",
         "16321.0",
         "Australia"
        ],
        [
         "181",
         "C489449",
         "21896",
         "POTTING SHED TWINE",
         "-6",
         "2009-12-01 10:33:00",
         "2.1",
         "16321.0",
         "Australia"
        ],
        [
         "182",
         "C489449",
         "22083",
         "PAPER CHAIN KIT RETRO SPOT",
         "-12",
         "2009-12-01 10:33:00",
         "2.95",
         "16321.0",
         "Australia"
        ],
        [
         "183",
         "C489449",
         "21871",
         "SAVE THE PLANET MUG",
         "-12",
         "2009-12-01 10:33:00",
         "1.25",
         "16321.0",
         "Australia"
        ],
        [
         "184",
         "C489449",
         "84946",
         "ANTIQUE SILVER TEA GLASS ETCHED",
         "-12",
         "2009-12-01 10:33:00",
         "1.25",
         "16321.0",
         "Australia"
        ],
        [
         "185",
         "C489449",
         "84970S",
         "HANGING HEART ZINC T-LIGHT HOLDER",
         "-24",
         "2009-12-01 10:33:00",
         "0.85",
         "16321.0",
         "Australia"
        ],
        [
         "186",
         "C489449",
         "22090",
         "PAPER BUNTING RETRO SPOTS",
         "-12",
         "2009-12-01 10:33:00",
         "2.95",
         "16321.0",
         "Australia"
        ],
        [
         "196",
         "C489459",
         "90200A",
         "PURPLE SWEETHEART BRACELET",
         "-3",
         "2009-12-01 10:44:00",
         "4.25",
         "17592.0",
         "United Kingdom"
        ],
        [
         "197",
         "C489459",
         "90200D",
         "PINK SWEETHEART BRACELET",
         "-3",
         "2009-12-01 10:44:00",
         "4.25",
         "17592.0",
         "United Kingdom"
        ],
        [
         "198",
         "C489459",
         "90200B",
         "BLACK SWEETHEART BRACELET",
         "-3",
         "2009-12-01 10:44:00",
         "4.25",
         "17592.0",
         "United Kingdom"
        ],
        [
         "199",
         "C489459",
         "90200E",
         "GREEN SWEETHEART BRACELET",
         "-3",
         "2009-12-01 10:44:00",
         "4.25",
         "17592.0",
         "United Kingdom"
        ],
        [
         "200",
         "C489459",
         "90200C",
         "BLUE SWEETHEART BRACELET",
         "-3",
         "2009-12-01 10:44:00",
         "4.25",
         "17592.0",
         "United Kingdom"
        ],
        [
         "201",
         "C489459",
         "90185C",
         "BLACK DIAMANTE EXPANDABLE RING",
         "-3",
         "2009-12-01 10:44:00",
         "4.25",
         "17592.0",
         "United Kingdom"
        ],
        [
         "202",
         "C489459",
         "90185B",
         "AMETHYST DIAMANTE EXPANDABLE RING",
         "-3",
         "2009-12-01 10:44:00",
         "4.25",
         "17592.0",
         "United Kingdom"
        ],
        [
         "203",
         "C489459",
         "90003C",
         "MIDNIGHT BLUE PAIR HEART HAIR SLIDE",
         "-3",
         "2009-12-01 10:44:00",
         "3.75",
         "17592.0",
         "United Kingdom"
        ],
        [
         "204",
         "C489459",
         "90003D",
         "CRYSTAL PAIR HEART HAIR SLIDES",
         "-3",
         "2009-12-01 10:44:00",
         "3.75",
         "17592.0",
         "United Kingdom"
        ],
        [
         "205",
         "C489459",
         "90003B",
         "ROSE COLOUR PAIR HEART HAIR SLIDES",
         "-3",
         "2009-12-01 10:44:00",
         "3.75",
         "17592.0",
         "United Kingdom"
        ],
        [
         "206",
         "C489459",
         "90209C",
         "PINK ENAMEL+GLASS HAIR COMB",
         "-3",
         "2009-12-01 10:44:00",
         "2.1",
         "17592.0",
         "United Kingdom"
        ],
        [
         "207",
         "C489459",
         "90209A",
         "PURPLE ENAMEL+GLASS HAIR COMB",
         "-3",
         "2009-12-01 10:44:00",
         "2.1",
         "17592.0",
         "United Kingdom"
        ],
        [
         "208",
         "C489459",
         "90082D",
         "DIAMANTE BOW BROOCH BLACK COLOUR",
         "-2",
         "2009-12-01 10:44:00",
         "6.35",
         "17592.0",
         "United Kingdom"
        ],
        [
         "285",
         "C489476",
         "22149",
         "FELTCRAFT 6 FLOWER FRIENDS",
         "-6",
         "2009-12-01 10:55:00",
         "2.1",
         "13293.0",
         "United Kingdom"
        ],
        [
         "316",
         "C489503",
         "21540",
         "DAIRY MAID CERAMIC BUTTER DISH",
         "-2",
         "2009-12-01 11:04:00",
         "4.25",
         "16011.0",
         "United Kingdom"
        ],
        [
         "317",
         "C489503",
         "21533",
         "RETRO SPOT LARGE MILK JUG",
         "-1",
         "2009-12-01 11:04:00",
         "4.95",
         "16011.0",
         "United Kingdom"
        ],
        [
         "318",
         "C489504",
         "85083",
         "KISS REINDEER SCANDINAVIAN STOCKING",
         "-6",
         "2009-12-01 11:10:00",
         "2.55",
         "13916.0",
         "United Kingdom"
        ],
        [
         "399",
         "C489518",
         "20892",
         "SET/3 TALL GLASS CANDLE HOLDER PINK",
         "-2",
         "2009-12-01 11:35:00",
         "12.75",
         "15461.0",
         "United Kingdom"
        ],
        [
         "400",
         "C489518",
         "85048",
         "15CM CHRISTMAS GLASS BALL 20 LIGHTS",
         "-1",
         "2009-12-01 11:35:00",
         "7.95",
         "15461.0",
         "United Kingdom"
        ],
        [
         "401",
         "C489518",
         "22138",
         "BAKING SET 9 PIECE RETROSPOT ",
         "-1",
         "2009-12-01 11:35:00",
         "4.95",
         "15461.0",
         "United Kingdom"
        ],
        [
         "576",
         "C489524",
         "21258",
         "VICTORIAN SEWING BOX LARGE",
         "-1",
         "2009-12-01 11:48:00",
         "12.75",
         "15614.0",
         "United Kingdom"
        ],
        [
         "589",
         "C489527",
         "21041",
         "RED SPOTTY OVEN GLOVE DOUBLE",
         "-3",
         "2009-12-01 11:50:00",
         "2.95",
         "16128.0",
         "United Kingdom"
        ],
        [
         "590",
         "C489527",
         "21173",
         "LOO ROLL  METAL SIGN ",
         "-12",
         "2009-12-01 11:50:00",
         "1.65",
         "16128.0",
         "United Kingdom"
        ],
        [
         "591",
         "C489527",
         "85124A",
         "PINK JUICY FRUIT PHOTO FRAME",
         "-6",
         "2009-12-01 11:50:00",
         "2.55",
         "16128.0",
         "United Kingdom"
        ],
        [
         "626",
         "C489528",
         "85048",
         "15CM CHRISTMAS GLASS BALL 20 LIGHTS",
         "-1",
         "2009-12-01 11:50:00",
         "7.95",
         "16714.0",
         "United Kingdom"
        ],
        [
         "677",
         "C489530",
         "72803A",
         "ROSE SCENT CANDLE JEWELLED DRAWER",
         "-1",
         "2009-12-01 11:56:00",
         "4.25",
         "14748.0",
         "United Kingdom"
        ],
        [
         "734",
         "C489534",
         "35832",
         "WOOLLY HAT SOCK GLOVE ADVENT STRING",
         "-1",
         "2009-12-01 12:09:00",
         "5.95",
         "12615.0",
         "France"
        ],
        [
         "735",
         "C489535",
         "D",
         "Discount",
         "-1",
         "2009-12-01 12:11:00",
         "9.0",
         "15299.0",
         "United Kingdom"
        ],
        [
         "736",
         "C489535",
         "D",
         "Discount",
         "-1",
         "2009-12-01 12:11:00",
         "19.0",
         "15299.0",
         "United Kingdom"
        ],
        [
         "926",
         "C489538",
         "22183",
         "CAKE STAND VICTORIAN FILIGREE MED",
         "-4",
         "2009-12-01 12:18:00",
         "6.75",
         "15796.0",
         "United Kingdom"
        ],
        [
         "927",
         "C489538",
         "POST",
         "POSTAGE",
         "-1",
         "2009-12-01 12:18:00",
         "9.58",
         "15796.0",
         "United Kingdom"
        ],
        [
         "933",
         "C489541",
         "21254",
         "SET OF KITCHEN WALL  STICKERS",
         "-4",
         "2009-12-01 12:18:00",
         "2.95",
         "15091.0",
         "United Kingdom"
        ],
        [
         "953",
         "C489543",
         "35400",
         "WOODEN BOX ADVENT CALENDAR ",
         "-2",
         "2009-12-01 12:19:00",
         "8.95",
         "14292.0",
         "United Kingdom"
        ],
        [
         "1110",
         "C489549",
         "35400",
         "WOODEN BOX ADVENT CALENDAR ",
         "-2",
         "2009-12-01 12:33:00",
         "7.95",
         "13768.0",
         "United Kingdom"
        ],
        [
         "1134",
         "C489551",
         "85048",
         "15CM CHRISTMAS GLASS BALL 20 LIGHTS",
         "-1",
         "2009-12-01 12:35:00",
         "6.95",
         "17641.0",
         "United Kingdom"
        ],
        [
         "1160",
         "C489553",
         "35004S",
         "SET OF 3 SILVER FLYING DUCKS",
         "-1",
         "2009-12-01 12:41:00",
         "6.35",
         "13545.0",
         "United Kingdom"
        ],
        [
         "1161",
         "C489553",
         "35001W",
         "HAND OPEN SHAPE DECO.WHITE",
         "-6",
         "2009-12-01 12:41:00",
         "3.49",
         "13545.0",
         "United Kingdom"
        ],
        [
         "1162",
         "C489554",
         "85042",
         "ANTIQUE LILY FAIRY LIGHTS",
         "-3",
         "2009-12-01 12:43:00",
         "4.25",
         "13767.0",
         "United Kingdom"
        ],
        [
         "1163",
         "C489554",
         "35001B",
         "HAND OPEN SHAPE BLACK",
         "-2",
         "2009-12-01 12:43:00",
         "2.95",
         "13767.0",
         "United Kingdom"
        ],
        [
         "1164",
         "C489555",
         "21260",
         "FIRST AID TIN",
         "-6",
         "2009-12-01 12:44:00",
         "3.25",
         "16955.0",
         "United Kingdom"
        ],
        [
         "1353",
         "C489563",
         "90088",
         "CRYSTAL KEY+LOCK PHONE CHARM",
         "-24",
         "2009-12-01 13:09:00",
         "0.85",
         "13526.0",
         "United Kingdom"
        ]
       ],
       "shape": {
        "columns": 8,
        "rows": 10209
       }
      },
      "text/html": [
       "<div>\n",
       "<style scoped>\n",
       "    .dataframe tbody tr th:only-of-type {\n",
       "        vertical-align: middle;\n",
       "    }\n",
       "\n",
       "    .dataframe tbody tr th {\n",
       "        vertical-align: top;\n",
       "    }\n",
       "\n",
       "    .dataframe thead th {\n",
       "        text-align: right;\n",
       "    }\n",
       "</style>\n",
       "<table border=\"1\" class=\"dataframe\">\n",
       "  <thead>\n",
       "    <tr style=\"text-align: right;\">\n",
       "      <th></th>\n",
       "      <th>Invoice</th>\n",
       "      <th>StockCode</th>\n",
       "      <th>Description</th>\n",
       "      <th>Quantity</th>\n",
       "      <th>InvoiceDate</th>\n",
       "      <th>Price</th>\n",
       "      <th>Customer ID</th>\n",
       "      <th>Country</th>\n",
       "    </tr>\n",
       "  </thead>\n",
       "  <tbody>\n",
       "    <tr>\n",
       "      <th>178</th>\n",
       "      <td>C489449</td>\n",
       "      <td>22087</td>\n",
       "      <td>PAPER BUNTING WHITE LACE</td>\n",
       "      <td>-12</td>\n",
       "      <td>2009-12-01 10:33:00</td>\n",
       "      <td>2.95</td>\n",
       "      <td>16321.00</td>\n",
       "      <td>Australia</td>\n",
       "    </tr>\n",
       "    <tr>\n",
       "      <th>179</th>\n",
       "      <td>C489449</td>\n",
       "      <td>85206A</td>\n",
       "      <td>CREAM FELT EASTER EGG BASKET</td>\n",
       "      <td>-6</td>\n",
       "      <td>2009-12-01 10:33:00</td>\n",
       "      <td>1.65</td>\n",
       "      <td>16321.00</td>\n",
       "      <td>Australia</td>\n",
       "    </tr>\n",
       "    <tr>\n",
       "      <th>180</th>\n",
       "      <td>C489449</td>\n",
       "      <td>21895</td>\n",
       "      <td>POTTING SHED SOW 'N' GROW SET</td>\n",
       "      <td>-4</td>\n",
       "      <td>2009-12-01 10:33:00</td>\n",
       "      <td>4.25</td>\n",
       "      <td>16321.00</td>\n",
       "      <td>Australia</td>\n",
       "    </tr>\n",
       "    <tr>\n",
       "      <th>181</th>\n",
       "      <td>C489449</td>\n",
       "      <td>21896</td>\n",
       "      <td>POTTING SHED TWINE</td>\n",
       "      <td>-6</td>\n",
       "      <td>2009-12-01 10:33:00</td>\n",
       "      <td>2.10</td>\n",
       "      <td>16321.00</td>\n",
       "      <td>Australia</td>\n",
       "    </tr>\n",
       "    <tr>\n",
       "      <th>182</th>\n",
       "      <td>C489449</td>\n",
       "      <td>22083</td>\n",
       "      <td>PAPER CHAIN KIT RETRO SPOT</td>\n",
       "      <td>-12</td>\n",
       "      <td>2009-12-01 10:33:00</td>\n",
       "      <td>2.95</td>\n",
       "      <td>16321.00</td>\n",
       "      <td>Australia</td>\n",
       "    </tr>\n",
       "    <tr>\n",
       "      <th>...</th>\n",
       "      <td>...</td>\n",
       "      <td>...</td>\n",
       "      <td>...</td>\n",
       "      <td>...</td>\n",
       "      <td>...</td>\n",
       "      <td>...</td>\n",
       "      <td>...</td>\n",
       "      <td>...</td>\n",
       "    </tr>\n",
       "    <tr>\n",
       "      <th>524695</th>\n",
       "      <td>C538123</td>\n",
       "      <td>22956</td>\n",
       "      <td>36 FOIL HEART CAKE CASES</td>\n",
       "      <td>-2</td>\n",
       "      <td>2010-12-09 15:41:00</td>\n",
       "      <td>2.10</td>\n",
       "      <td>12605.00</td>\n",
       "      <td>Germany</td>\n",
       "    </tr>\n",
       "    <tr>\n",
       "      <th>524696</th>\n",
       "      <td>C538124</td>\n",
       "      <td>M</td>\n",
       "      <td>Manual</td>\n",
       "      <td>-4</td>\n",
       "      <td>2010-12-09 15:43:00</td>\n",
       "      <td>0.50</td>\n",
       "      <td>15329.00</td>\n",
       "      <td>United Kingdom</td>\n",
       "    </tr>\n",
       "    <tr>\n",
       "      <th>524697</th>\n",
       "      <td>C538124</td>\n",
       "      <td>22699</td>\n",
       "      <td>ROSES REGENCY TEACUP AND SAUCER</td>\n",
       "      <td>-1</td>\n",
       "      <td>2010-12-09 15:43:00</td>\n",
       "      <td>2.95</td>\n",
       "      <td>15329.00</td>\n",
       "      <td>United Kingdom</td>\n",
       "    </tr>\n",
       "    <tr>\n",
       "      <th>524698</th>\n",
       "      <td>C538124</td>\n",
       "      <td>22423</td>\n",
       "      <td>REGENCY CAKESTAND 3 TIER</td>\n",
       "      <td>-1</td>\n",
       "      <td>2010-12-09 15:43:00</td>\n",
       "      <td>12.75</td>\n",
       "      <td>15329.00</td>\n",
       "      <td>United Kingdom</td>\n",
       "    </tr>\n",
       "    <tr>\n",
       "      <th>525282</th>\n",
       "      <td>C538164</td>\n",
       "      <td>35004B</td>\n",
       "      <td>SET OF 3 BLACK FLYING DUCKS</td>\n",
       "      <td>-1</td>\n",
       "      <td>2010-12-09 17:32:00</td>\n",
       "      <td>1.95</td>\n",
       "      <td>14031.00</td>\n",
       "      <td>United Kingdom</td>\n",
       "    </tr>\n",
       "  </tbody>\n",
       "</table>\n",
       "<p>10209 rows × 8 columns</p>\n",
       "</div>"
      ],
      "text/plain": [
       "        Invoice StockCode                       Description  Quantity  \\\n",
       "178     C489449     22087          PAPER BUNTING WHITE LACE       -12   \n",
       "179     C489449    85206A      CREAM FELT EASTER EGG BASKET        -6   \n",
       "180     C489449     21895     POTTING SHED SOW 'N' GROW SET        -4   \n",
       "181     C489449     21896                POTTING SHED TWINE        -6   \n",
       "182     C489449     22083        PAPER CHAIN KIT RETRO SPOT       -12   \n",
       "...         ...       ...                               ...       ...   \n",
       "524695  C538123     22956          36 FOIL HEART CAKE CASES        -2   \n",
       "524696  C538124         M                            Manual        -4   \n",
       "524697  C538124     22699  ROSES REGENCY TEACUP AND SAUCER         -1   \n",
       "524698  C538124     22423          REGENCY CAKESTAND 3 TIER        -1   \n",
       "525282  C538164    35004B       SET OF 3 BLACK FLYING DUCKS        -1   \n",
       "\n",
       "               InvoiceDate                Price          Customer ID  \\\n",
       "178    2009-12-01 10:33:00                 2.95             16321.00   \n",
       "179    2009-12-01 10:33:00                 1.65             16321.00   \n",
       "180    2009-12-01 10:33:00                 4.25             16321.00   \n",
       "181    2009-12-01 10:33:00                 2.10             16321.00   \n",
       "182    2009-12-01 10:33:00                 2.95             16321.00   \n",
       "...                    ...                  ...                  ...   \n",
       "524695 2010-12-09 15:41:00                 2.10             12605.00   \n",
       "524696 2010-12-09 15:43:00                 0.50             15329.00   \n",
       "524697 2010-12-09 15:43:00                 2.95             15329.00   \n",
       "524698 2010-12-09 15:43:00                12.75             15329.00   \n",
       "525282 2010-12-09 17:32:00                 1.95             14031.00   \n",
       "\n",
       "               Country  \n",
       "178          Australia  \n",
       "179          Australia  \n",
       "180          Australia  \n",
       "181          Australia  \n",
       "182          Australia  \n",
       "...                ...  \n",
       "524695         Germany  \n",
       "524696  United Kingdom  \n",
       "524697  United Kingdom  \n",
       "524698  United Kingdom  \n",
       "525282  United Kingdom  \n",
       "\n",
       "[10209 rows x 8 columns]"
      ]
     },
     "execution_count": 17,
     "metadata": {},
     "output_type": "execute_result"
    }
   ],
   "source": [
    "df[\"Invoice\"] = df[\"Invoice\"].astype(\"str\")\n",
    "df[df[\"Invoice\"].str.match(\"^\\\\d{6}$\") == False]"
   ]
  },
  {
   "cell_type": "code",
   "execution_count": 18,
   "id": "c46704c7",
   "metadata": {},
   "outputs": [
    {
     "data": {
      "text/plain": [
       "array(['', 'C', 'A'], dtype=object)"
      ]
     },
     "execution_count": 18,
     "metadata": {},
     "output_type": "execute_result"
    }
   ],
   "source": [
    "df[\"Invoice\"].str.replace(\"[0-9]\", \"\", regex=True).unique()"
   ]
  },
  {
   "cell_type": "code",
   "execution_count": 19,
   "id": "f4d7f4fc",
   "metadata": {},
   "outputs": [
    {
     "data": {
      "application/vnd.microsoft.datawrangler.viewer.v0+json": {
       "columns": [
        {
         "name": "index",
         "rawType": "int64",
         "type": "integer"
        },
        {
         "name": "Invoice",
         "rawType": "object",
         "type": "string"
        },
        {
         "name": "StockCode",
         "rawType": "object",
         "type": "string"
        },
        {
         "name": "Description",
         "rawType": "object",
         "type": "string"
        },
        {
         "name": "Quantity",
         "rawType": "int64",
         "type": "integer"
        },
        {
         "name": "InvoiceDate",
         "rawType": "datetime64[ns]",
         "type": "datetime"
        },
        {
         "name": "Price",
         "rawType": "float64",
         "type": "float"
        },
        {
         "name": "Customer ID",
         "rawType": "float64",
         "type": "float"
        },
        {
         "name": "Country",
         "rawType": "object",
         "type": "string"
        }
       ],
       "conversionMethod": "pd.DataFrame",
       "ref": "6db9103b-2693-47c8-b0c3-8784f06b8f34",
       "rows": [
        [
         "179403",
         "A506401",
         "B",
         "Adjust bad debt",
         "1",
         "2010-04-29 13:36:00",
         "-53594.36",
         null,
         "United Kingdom"
        ],
        [
         "276274",
         "A516228",
         "B",
         "Adjust bad debt",
         "1",
         "2010-07-19 11:24:00",
         "-44031.79",
         null,
         "United Kingdom"
        ],
        [
         "403472",
         "A528059",
         "B",
         "Adjust bad debt",
         "1",
         "2010-10-20 12:04:00",
         "-38925.87",
         null,
         "United Kingdom"
        ]
       ],
       "shape": {
        "columns": 8,
        "rows": 3
       }
      },
      "text/html": [
       "<div>\n",
       "<style scoped>\n",
       "    .dataframe tbody tr th:only-of-type {\n",
       "        vertical-align: middle;\n",
       "    }\n",
       "\n",
       "    .dataframe tbody tr th {\n",
       "        vertical-align: top;\n",
       "    }\n",
       "\n",
       "    .dataframe thead th {\n",
       "        text-align: right;\n",
       "    }\n",
       "</style>\n",
       "<table border=\"1\" class=\"dataframe\">\n",
       "  <thead>\n",
       "    <tr style=\"text-align: right;\">\n",
       "      <th></th>\n",
       "      <th>Invoice</th>\n",
       "      <th>StockCode</th>\n",
       "      <th>Description</th>\n",
       "      <th>Quantity</th>\n",
       "      <th>InvoiceDate</th>\n",
       "      <th>Price</th>\n",
       "      <th>Customer ID</th>\n",
       "      <th>Country</th>\n",
       "    </tr>\n",
       "  </thead>\n",
       "  <tbody>\n",
       "    <tr>\n",
       "      <th>179403</th>\n",
       "      <td>A506401</td>\n",
       "      <td>B</td>\n",
       "      <td>Adjust bad debt</td>\n",
       "      <td>1</td>\n",
       "      <td>2010-04-29 13:36:00</td>\n",
       "      <td>-53594.36</td>\n",
       "      <td>NaN</td>\n",
       "      <td>United Kingdom</td>\n",
       "    </tr>\n",
       "    <tr>\n",
       "      <th>276274</th>\n",
       "      <td>A516228</td>\n",
       "      <td>B</td>\n",
       "      <td>Adjust bad debt</td>\n",
       "      <td>1</td>\n",
       "      <td>2010-07-19 11:24:00</td>\n",
       "      <td>-44031.79</td>\n",
       "      <td>NaN</td>\n",
       "      <td>United Kingdom</td>\n",
       "    </tr>\n",
       "    <tr>\n",
       "      <th>403472</th>\n",
       "      <td>A528059</td>\n",
       "      <td>B</td>\n",
       "      <td>Adjust bad debt</td>\n",
       "      <td>1</td>\n",
       "      <td>2010-10-20 12:04:00</td>\n",
       "      <td>-38925.87</td>\n",
       "      <td>NaN</td>\n",
       "      <td>United Kingdom</td>\n",
       "    </tr>\n",
       "  </tbody>\n",
       "</table>\n",
       "</div>"
      ],
      "text/plain": [
       "        Invoice StockCode      Description  Quantity         InvoiceDate  \\\n",
       "179403  A506401         B  Adjust bad debt         1 2010-04-29 13:36:00   \n",
       "276274  A516228         B  Adjust bad debt         1 2010-07-19 11:24:00   \n",
       "403472  A528059         B  Adjust bad debt         1 2010-10-20 12:04:00   \n",
       "\n",
       "                      Price  Customer ID         Country  \n",
       "179403            -53594.36          NaN  United Kingdom  \n",
       "276274            -44031.79          NaN  United Kingdom  \n",
       "403472            -38925.87          NaN  United Kingdom  "
      ]
     },
     "execution_count": 19,
     "metadata": {},
     "output_type": "execute_result"
    }
   ],
   "source": [
    "df[df[\"Invoice\"].str.startswith(\"A\")]"
   ]
  },
  {
   "cell_type": "code",
   "execution_count": 20,
   "id": "364e7f3a",
   "metadata": {},
   "outputs": [
    {
     "data": {
      "text/plain": [
       "array(['POST', 'D', 'DCGS0058', 'DCGS0068', 'DOT', 'M', 'DCGS0004',\n",
       "       'DCGS0076', 'C2', 'BANK CHARGES', 'DCGS0003', 'TEST001',\n",
       "       'gift_0001_80', 'DCGS0072', 'gift_0001_20', 'DCGS0044', 'TEST002',\n",
       "       'gift_0001_10', 'gift_0001_50', 'DCGS0066N', 'gift_0001_30',\n",
       "       'PADS', 'ADJUST', 'gift_0001_40', 'gift_0001_60', 'gift_0001_70',\n",
       "       'gift_0001_90', 'DCGSSGIRL', 'DCGS0006', 'DCGS0016', 'DCGS0027',\n",
       "       'DCGS0036', 'DCGS0039', 'DCGS0060', 'DCGS0056', 'DCGS0059', 'GIFT',\n",
       "       'DCGSLBOY', 'm', 'DCGS0053', 'DCGS0062', 'DCGS0037', 'DCGSSBOY',\n",
       "       'DCGSLGIRL', 'S', 'DCGS0069', 'DCGS0070', 'DCGS0075', 'B',\n",
       "       'DCGS0041', 'ADJUST2', '47503J ', 'C3', 'SP1002', 'AMAZONFEE'],\n",
       "      dtype=object)"
      ]
     },
     "execution_count": 20,
     "metadata": {},
     "output_type": "execute_result"
    }
   ],
   "source": [
    "df[\"StockCode\"] = df[\"StockCode\"].astype(\"str\")\n",
    "df[(df[\"StockCode\"].str.match(\"^\\\\d{5}$\") == False) & (df[\"StockCode\"].str.match(\"^\\\\d{5}[a-zA-Z]+$\") == False)][\"StockCode\"].unique()"
   ]
  },
  {
   "cell_type": "code",
   "execution_count": 21,
   "id": "545bf323",
   "metadata": {},
   "outputs": [
    {
     "data": {
      "application/vnd.microsoft.datawrangler.viewer.v0+json": {
       "columns": [
        {
         "name": "index",
         "rawType": "int64",
         "type": "integer"
        },
        {
         "name": "Invoice",
         "rawType": "object",
         "type": "string"
        },
        {
         "name": "StockCode",
         "rawType": "object",
         "type": "string"
        },
        {
         "name": "Description",
         "rawType": "object",
         "type": "unknown"
        },
        {
         "name": "Quantity",
         "rawType": "int64",
         "type": "integer"
        },
        {
         "name": "InvoiceDate",
         "rawType": "datetime64[ns]",
         "type": "datetime"
        },
        {
         "name": "Price",
         "rawType": "float64",
         "type": "float"
        },
        {
         "name": "Customer ID",
         "rawType": "float64",
         "type": "float"
        },
        {
         "name": "Country",
         "rawType": "object",
         "type": "string"
        }
       ],
       "conversionMethod": "pd.DataFrame",
       "ref": "4875b203-a9b3-4833-a538-f7593cea333c",
       "rows": [
        [
         "2379",
         "489597",
         "DOT",
         "DOTCOM POSTAGE",
         "1",
         "2009-12-01 14:28:00",
         "647.19",
         null,
         "United Kingdom"
        ],
        [
         "2539",
         "489600",
         "DOT",
         "DOTCOM POSTAGE",
         "1",
         "2009-12-01 14:43:00",
         "55.96",
         null,
         "United Kingdom"
        ],
        [
         "2551",
         "489601",
         "DOT",
         "DOTCOM POSTAGE",
         "1",
         "2009-12-01 14:44:00",
         "68.39",
         null,
         "United Kingdom"
        ],
        [
         "2571",
         "489602",
         "DOT",
         "DOTCOM POSTAGE",
         "1",
         "2009-12-01 14:45:00",
         "59.35",
         null,
         "United Kingdom"
        ],
        [
         "2619",
         "489603",
         "DOT",
         "DOTCOM POSTAGE",
         "1",
         "2009-12-01 14:46:00",
         "42.39",
         null,
         "United Kingdom"
        ],
        [
         "2644",
         "489604",
         "DOT",
         "DOTCOM POSTAGE",
         "1",
         "2009-12-01 14:47:00",
         "50.87",
         null,
         "United Kingdom"
        ],
        [
         "2686",
         "489607",
         "DOT",
         "DOTCOM POSTAGE",
         "1",
         "2009-12-01 14:49:00",
         "76.3",
         null,
         "United Kingdom"
        ],
        [
         "2698",
         "489609",
         "DOT",
         "DOTCOM POSTAGE",
         "1",
         "2009-12-01 14:50:00",
         "74.61",
         null,
         "United Kingdom"
        ],
        [
         "2771",
         "489612",
         "DOT",
         "DOTCOM POSTAGE",
         "1",
         "2009-12-01 14:55:00",
         "87.39",
         null,
         "United Kingdom"
        ],
        [
         "2806",
         "489614",
         "DOT",
         "DOTCOM POSTAGE",
         "1",
         "2009-12-01 14:56:00",
         "80.3",
         null,
         "United Kingdom"
        ],
        [
         "2820",
         "489615",
         "DOT",
         "DOTCOM POSTAGE",
         "1",
         "2009-12-01 14:56:00",
         "77.13",
         null,
         "United Kingdom"
        ],
        [
         "2843",
         "489616",
         "DOT",
         "DOTCOM POSTAGE",
         "1",
         "2009-12-01 14:58:00",
         "83.74",
         null,
         "United Kingdom"
        ],
        [
         "5063",
         "489856",
         "DOT",
         "DOTCOM POSTAGE",
         "1",
         "2009-12-02 14:36:00",
         "470.24",
         null,
         "United Kingdom"
        ],
        [
         "5407",
         "489857",
         "DOT",
         "DOTCOM POSTAGE",
         "1",
         "2009-12-02 14:43:00",
         "775.24",
         null,
         "United Kingdom"
        ],
        [
         "5904",
         "489861",
         "DOT",
         "DOTCOM POSTAGE",
         "1",
         "2009-12-02 14:50:00",
         "0.0",
         null,
         "United Kingdom"
        ],
        [
         "8374",
         "490074",
         "DOT",
         "DOTCOM POSTAGE",
         "1",
         "2009-12-03 14:39:00",
         "862.67",
         null,
         "United Kingdom"
        ],
        [
         "9701",
         "490149",
         "DOT",
         "DOTCOM POSTAGE",
         "1",
         "2009-12-04 09:43:00",
         "922.05",
         null,
         "United Kingdom"
        ],
        [
         "16427",
         "490741",
         "DOT",
         "DOTCOM POSTAGE",
         "1",
         "2009-12-07 17:56:00",
         "862.38",
         null,
         "United Kingdom"
        ],
        [
         "17266",
         "490745",
         "DOT",
         "DOTCOM POSTAGE",
         "1",
         "2009-12-07 18:02:00",
         "630.36",
         null,
         "United Kingdom"
        ],
        [
         "19095",
         "490963",
         "DOT",
         "DOTCOM POSTAGE",
         "1",
         "2009-12-08 15:49:00",
         "560.87",
         null,
         "United Kingdom"
        ],
        [
         "20250",
         "491041",
         "DOT",
         "DOTCOM POSTAGE",
         "1",
         "2009-12-09 09:42:00",
         "483.14",
         null,
         "United Kingdom"
        ],
        [
         "20325",
         "491043",
         "DOT",
         "DOTCOM POSTAGE",
         "1",
         "2009-12-09 09:51:00",
         "660.21",
         null,
         "United Kingdom"
        ],
        [
         "22617",
         "491155",
         "DOT",
         "DOTCOM POSTAGE",
         "1",
         "2009-12-10 09:49:00",
         "810.57",
         null,
         "United Kingdom"
        ],
        [
         "30576",
         "491966",
         "DOT",
         "DOTCOM POSTAGE",
         "1",
         "2009-12-14 17:16:00",
         "815.01",
         null,
         "United Kingdom"
        ],
        [
         "30674",
         "491969",
         "DOT",
         "DOTCOM POSTAGE",
         "1",
         "2009-12-14 17:57:00",
         "882.72",
         null,
         "United Kingdom"
        ],
        [
         "31653",
         "491970",
         "DOT",
         "DOTCOM POSTAGE",
         "1",
         "2009-12-14 18:03:00",
         "602.14",
         null,
         "United Kingdom"
        ],
        [
         "32046",
         "491971",
         "DOT",
         "DOTCOM POSTAGE",
         "1",
         "2009-12-14 18:37:00",
         "632.06",
         null,
         "United Kingdom"
        ],
        [
         "33820",
         "492226",
         "DOT",
         "DOTCOM POSTAGE",
         "1",
         "2009-12-15 18:33:00",
         "500.13",
         null,
         "United Kingdom"
        ],
        [
         "34670",
         "492303",
         "DOT",
         "DOTCOM POSTAGE",
         "1",
         "2009-12-16 11:57:00",
         "637.09",
         null,
         "United Kingdom"
        ],
        [
         "36616",
         "492414",
         "DOT",
         "DOTCOM POSTAGE",
         "1",
         "2009-12-16 17:01:00",
         "945.56",
         null,
         "United Kingdom"
        ],
        [
         "37223",
         "492425",
         "DOT",
         "DOTCOM POSTAGE",
         "1",
         "2009-12-16 17:58:00",
         "753.98",
         null,
         "United Kingdom"
        ],
        [
         "40879",
         "492782",
         "DOT",
         "DOTCOM POSTAGE",
         "1",
         "2009-12-18 17:06:00",
         "692.24",
         null,
         "United Kingdom"
        ],
        [
         "41262",
         "492783",
         "DOT",
         "DOTCOM POSTAGE",
         "1",
         "2009-12-18 17:15:00",
         "604.12",
         null,
         "United Kingdom"
        ],
        [
         "42658",
         "493073",
         "DOT",
         "DOTCOM POSTAGE",
         "1",
         "2009-12-22 09:41:00",
         "440.9",
         null,
         "United Kingdom"
        ],
        [
         "43039",
         "493074",
         "DOT",
         "DOTCOM POSTAGE",
         "1",
         "2009-12-22 09:45:00",
         "287.02",
         null,
         "United Kingdom"
        ],
        [
         "43331",
         "493079",
         "DOT",
         "DOTCOM POSTAGE",
         "1",
         "2009-12-22 09:52:00",
         "467.05",
         null,
         "United Kingdom"
        ],
        [
         "43912",
         "493260",
         "DOT",
         "DOTCOM POSTAGE",
         "1",
         "2009-12-22 14:31:00",
         "429.14",
         null,
         "United Kingdom"
        ],
        [
         "44182",
         "493261",
         "DOT",
         "DOTCOM POSTAGE",
         "1",
         "2009-12-22 14:48:00",
         "88.48",
         null,
         "United Kingdom"
        ],
        [
         "44215",
         "493264",
         "DOT",
         "DOTCOM POSTAGE",
         "1",
         "2009-12-22 15:04:00",
         "123.96",
         null,
         "United Kingdom"
        ],
        [
         "44247",
         "493265",
         "DOT",
         "DOTCOM POSTAGE",
         "1",
         "2009-12-22 15:05:00",
         "167.52",
         null,
         "United Kingdom"
        ],
        [
         "44334",
         "493267",
         "DOT",
         "DOTCOM POSTAGE",
         "1",
         "2009-12-22 15:06:00",
         "122.3",
         null,
         "United Kingdom"
        ],
        [
         "44378",
         "493269",
         "DOT",
         "DOTCOM POSTAGE",
         "1",
         "2009-12-22 15:07:00",
         "114.26",
         null,
         "United Kingdom"
        ],
        [
         "44406",
         "493271",
         "DOT",
         "DOTCOM POSTAGE",
         "1",
         "2009-12-22 15:08:00",
         "102.52",
         null,
         "United Kingdom"
        ],
        [
         "44453",
         "493273",
         "DOT",
         "DOTCOM POSTAGE",
         "1",
         "2009-12-22 15:09:00",
         "155.35",
         null,
         "United Kingdom"
        ],
        [
         "44497",
         "493276",
         "DOT",
         "DOTCOM POSTAGE",
         "1",
         "2009-12-22 15:10:00",
         "110.22",
         null,
         "United Kingdom"
        ],
        [
         "44531",
         "493283",
         "DOT",
         "DOTCOM POSTAGE",
         "1",
         "2009-12-22 15:12:00",
         "136.52",
         null,
         "United Kingdom"
        ],
        [
         "44569",
         "493290",
         "DOT",
         "DOTCOM POSTAGE",
         "1",
         "2009-12-22 15:13:00",
         "3.43",
         null,
         "United Kingdom"
        ],
        [
         "44594",
         "493287",
         "DOT",
         "DOTCOM POSTAGE",
         "1",
         "2009-12-22 15:13:00",
         "100.7",
         null,
         "United Kingdom"
        ],
        [
         "44608",
         "493288",
         "DOT",
         "DOTCOM POSTAGE",
         "1",
         "2009-12-22 15:13:00",
         "34.13",
         null,
         "United Kingdom"
        ],
        [
         "45211",
         "493404",
         "DOT",
         "DOTCOM POSTAGE",
         "1",
         "2009-12-23 15:30:00",
         "184.68",
         null,
         "United Kingdom"
        ]
       ],
       "shape": {
        "columns": 8,
        "rows": 736
       }
      },
      "text/html": [
       "<div>\n",
       "<style scoped>\n",
       "    .dataframe tbody tr th:only-of-type {\n",
       "        vertical-align: middle;\n",
       "    }\n",
       "\n",
       "    .dataframe tbody tr th {\n",
       "        vertical-align: top;\n",
       "    }\n",
       "\n",
       "    .dataframe thead th {\n",
       "        text-align: right;\n",
       "    }\n",
       "</style>\n",
       "<table border=\"1\" class=\"dataframe\">\n",
       "  <thead>\n",
       "    <tr style=\"text-align: right;\">\n",
       "      <th></th>\n",
       "      <th>Invoice</th>\n",
       "      <th>StockCode</th>\n",
       "      <th>Description</th>\n",
       "      <th>Quantity</th>\n",
       "      <th>InvoiceDate</th>\n",
       "      <th>Price</th>\n",
       "      <th>Customer ID</th>\n",
       "      <th>Country</th>\n",
       "    </tr>\n",
       "  </thead>\n",
       "  <tbody>\n",
       "    <tr>\n",
       "      <th>2379</th>\n",
       "      <td>489597</td>\n",
       "      <td>DOT</td>\n",
       "      <td>DOTCOM POSTAGE</td>\n",
       "      <td>1</td>\n",
       "      <td>2009-12-01 14:28:00</td>\n",
       "      <td>647.19</td>\n",
       "      <td>NaN</td>\n",
       "      <td>United Kingdom</td>\n",
       "    </tr>\n",
       "    <tr>\n",
       "      <th>2539</th>\n",
       "      <td>489600</td>\n",
       "      <td>DOT</td>\n",
       "      <td>DOTCOM POSTAGE</td>\n",
       "      <td>1</td>\n",
       "      <td>2009-12-01 14:43:00</td>\n",
       "      <td>55.96</td>\n",
       "      <td>NaN</td>\n",
       "      <td>United Kingdom</td>\n",
       "    </tr>\n",
       "    <tr>\n",
       "      <th>2551</th>\n",
       "      <td>489601</td>\n",
       "      <td>DOT</td>\n",
       "      <td>DOTCOM POSTAGE</td>\n",
       "      <td>1</td>\n",
       "      <td>2009-12-01 14:44:00</td>\n",
       "      <td>68.39</td>\n",
       "      <td>NaN</td>\n",
       "      <td>United Kingdom</td>\n",
       "    </tr>\n",
       "    <tr>\n",
       "      <th>2571</th>\n",
       "      <td>489602</td>\n",
       "      <td>DOT</td>\n",
       "      <td>DOTCOM POSTAGE</td>\n",
       "      <td>1</td>\n",
       "      <td>2009-12-01 14:45:00</td>\n",
       "      <td>59.35</td>\n",
       "      <td>NaN</td>\n",
       "      <td>United Kingdom</td>\n",
       "    </tr>\n",
       "    <tr>\n",
       "      <th>2619</th>\n",
       "      <td>489603</td>\n",
       "      <td>DOT</td>\n",
       "      <td>DOTCOM POSTAGE</td>\n",
       "      <td>1</td>\n",
       "      <td>2009-12-01 14:46:00</td>\n",
       "      <td>42.39</td>\n",
       "      <td>NaN</td>\n",
       "      <td>United Kingdom</td>\n",
       "    </tr>\n",
       "    <tr>\n",
       "      <th>...</th>\n",
       "      <td>...</td>\n",
       "      <td>...</td>\n",
       "      <td>...</td>\n",
       "      <td>...</td>\n",
       "      <td>...</td>\n",
       "      <td>...</td>\n",
       "      <td>...</td>\n",
       "      <td>...</td>\n",
       "    </tr>\n",
       "    <tr>\n",
       "      <th>524272</th>\n",
       "      <td>538071</td>\n",
       "      <td>DOT</td>\n",
       "      <td>DOTCOM POSTAGE</td>\n",
       "      <td>1</td>\n",
       "      <td>2010-12-09 14:09:00</td>\n",
       "      <td>885.94</td>\n",
       "      <td>NaN</td>\n",
       "      <td>United Kingdom</td>\n",
       "    </tr>\n",
       "    <tr>\n",
       "      <th>524887</th>\n",
       "      <td>538148</td>\n",
       "      <td>DOT</td>\n",
       "      <td>DOTCOM POSTAGE</td>\n",
       "      <td>1</td>\n",
       "      <td>2010-12-09 16:26:00</td>\n",
       "      <td>547.32</td>\n",
       "      <td>NaN</td>\n",
       "      <td>United Kingdom</td>\n",
       "    </tr>\n",
       "    <tr>\n",
       "      <th>525000</th>\n",
       "      <td>538149</td>\n",
       "      <td>DOT</td>\n",
       "      <td>DOTCOM POSTAGE</td>\n",
       "      <td>1</td>\n",
       "      <td>2010-12-09 16:27:00</td>\n",
       "      <td>620.68</td>\n",
       "      <td>NaN</td>\n",
       "      <td>United Kingdom</td>\n",
       "    </tr>\n",
       "    <tr>\n",
       "      <th>525126</th>\n",
       "      <td>538153</td>\n",
       "      <td>DOT</td>\n",
       "      <td>DOTCOM POSTAGE</td>\n",
       "      <td>1</td>\n",
       "      <td>2010-12-09 16:31:00</td>\n",
       "      <td>822.94</td>\n",
       "      <td>NaN</td>\n",
       "      <td>United Kingdom</td>\n",
       "    </tr>\n",
       "    <tr>\n",
       "      <th>525147</th>\n",
       "      <td>538154</td>\n",
       "      <td>DOT</td>\n",
       "      <td>DOTCOM POSTAGE</td>\n",
       "      <td>1</td>\n",
       "      <td>2010-12-09 16:35:00</td>\n",
       "      <td>85.79</td>\n",
       "      <td>NaN</td>\n",
       "      <td>United Kingdom</td>\n",
       "    </tr>\n",
       "  </tbody>\n",
       "</table>\n",
       "<p>736 rows × 8 columns</p>\n",
       "</div>"
      ],
      "text/plain": [
       "       Invoice StockCode     Description  Quantity         InvoiceDate  \\\n",
       "2379    489597       DOT  DOTCOM POSTAGE         1 2009-12-01 14:28:00   \n",
       "2539    489600       DOT  DOTCOM POSTAGE         1 2009-12-01 14:43:00   \n",
       "2551    489601       DOT  DOTCOM POSTAGE         1 2009-12-01 14:44:00   \n",
       "2571    489602       DOT  DOTCOM POSTAGE         1 2009-12-01 14:45:00   \n",
       "2619    489603       DOT  DOTCOM POSTAGE         1 2009-12-01 14:46:00   \n",
       "...        ...       ...             ...       ...                 ...   \n",
       "524272  538071       DOT  DOTCOM POSTAGE         1 2010-12-09 14:09:00   \n",
       "524887  538148       DOT  DOTCOM POSTAGE         1 2010-12-09 16:26:00   \n",
       "525000  538149       DOT  DOTCOM POSTAGE         1 2010-12-09 16:27:00   \n",
       "525126  538153       DOT  DOTCOM POSTAGE         1 2010-12-09 16:31:00   \n",
       "525147  538154       DOT  DOTCOM POSTAGE         1 2010-12-09 16:35:00   \n",
       "\n",
       "                      Price  Customer ID         Country  \n",
       "2379                 647.19          NaN  United Kingdom  \n",
       "2539                  55.96          NaN  United Kingdom  \n",
       "2551                  68.39          NaN  United Kingdom  \n",
       "2571                  59.35          NaN  United Kingdom  \n",
       "2619                  42.39          NaN  United Kingdom  \n",
       "...                     ...          ...             ...  \n",
       "524272               885.94          NaN  United Kingdom  \n",
       "524887               547.32          NaN  United Kingdom  \n",
       "525000               620.68          NaN  United Kingdom  \n",
       "525126               822.94          NaN  United Kingdom  \n",
       "525147                85.79          NaN  United Kingdom  \n",
       "\n",
       "[736 rows x 8 columns]"
      ]
     },
     "execution_count": 21,
     "metadata": {},
     "output_type": "execute_result"
    }
   ],
   "source": [
    "df[df[\"StockCode\"].str.contains(\"^DOT\")]"
   ]
  },
  {
   "cell_type": "code",
   "execution_count": 22,
   "id": "8e9ba017",
   "metadata": {},
   "outputs": [
    {
     "data": {
      "application/vnd.microsoft.datawrangler.viewer.v0+json": {
       "columns": [
        {
         "name": "index",
         "rawType": "int64",
         "type": "integer"
        },
        {
         "name": "Invoice",
         "rawType": "object",
         "type": "string"
        },
        {
         "name": "StockCode",
         "rawType": "object",
         "type": "string"
        },
        {
         "name": "Description",
         "rawType": "object",
         "type": "string"
        },
        {
         "name": "Quantity",
         "rawType": "int64",
         "type": "integer"
        },
        {
         "name": "InvoiceDate",
         "rawType": "datetime64[ns]",
         "type": "datetime"
        },
        {
         "name": "Price",
         "rawType": "float64",
         "type": "float"
        },
        {
         "name": "Customer ID",
         "rawType": "float64",
         "type": "float"
        },
        {
         "name": "Country",
         "rawType": "object",
         "type": "string"
        }
       ],
       "conversionMethod": "pd.DataFrame",
       "ref": "d42f6693-a13f-4e96-9c9f-2ef0def917c1",
       "rows": [
        [
         "0",
         "489434",
         "85048",
         "15CM CHRISTMAS GLASS BALL 20 LIGHTS",
         "12",
         "2009-12-01 07:45:00",
         "6.95",
         "13085.0",
         "United Kingdom"
        ],
        [
         "1",
         "489434",
         "79323P",
         "PINK CHERRY LIGHTS",
         "12",
         "2009-12-01 07:45:00",
         "6.75",
         "13085.0",
         "United Kingdom"
        ],
        [
         "2",
         "489434",
         "79323W",
         " WHITE CHERRY LIGHTS",
         "12",
         "2009-12-01 07:45:00",
         "6.75",
         "13085.0",
         "United Kingdom"
        ],
        [
         "3",
         "489434",
         "22041",
         "RECORD FRAME 7\" SINGLE SIZE ",
         "48",
         "2009-12-01 07:45:00",
         "2.1",
         "13085.0",
         "United Kingdom"
        ],
        [
         "4",
         "489434",
         "21232",
         "STRAWBERRY CERAMIC TRINKET BOX",
         "24",
         "2009-12-01 07:45:00",
         "1.25",
         "13085.0",
         "United Kingdom"
        ]
       ],
       "shape": {
        "columns": 8,
        "rows": 5
       }
      },
      "text/html": [
       "<div>\n",
       "<style scoped>\n",
       "    .dataframe tbody tr th:only-of-type {\n",
       "        vertical-align: middle;\n",
       "    }\n",
       "\n",
       "    .dataframe tbody tr th {\n",
       "        vertical-align: top;\n",
       "    }\n",
       "\n",
       "    .dataframe thead th {\n",
       "        text-align: right;\n",
       "    }\n",
       "</style>\n",
       "<table border=\"1\" class=\"dataframe\">\n",
       "  <thead>\n",
       "    <tr style=\"text-align: right;\">\n",
       "      <th></th>\n",
       "      <th>Invoice</th>\n",
       "      <th>StockCode</th>\n",
       "      <th>Description</th>\n",
       "      <th>Quantity</th>\n",
       "      <th>InvoiceDate</th>\n",
       "      <th>Price</th>\n",
       "      <th>Customer ID</th>\n",
       "      <th>Country</th>\n",
       "    </tr>\n",
       "  </thead>\n",
       "  <tbody>\n",
       "    <tr>\n",
       "      <th>0</th>\n",
       "      <td>489434</td>\n",
       "      <td>85048</td>\n",
       "      <td>15CM CHRISTMAS GLASS BALL 20 LIGHTS</td>\n",
       "      <td>12</td>\n",
       "      <td>2009-12-01 07:45:00</td>\n",
       "      <td>6.95</td>\n",
       "      <td>13085.00</td>\n",
       "      <td>United Kingdom</td>\n",
       "    </tr>\n",
       "    <tr>\n",
       "      <th>1</th>\n",
       "      <td>489434</td>\n",
       "      <td>79323P</td>\n",
       "      <td>PINK CHERRY LIGHTS</td>\n",
       "      <td>12</td>\n",
       "      <td>2009-12-01 07:45:00</td>\n",
       "      <td>6.75</td>\n",
       "      <td>13085.00</td>\n",
       "      <td>United Kingdom</td>\n",
       "    </tr>\n",
       "    <tr>\n",
       "      <th>2</th>\n",
       "      <td>489434</td>\n",
       "      <td>79323W</td>\n",
       "      <td>WHITE CHERRY LIGHTS</td>\n",
       "      <td>12</td>\n",
       "      <td>2009-12-01 07:45:00</td>\n",
       "      <td>6.75</td>\n",
       "      <td>13085.00</td>\n",
       "      <td>United Kingdom</td>\n",
       "    </tr>\n",
       "    <tr>\n",
       "      <th>3</th>\n",
       "      <td>489434</td>\n",
       "      <td>22041</td>\n",
       "      <td>RECORD FRAME 7\" SINGLE SIZE</td>\n",
       "      <td>48</td>\n",
       "      <td>2009-12-01 07:45:00</td>\n",
       "      <td>2.10</td>\n",
       "      <td>13085.00</td>\n",
       "      <td>United Kingdom</td>\n",
       "    </tr>\n",
       "    <tr>\n",
       "      <th>4</th>\n",
       "      <td>489434</td>\n",
       "      <td>21232</td>\n",
       "      <td>STRAWBERRY CERAMIC TRINKET BOX</td>\n",
       "      <td>24</td>\n",
       "      <td>2009-12-01 07:45:00</td>\n",
       "      <td>1.25</td>\n",
       "      <td>13085.00</td>\n",
       "      <td>United Kingdom</td>\n",
       "    </tr>\n",
       "  </tbody>\n",
       "</table>\n",
       "</div>"
      ],
      "text/plain": [
       "  Invoice StockCode                          Description  Quantity  \\\n",
       "0  489434     85048  15CM CHRISTMAS GLASS BALL 20 LIGHTS        12   \n",
       "1  489434    79323P                   PINK CHERRY LIGHTS        12   \n",
       "2  489434    79323W                  WHITE CHERRY LIGHTS        12   \n",
       "3  489434     22041         RECORD FRAME 7\" SINGLE SIZE         48   \n",
       "4  489434     21232       STRAWBERRY CERAMIC TRINKET BOX        24   \n",
       "\n",
       "          InvoiceDate                Price          Customer ID  \\\n",
       "0 2009-12-01 07:45:00                 6.95             13085.00   \n",
       "1 2009-12-01 07:45:00                 6.75             13085.00   \n",
       "2 2009-12-01 07:45:00                 6.75             13085.00   \n",
       "3 2009-12-01 07:45:00                 2.10             13085.00   \n",
       "4 2009-12-01 07:45:00                 1.25             13085.00   \n",
       "\n",
       "          Country  \n",
       "0  United Kingdom  \n",
       "1  United Kingdom  \n",
       "2  United Kingdom  \n",
       "3  United Kingdom  \n",
       "4  United Kingdom  "
      ]
     },
     "execution_count": 22,
     "metadata": {},
     "output_type": "execute_result"
    }
   ],
   "source": [
    "df.head()"
   ]
  },
  {
   "cell_type": "markdown",
   "id": "52c9c8f2",
   "metadata": {},
   "source": [
    "# Data Cleaning"
   ]
  },
  {
   "cell_type": "code",
   "execution_count": null,
   "id": "568e162f",
   "metadata": {},
   "outputs": [],
   "source": []
  }
 ],
 "metadata": {
  "kernelspec": {
   "display_name": ".venv",
   "language": "python",
   "name": "python3"
  },
  "language_info": {
   "codemirror_mode": {
    "name": "ipython",
    "version": 3
   },
   "file_extension": ".py",
   "mimetype": "text/x-python",
   "name": "python",
   "nbconvert_exporter": "python",
   "pygments_lexer": "ipython3",
   "version": "3.11.11"
  }
 },
 "nbformat": 4,
 "nbformat_minor": 5
}
